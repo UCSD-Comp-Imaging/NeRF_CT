{
 "cells": [
  {
   "cell_type": "code",
   "execution_count": 17,
   "metadata": {},
   "outputs": [],
   "source": [
    "import os\n",
    "import glob\n",
    "import numpy as np\n",
    "import cv2\n",
    "import torch\n",
    "import warnings"
   ]
  },
  {
   "cell_type": "code",
   "execution_count": 18,
   "metadata": {},
   "outputs": [],
   "source": [
    "from utils.xyz import gamma, positional_encoder\n",
    "from utils.nets import Nerf"
   ]
  },
  {
   "cell_type": "code",
   "execution_count": 19,
   "metadata": {},
   "outputs": [
    {
     "ename": "RuntimeError",
     "evalue": "mat1 and mat2 shapes cannot be multiplied (10x274 and 283x128)",
     "output_type": "error",
     "traceback": [
      "\u001b[0;31m---------------------------------------------------------------------------\u001b[0m",
      "\u001b[0;31mRuntimeError\u001b[0m                              Traceback (most recent call last)",
      "Cell \u001b[0;32mIn [19], line 3\u001b[0m\n\u001b[1;32m      1\u001b[0m vec \u001b[39m=\u001b[39m torch\u001b[39m.\u001b[39mrand(\u001b[39m10\u001b[39m,\u001b[39m5\u001b[39m)\n\u001b[1;32m      2\u001b[0m model \u001b[39m=\u001b[39m Nerf()\n\u001b[0;32m----> 3\u001b[0m sigma, color \u001b[39m=\u001b[39m model\u001b[39m.\u001b[39;49mforward(vec)\n",
      "File \u001b[0;32m~/NeRF_CT/utils/nets.py:42\u001b[0m, in \u001b[0;36mNerf.forward\u001b[0;34m(self, v)\u001b[0m\n\u001b[1;32m     40\u001b[0m sigma \u001b[39m=\u001b[39m \u001b[39mself\u001b[39m\u001b[39m.\u001b[39msigma_fc(out)\n\u001b[1;32m     41\u001b[0m out \u001b[39m=\u001b[39m \u001b[39mself\u001b[39m\u001b[39m.\u001b[39mlayers_2(out)\n\u001b[0;32m---> 42\u001b[0m color \u001b[39m=\u001b[39m \u001b[39mself\u001b[39;49m\u001b[39m.\u001b[39;49mcolor_fc(torch\u001b[39m.\u001b[39;49mcat((out, d),axis\u001b[39m=\u001b[39;49m\u001b[39m1\u001b[39;49m))\n\u001b[1;32m     43\u001b[0m \u001b[39mreturn\u001b[39;00m torch\u001b[39m.\u001b[39mcat((color, sigma),axis\u001b[39m=\u001b[39m\u001b[39m1\u001b[39m)\n",
      "File \u001b[0;32m~/.local/lib/python3.8/site-packages/torch/nn/modules/module.py:1130\u001b[0m, in \u001b[0;36mModule._call_impl\u001b[0;34m(self, *input, **kwargs)\u001b[0m\n\u001b[1;32m   1126\u001b[0m \u001b[39m# If we don't have any hooks, we want to skip the rest of the logic in\u001b[39;00m\n\u001b[1;32m   1127\u001b[0m \u001b[39m# this function, and just call forward.\u001b[39;00m\n\u001b[1;32m   1128\u001b[0m \u001b[39mif\u001b[39;00m \u001b[39mnot\u001b[39;00m (\u001b[39mself\u001b[39m\u001b[39m.\u001b[39m_backward_hooks \u001b[39mor\u001b[39;00m \u001b[39mself\u001b[39m\u001b[39m.\u001b[39m_forward_hooks \u001b[39mor\u001b[39;00m \u001b[39mself\u001b[39m\u001b[39m.\u001b[39m_forward_pre_hooks \u001b[39mor\u001b[39;00m _global_backward_hooks\n\u001b[1;32m   1129\u001b[0m         \u001b[39mor\u001b[39;00m _global_forward_hooks \u001b[39mor\u001b[39;00m _global_forward_pre_hooks):\n\u001b[0;32m-> 1130\u001b[0m     \u001b[39mreturn\u001b[39;00m forward_call(\u001b[39m*\u001b[39;49m\u001b[39minput\u001b[39;49m, \u001b[39m*\u001b[39;49m\u001b[39m*\u001b[39;49mkwargs)\n\u001b[1;32m   1131\u001b[0m \u001b[39m# Do not call functions when jit is used\u001b[39;00m\n\u001b[1;32m   1132\u001b[0m full_backward_hooks, non_full_backward_hooks \u001b[39m=\u001b[39m [], []\n",
      "File \u001b[0;32m~/.local/lib/python3.8/site-packages/torch/nn/modules/container.py:139\u001b[0m, in \u001b[0;36mSequential.forward\u001b[0;34m(self, input)\u001b[0m\n\u001b[1;32m    137\u001b[0m \u001b[39mdef\u001b[39;00m \u001b[39mforward\u001b[39m(\u001b[39mself\u001b[39m, \u001b[39minput\u001b[39m):\n\u001b[1;32m    138\u001b[0m     \u001b[39mfor\u001b[39;00m module \u001b[39min\u001b[39;00m \u001b[39mself\u001b[39m:\n\u001b[0;32m--> 139\u001b[0m         \u001b[39minput\u001b[39m \u001b[39m=\u001b[39m module(\u001b[39minput\u001b[39;49m)\n\u001b[1;32m    140\u001b[0m     \u001b[39mreturn\u001b[39;00m \u001b[39minput\u001b[39m\n",
      "File \u001b[0;32m~/.local/lib/python3.8/site-packages/torch/nn/modules/module.py:1130\u001b[0m, in \u001b[0;36mModule._call_impl\u001b[0;34m(self, *input, **kwargs)\u001b[0m\n\u001b[1;32m   1126\u001b[0m \u001b[39m# If we don't have any hooks, we want to skip the rest of the logic in\u001b[39;00m\n\u001b[1;32m   1127\u001b[0m \u001b[39m# this function, and just call forward.\u001b[39;00m\n\u001b[1;32m   1128\u001b[0m \u001b[39mif\u001b[39;00m \u001b[39mnot\u001b[39;00m (\u001b[39mself\u001b[39m\u001b[39m.\u001b[39m_backward_hooks \u001b[39mor\u001b[39;00m \u001b[39mself\u001b[39m\u001b[39m.\u001b[39m_forward_hooks \u001b[39mor\u001b[39;00m \u001b[39mself\u001b[39m\u001b[39m.\u001b[39m_forward_pre_hooks \u001b[39mor\u001b[39;00m _global_backward_hooks\n\u001b[1;32m   1129\u001b[0m         \u001b[39mor\u001b[39;00m _global_forward_hooks \u001b[39mor\u001b[39;00m _global_forward_pre_hooks):\n\u001b[0;32m-> 1130\u001b[0m     \u001b[39mreturn\u001b[39;00m forward_call(\u001b[39m*\u001b[39;49m\u001b[39minput\u001b[39;49m, \u001b[39m*\u001b[39;49m\u001b[39m*\u001b[39;49mkwargs)\n\u001b[1;32m   1131\u001b[0m \u001b[39m# Do not call functions when jit is used\u001b[39;00m\n\u001b[1;32m   1132\u001b[0m full_backward_hooks, non_full_backward_hooks \u001b[39m=\u001b[39m [], []\n",
      "File \u001b[0;32m~/.local/lib/python3.8/site-packages/torch/nn/modules/linear.py:114\u001b[0m, in \u001b[0;36mLinear.forward\u001b[0;34m(self, input)\u001b[0m\n\u001b[1;32m    113\u001b[0m \u001b[39mdef\u001b[39;00m \u001b[39mforward\u001b[39m(\u001b[39mself\u001b[39m, \u001b[39minput\u001b[39m: Tensor) \u001b[39m-\u001b[39m\u001b[39m>\u001b[39m Tensor:\n\u001b[0;32m--> 114\u001b[0m     \u001b[39mreturn\u001b[39;00m F\u001b[39m.\u001b[39;49mlinear(\u001b[39minput\u001b[39;49m, \u001b[39mself\u001b[39;49m\u001b[39m.\u001b[39;49mweight, \u001b[39mself\u001b[39;49m\u001b[39m.\u001b[39;49mbias)\n",
      "\u001b[0;31mRuntimeError\u001b[0m: mat1 and mat2 shapes cannot be multiplied (10x274 and 283x128)"
     ]
    }
   ],
   "source": [
    "vec = torch.rand(10,5)\n",
    "model = Nerf()\n",
    "sigma, color = model.forward(vec)"
   ]
  },
  {
   "cell_type": "code",
   "execution_count": null,
   "metadata": {},
   "outputs": [],
   "source": [
    "from utils.dataload import load_data\n",
    "data, cam_params = load_data('data/nerf_synthetic/lego/')"
   ]
  },
  {
   "cell_type": "code",
   "execution_count": null,
   "metadata": {},
   "outputs": [],
   "source": [
    "from utils.xyz import rays_single_cam\n",
    "\n",
    "def rays_dataset(samples, cam_params):\n",
    "\t\"\"\" Generates rays and camera origins for train test and val sets under diff camera poses\"\"\" \n",
    "\tkeys = ['train', 'test', 'val']\n",
    "\trays_1_cam = rays_single_cam(cam_params)\n",
    "\trays = {}\n",
    "\tcam_origins = {}\n",
    "\tH, W, f = cam_params\n",
    "\tfor k in keys:\n",
    "\t\tnum_images = len(samples[k])\n",
    "\t\ttransf_mats = torch.stack([s['transform'] for s in samples[k]])\n",
    "\t\trays_dataset = torch.matmul(transf_mats[:,:3,:3], rays_1_cam)\n",
    "\t\tcam_origins = transf_mats[:,:3,3:]\n",
    "\t\tcam_origins = cam_origins.expand(num_images,3,H*W) #Nx3xHW\n",
    "\t\trays[k] = torch.cat((cam_origins, rays_dataset),dim=1).permute(1,0,2).reshape(6,-1) # 6xNHW, number of cameras \n",
    "\n",
    "\treturn rays\n",
    "\n",
    "class RayGenerator:\n",
    "\tdef __init__(self, path, on_gpu=False):\n",
    "\t\tsamples, cam_params = load_data(path)\n",
    "\t\tself.samples = samples\n",
    "\t\tself.H = cam_params[0]\n",
    "\t\tself.W = cam_params[1]\n",
    "\t\tself.f = cam_params[2]\n",
    "\t\tself.rays_dataset = rays_dataset(self.samples, cam_params)\n",
    "\t\t\n",
    "\t\t# self.on_gpu = on_gpu\n",
    "\t\t# if on_gpu:\n",
    "\t\t# \tfor k in self.cam_origins.keys():\n",
    "\t\t# \t\tself.rays_dataset[k] = self.rays_dataset[k].cuda()\n",
    "\n",
    "\tdef select(self, mode='train', N=4096):\n",
    "\t\t\"\"\" randomly selects N train/test/val rays\n",
    "\t\tArgs:\n",
    "\t\t\tmode: 'train', 'test', 'val'\n",
    "\t\t\tN: number of rays to sample \n",
    "\t\tReturns:\n",
    "\t\t\trays (torch Tensor): Nx6 \n",
    "\t\t\"\"\"\n",
    "\t\tdata = self.rays_dataset[mode]\n",
    "\t\tsamples = self.samples[mode]\n",
    "\t\tray_ids = torch.randint(0, data.size(1), (N,))\n",
    "\t\trays = data[:,ray_ids]\n",
    "\t\treturn rays, ray_ids \n",
    "\t\t\n",
    "rays = rays_dataset(data, cam_params)\n",
    "\n",
    "\n",
    "\n",
    "def sampler(rays_dataset, batch_size):\n",
    "\t\"\"\" create a batch of rays from rays_dataset \n",
    "\tArgs:\n",
    "\t\trays_dataset (torch tensor): Nx3xHW . N - #cameras, HW - #pixels in image\n",
    "\t\tbatch_size: batch size of rays \n",
    "\t\"\"\""
   ]
  },
  {
   "cell_type": "markdown",
   "metadata": {},
   "source": []
  },
  {
   "cell_type": "code",
   "execution_count": null,
   "metadata": {},
   "outputs": [],
   "source": [
    "from utils.dataload import rays_dataset, RayGenerator\n",
    "from utils.nets import Nerf\n",
    "import torch\n",
    "\n",
    "rg = RayGenerator(path='data/nerf_synthetic/lego/')\n",
    "\n",
    "net = Nerf()\n",
    "net.load_state_dict(torch.load('models/1665717276.4336596.pth'))\n",
    "\n",
    "samps = rg.samples['val']\n"
   ]
  },
  {
   "cell_type": "code",
   "execution_count": null,
   "metadata": {},
   "outputs": [],
   "source": [
    "import matplotlib.pyplot as plt\n",
    "from utils.rendering import render_nerf \n",
    "from tqdm import tqdm \n",
    "\n",
    "plt.imshow(rg.samples['val'][0]['img'])\n",
    "\n",
    "NUM_IMG_RAYS = 640000\n",
    "net = net.cuda()\n",
    "rays = rg.rays_dataset['val'][:,:NUM_IMG_RAYS].transpose(1,0)\n",
    "\n",
    "batch_size = 64000\n",
    "\n",
    "rgbs = [] \n",
    "depths = [] \n",
    "with torch.no_grad():\n",
    "\tfor i in tqdm(range(rays.size(0) // batch_size)):\n",
    "\t\tinp_rays = rays[i*batch_size:(i+1)*batch_size]\n",
    "\t\trgb, depth, _, _, _ = render_nerf(inp_rays.cuda(), net, N=128)\n",
    "\t\trgbs.append(rgb)\n",
    "\t\tdepths.append(depth)\n",
    "\n",
    "rgb = torch.cat(rgbs)\n",
    "depth = torch.cat(depths)\n",
    "\n",
    "print(rgb.size())\n",
    "print(depth.size())\n",
    "\n"
   ]
  },
  {
   "cell_type": "code",
   "execution_count": null,
   "metadata": {},
   "outputs": [],
   "source": [
    "rgb_img = rgb.reshape(800,800,3)\n",
    "\n",
    "depth_img = depth.reshape(800,800).cpu().numpy()\n",
    "plt.imshow(depth_img)\n",
    "plt.figure()\n",
    "plt.imshow(rgb_img.cpu().numpy())"
   ]
  },
  {
   "cell_type": "code",
   "execution_count": null,
   "metadata": {},
   "outputs": [],
   "source": [
    "rays.size(0)"
   ]
  },
  {
   "cell_type": "code",
   "execution_count": null,
   "metadata": {},
   "outputs": [],
   "source": [
    "# rays, ray_ids = rg.select()\n",
    "# train_imgs = torch.stack([torch.from_numpy(s['img']) for s in rg.samples['train']]).reshape(-1,3).transpose(1,0)\n",
    "\n",
    "\n",
    "import torch \n",
    "\n",
    "N = 4096\n",
    "ray_ids = torch.randint(0, 16000000, (N,))\n",
    "\n",
    "print(torch.unique(ray_ids).size())"
   ]
  },
  {
   "cell_type": "code",
   "execution_count": null,
   "metadata": {},
   "outputs": [],
   "source": [
    "torch.randperm(10)"
   ]
  },
  {
   "cell_type": "code",
   "execution_count": null,
   "metadata": {},
   "outputs": [],
   "source": [
    "def render_nerf(rays, N, tn=2, tf=6):\n",
    "\t\"\"\" stratified sampling on a set of rays using Nerf model\n",
    "\tArgs:\n",
    "\t\trays (torch Tensor): B x 6 \n",
    "\t\tnet (nerf model):\n",
    "\tReturns:\n",
    "\t\t out: BxNx4\t\n",
    "\t\"\"\"\n",
    "\t## input to nerf model BN x 6 \n",
    "\t## Nerf output - BN x 4  --> reshape BxNx4 \n",
    "\t## t sample dims - BxN\n",
    "\tt_bins = torch.linspace(tn,tf,N+1)\n",
    "\tbin_diff = t_bins[1] - t_bins[0] \n",
    "\n",
    "\tunif_samps = torch.rand(rays.size(0),N)\n",
    "\tts = bin_diff* unif_samps + t_bins[:-1] # BxN \n",
    "\n",
    "\torigins = rays[:,:3] # Bx3\n",
    "\tdirs = rays[:,3:]  # Bx3\n",
    "\n",
    "\tdisp = dirs.unsqueeze(-1)*ts.unsqueeze(1) # Bx1x3 * BxNx1 = Bx3xN\n",
    "\tlocs = origins.unsqueeze(-1) + disp # Bx3x1 + Bx3xN = Bx3xN \n",
    "\tquery_pts = torch.cat((locs, dirs.unsqueeze(-1).expand(-1,-1,N)),dim=1)\n",
    "\treturn query_pts \n",
    "\n",
    "query_pts = render_nerf(rays, N=100)\n",
    "\n",
    "query_pts[0][:,:8]"
   ]
  },
  {
   "cell_type": "code",
   "execution_count": null,
   "metadata": {},
   "outputs": [],
   "source": [
    "def volume_render(ts, nerf_outs):\n",
    "\t\"\"\" computes color, depth and alphas along rays using NeRF outputs (section 4)\n",
    "\tArgs:\n",
    "\t\tts (torch tensor) BxN | B:number of rays, N: number of samples along a ray \n",
    "\t\tnerf_outs (torch tensor)BxNx4 | RGB \\sigma (4 values) for each sample along each ray \n",
    "\tReturns: \n",
    "\t\trgb (torch tensor) Bx3\n",
    "\t\tdepth (torch tensor) (B,)\n",
    "\t\talphas (torch tensor) (B,N)\n",
    "\t\tacc (torch tensor) (B,)\n",
    "\t\tw (torch tensor) (B,N) \n",
    "\t\"\"\"\n",
    "\n",
    "\tdeltas = ts[:,1:] - ts[:,:-1]\n",
    "\tdeltas = torch.cat((deltas, 1e10*torch.ones_like(deltas[:,:1])), dim=1)\n",
    "\t## TODO add gaussian noise regularizer \n",
    "\n",
    "\talpha = 1 - torch.exp(-nerf_outs[...,3]*deltas)\n",
    "\tT = torch.exp(-torch.cumprod(nerf_outs[...,3]*deltas, dim=1))\n",
    "\t\n",
    "\t## Eqn 5 of paper w: BxN\n",
    "\tw = alpha*T \n",
    "\t\n",
    "\t## accumulated rgb color along each ray (Bx3)\n",
    "\trgb = torch.sum(w.unsqueeze(-1)*nerf_outs[...,:3], axis=1)\n",
    "\n",
    "\t## depth along each ray (B,), weighted average of samples \n",
    "\tdepth = torch.sum(w * ts, axis=-1)\n",
    "\n",
    "\tprint(depth.size())\n",
    "\t## accumulation map (B,): average of weight values along a ray \n",
    "\tacc = torch.sum(w, axis=-1)\n",
    "\trgb += 1-acc.unsqueeze(-1)\n",
    "\treturn rgb, depth, alpha, acc, w\n",
    "ts = torch.rand(5,10)\n",
    "nerf_outs = torch.rand(5,10,4)\n",
    "\n",
    "\n",
    "rgb, depth, alpha, acc, w = volume_render(ts, nerf_outs)"
   ]
  },
  {
   "cell_type": "code",
   "execution_count": null,
   "metadata": {},
   "outputs": [],
   "source": [
    "%matplotlib inline\n",
    "\n",
    "import matplotlib.pyplot as plt\n",
    "plt.imshow(data['test'][50]['img'])\n",
    "\n",
    "print(cam_params)"
   ]
  },
  {
   "cell_type": "code",
   "execution_count": null,
   "metadata": {},
   "outputs": [],
   "source": [
    "np.max(data['train'][0]['img'])\n",
    "\t"
   ]
  },
  {
   "cell_type": "code",
   "execution_count": null,
   "metadata": {},
   "outputs": [],
   "source": [
    "import torch \n",
    "\n",
    "H , W = 800, 800\n",
    "f = 1100\n",
    "\n",
    "Hl = torch.arange(H) - H//2\n",
    "Wl = torch.arange(W) - W//2\n",
    "grid_x, grid_y = torch.meshgrid(Hl, Wl)\n",
    "ray_matrix = torch.stack((grid_x, grid_y, f*torch.ones_like(grid_x))).float()\n",
    "\n",
    "ray_matrix = ray_matrix / torch.norm(ray_matrix, dim=0)\n",
    "ray_matrix = torch.reshape(ray_matrix, (3,-1)) # 640K ray directions, normalized"
   ]
  },
  {
   "cell_type": "code",
   "execution_count": null,
   "metadata": {},
   "outputs": [],
   "source": []
  },
  {
   "cell_type": "code",
   "execution_count": null,
   "metadata": {},
   "outputs": [],
   "source": [
    "import visu3d as v3d \n",
    "import numpy as np"
   ]
  },
  {
   "cell_type": "code",
   "execution_count": null,
   "metadata": {},
   "outputs": [],
   "source": [
    "import numpy as np\n",
    "import torch \n",
    "from utils.xyz import rays_single_cam\n",
    "from utils.dataload import RayGenerator\n",
    "\n",
    "rg = RayGenerator('data/nerf_synthetic/lego')\n",
    "\n",
    "rays = rg.rays_dataset['train']\n",
    "f = 1111 \n",
    "H = 800\n",
    "W = 800\n",
    "rays_cam = rg.rays_dataset['train'].numpy().transpose(1,0)\n",
    "B = 1\n",
    "\n",
    "rays = v3d.Ray(pos=rays_cam[:,:3][np.newaxis,...], dir=5*rays_cam[:,3:][np.newaxis,...])\n",
    "\n",
    "print(rays.shape)\n",
    "# ray = v3d.Ray(pos=[0,0,0], dir=[1,1,1])\n",
    "# rays = v3d.Ray(pos=np.zeros(640000,), dir=np.ones((B,H,W,3)))\n",
    "# assert rays.shape == (B,H,W)"
   ]
  },
  {
   "cell_type": "code",
   "execution_count": null,
   "metadata": {},
   "outputs": [],
   "source": [
    "N = 640000\n",
    "i = 8\n",
    "rays = v3d.Ray(pos=rays_cam[:,:3][np.newaxis,...], dir=4*rays_cam[:,3:][np.newaxis,...])"
   ]
  },
  {
   "cell_type": "code",
   "execution_count": null,
   "metadata": {},
   "outputs": [],
   "source": [
    "import torch\n",
    "from utils.nets import Nerf\n",
    "# from utils.rendering import volume_render\n",
    "tn, tf = 2, 6 \n",
    "N = 100\n",
    "net = Nerf()\n",
    "net.load_state_dict(torch.load('models/1666132529.4454966.pth'))\n",
    "\n",
    "volume_rep = torch.zeros(1,N,4)\n",
    "volume_rep[:,:,:3]= torch.tensor([1.0,0.,0.])\n",
    "volume_rep[:,1,3:] = 100\n",
    "volume_rep[:,0,3:] = 0.0\n",
    "volume_rep = volume_rep.cuda()\n",
    "\n",
    "B = 1\n",
    "\n",
    "t_bins = torch.linspace(tn,tf,N+1)\n",
    "bin_diff = t_bins[1] - t_bins[0] \n",
    "\n",
    "unif_samps = torch.rand(B,N)\n",
    "ts = bin_diff* unif_samps + t_bins[:-1]\n",
    "ts = ts.cuda()\n",
    "\n",
    "\n",
    "rgb, depth, alpha, acc, w = volume_render(volume_rep, ts)\n",
    "\n",
    "print(depth)\n",
    "print(rgb)\n",
    "# print(ts)\n",
    "# print(alpha)\n",
    "# print(ts)\n",
    "# print(w)\n",
    "# print(rgb, depth, alpha, acc, w)\n"
   ]
  },
  {
   "cell_type": "code",
   "execution_count": null,
   "metadata": {},
   "outputs": [],
   "source": [
    "def volume_render(nerf_outs, ts):\n",
    "\t\"\"\" computes color, depth and alphas along rays using NeRF outputs (section 4)\n",
    "\tArgs:\n",
    "\t\tts (torch tensor) BxN | B:number of rays, N: number of samples along a ray \n",
    "\t\tnerf_outs (torch tensor)BxNx4 | RGB \\sigma (4 values) for each sample along each ray \n",
    "\tReturns: \n",
    "\t\trgb (torch tensor) Bx3\n",
    "\t\tdepth (torch tensor) (B,)\n",
    "\t\talphas (torch tensor) (B,N)\n",
    "\t\tacc (torch tensor) (B,)\n",
    "\t\tweights (torch tensor) (B,N) \n",
    "\t\"\"\"\n",
    "\tdeltas = ts[:,1:] - ts[:,:-1]\n",
    "\tdeltas = torch.cat((deltas, 1e10*torch.ones_like(deltas[:,:1])), dim=1)\n",
    "\t## TODO add gaussian noise regularizer \n",
    "\n",
    "\talpha = 1 - torch.exp(-nerf_outs[...,3]*deltas)\n",
    "\tT = torch.exp(-torch.cumprod(nerf_outs[...,3]*deltas, dim=1))\n",
    "\t\n",
    "\t## Eqn 5 of paper w: BxN \n",
    "\tweights = alpha*T \n",
    "\t\n",
    "\t## accumulated rgb color along each ray (Bx3) \n",
    "\n",
    "\t# print(weights.unsqueeze(-1)*nerf_outs[...,:3])\n",
    "\trgb = torch.sum(weights.unsqueeze(-1)*nerf_outs[...,:3], axis=1)\n",
    "\t# print(rgb)\n",
    "\t## depth along each ray (B,), weighted average of samples \n",
    "\tdepth = torch.sum(weights * ts, axis=-1)\n",
    "\t# print(depth)\n",
    "\t## accumulation map (B,): average of weight values along a ray \n",
    "\tacc = torch.sum(weights, axis=-1)\n",
    "\t# print(acc)\n",
    "\t# rgb += 1-acc.unsqueeze(-1)\n",
    "\n",
    "\treturn rgb, depth, alpha, acc, weights"
   ]
  },
  {
   "cell_type": "code",
   "execution_count": null,
   "metadata": {},
   "outputs": [],
   "source": [
    "def render_image(net, rg, batch_size=64000, im_idx=0, im_set='val'):\n",
    "\t\"\"\" render an image and depth map from val set (currently hardcoded) from trained NeRF model \"\"\"\n",
    "\n",
    "\tgt_img = rg.samples[im_set][im_idx]['img']\n",
    "\tNUM_RAYS = 640000 # number of rays in image, currently hardcoded\n",
    "\tnet = net.cuda()\n",
    "\trays = rg.rays_dataset[im_set][:,im_idx*NUM_RAYS:(im_idx+1)*NUM_RAYS].transpose(1,0)\n",
    "\t# rays = rg.rays_dataset[im_set][im_idx*NUM_RAYS:(im_idx+1)*NUM_RAYS,:]\n",
    "\trgbs = [] \n",
    "\tdepths = [] \n",
    "\twith torch.no_grad():\n",
    "\t\tfor i in tqdm(range(rays.size(0) // batch_size)):\n",
    "\t\t\tinp_rays = rays[i*batch_size:(i+1)*batch_size]\n",
    "\t\t\trgb, depth, _, _, _ = render_nerf(inp_rays.cuda(), net, N=128)\n",
    "\t\t\trgbs.append(rgb)\n",
    "\t\t\tdepths.append(depth)\n",
    "\n",
    "\trgb = torch.cat(rgbs).cpu()\n",
    "\tdepth = torch.cat(depths).cpu()\n",
    "\t\n",
    "\trgb_img = rgb.reshape(1,800,800,3) ## permuting for tensorboard\n",
    "\tdepth_img = depth.reshape(1,800,800,1) ## permuting for tensorboard\n",
    "\tgt_img = gt_img.reshape(1,800,800,3)\n",
    "\treturn rgb_img, depth_img, gt_img"
   ]
  },
  {
   "cell_type": "code",
   "execution_count": null,
   "metadata": {},
   "outputs": [],
   "source": [
    "import numpy as np\n",
    "lr_start = 5e-4\n",
    "lr_end = 5e-5\n",
    "decay = np.exp(np.log(lr_end / lr_start) / 10000)"
   ]
  },
  {
   "cell_type": "code",
   "execution_count": null,
   "metadata": {},
   "outputs": [],
   "source": [
    "torch.clip(torch.tensor(decay), torch.tensor(0), torch.tensor(1))"
   ]
  },
  {
   "cell_type": "code",
   "execution_count": null,
   "metadata": {},
   "outputs": [],
   "source": [
    "# Ray helpers\n",
    "import numpy as np\n",
    "import torch\n",
    "def get_rays(H, W, K, c2w):\n",
    "    i, j = torch.meshgrid(torch.linspace(0, W-1, W), torch.linspace(0, H-1, H))  # pytorch's meshgrid has indexing='ij'\n",
    "    i = i.t()\n",
    "    j = j.t()\n",
    "    dirs = torch.stack([(i-K[0][2])/K[0][0], -(j-K[1][2])/K[1][1], -torch.ones_like(i)], -1)\n",
    "    # Rotate ray directions from camera frame to the world frame\n",
    "    rays_d = torch.sum(dirs[..., np.newaxis, :] * c2w[:3,:3], -1)  # dot product, equals to: [c2w.dot(dir) for dir in dirs]\n",
    "    # Translate camera frame's origin to the world frame. It is the origin of all rays.\n",
    "    rays_o = c2w[:3,-1].expand(rays_d.shape)\n",
    "    return rays_o, rays_d\n",
    "    "
   ]
  },
  {
   "cell_type": "code",
   "execution_count": null,
   "metadata": {},
   "outputs": [],
   "source": [
    "# from utils.xyz import rays_single_cam\n",
    "H = 2\n",
    "W = 2\n",
    "f = 10\n",
    "K = np.array([[f,0,H//2],[0,f,W//2],[0,0,1]])\n",
    "\n",
    "c2w = torch.eye(4)\n",
    "ro, rd = get_rays(H, W, K, c2w)\n",
    "rd_ = rays_single_cam([H,W, f])\n",
    "\n",
    "print(rd_.shape)\n",
    "print(rd.reshape(-1,3) - rd_.T)"
   ]
  },
  {
   "cell_type": "code",
   "execution_count": null,
   "metadata": {},
   "outputs": [],
   "source": [
    "def rays_single_cam(cam_params):\n",
    "\t\"\"\" takes in camera params H,W,f returns H*W ray directions with origin 0,0,0\n",
    "\tArgs:\n",
    "\t\tcam_params (list): [H, W, f]\n",
    "\tReturns:\n",
    "\t\trays (torch Tensor): 3 x HW\n",
    "\t\"\"\"\n",
    "\tH , W, f  = cam_params\n",
    "\tHl = torch.arange(H) - H//2\n",
    "\tWl = torch.arange(W) - W//2\n",
    "\tprint(Hl)\n",
    "\tgrid_x, grid_y = torch.meshgrid(Wl, Hl)\n",
    "\tprint(grid_x, grid_y)\n",
    "\trays = torch.stack((grid_x/f, -grid_y/f, -1*torch.ones_like(grid_x))).float()\n",
    "\trays = rays.permute(0,2,1)\n",
    "\t# rays = rays / torch.norm(rays, dim=0)\n",
    "\trays = torch.reshape(rays, (3,-1)) # 640K ray directions (if H,W = 800), normalized\n",
    "\treturn rays\n"
   ]
  },
  {
   "cell_type": "code",
   "execution_count": null,
   "metadata": {},
   "outputs": [],
   "source": [
    "import cv2 \n",
    "import matplotlib.pyplot as plt\n",
    "%matplotlib widget\n",
    "idxs = [0, 5, 50, 58, 65]\n",
    "\n",
    "ims = []\n",
    "for idx in idxs:\n",
    "\tpath = f'results/lego/mynerf_25_imgs/rgb_{idx}.png'\n",
    "\tim = cv2.cvtColor(cv2.imread(path), cv2.COLOR_BGR2RGB)\n",
    "\tprint(im.shape)\n",
    "\tims.append(im[:,403:,:])\n",
    "\n",
    "im_big = np.hstack(ims)\n",
    "\n",
    "print(im_big.shape)\n",
    "\n",
    "plt.imshow(im_big)"
   ]
  },
  {
   "cell_type": "code",
   "execution_count": null,
   "metadata": {},
   "outputs": [],
   "source": [
    "W = 400\n",
    "x = np.random.choice(np.arange(400), size=(400,), replace=False)\n",
    "y = np.random.choice(np.arange(400), size=(400,), replace=False)\n",
    "xv, yv = np.meshgrid(np.arange(400), np.arange(400), indexing='ij')"
   ]
  },
  {
   "cell_type": "code",
   "execution_count": 317,
   "metadata": {},
   "outputs": [],
   "source": [
    "import visu3d as v3d\n",
    "def samp_sphere(center, radius, num=1000):\n",
    "\t\"\"\"sample num points on surface of sphere\"\"\"\n",
    "\tpass \n",
    "\t## use this for visualization \n",
    "\n",
    "def generate_phaseop_params(H,W,f, num):\n",
    "\t\"\"\" create phase optic parameters \"\"\"\n",
    "\tpass\n",
    "\n",
    "def refract(rays, n, mu):\n",
    "\t\"\"\" returns refracted ray incident at surface with surface normal n and refractive index mu w.r.t air\n",
    "\tArgs:\n",
    "\t\trays: (nx3) Incident ray directions\n",
    "\t\tn: (nx3) normals at the points where rays hit surface \n",
    "\t\tmu: (scalar) refractive index of air w.r.t surface\n",
    "\tReturns:\n",
    "\t\tt (nx3) : refracted rays\n",
    "\t\"\"\"\n",
    "\ti_norms = np.linalg.norm(rays, axis=1, keepdims=True)\n",
    "\ti = rays / i_norms\n",
    "\tn = n / np.linalg.norm(n,axis=1, keepdims=True) \n",
    "\tni = np.sum(n*i, axis=1,keepdims=True)\n",
    "\tt = mu*i + n*np.sqrt(1 - (mu**2)*(1 - ni**2)) - mu*n*ni\n",
    "\tt = t * i_norms\n",
    "\treturn t \n",
    "\t\n",
    "\n",
    "def intersect_plane(rays, normal, point):\n",
    "\t\"\"\" computes intersection of rays with plane \n",
    "\tArgs:\n",
    "\t\trays (Nx6 np.array): origin and direction of rays \n",
    "\t\tnormal (3, np.array): normal vector to the plane \n",
    "\t\tpoint (3, np.array): a point that lies on the plane \n",
    "\tReturns:\n",
    "\t\tNx6 rays with new origin on plane and same direction as before\n",
    "\t\"\"\" \n",
    "\t## TODO : Handle the edge case for ray parallel to plane\n",
    "\tray_dirn = rays[:,3:]\n",
    "\tray_origin = rays[:,:3]\n",
    "\tt = (normal.dot(point) - ray_origin.dot(normal))/ray_dirn.dot(normal)\n",
    "\trays_out = np.concatenate((ray_origin + t.reshape(-1,1)*ray_dirn, ray_dirn),axis=1)\n",
    "\treturn rays_out\n",
    "\t\n",
    "\n",
    "def intersect_sphere(rays, center, radius):\n",
    "\t\"\"\" computes intersection of rays with sphere given by center and radius \n",
    "\tArgs:\n",
    "\t\trays (Nx6 np.array): origin and direction of rays \n",
    "\t\tcenter (3, np.array): center of sphere\n",
    "\t\tradius (scalar float): radius of sphere\n",
    "\tReturns:\n",
    "\t\tout (Nx6, Np.array): origin is same as input for rays that don't intersect\n",
    "\t\tvalid: indices of rays which don't intersect with this sphere\n",
    "\t\"\"\" \n",
    "\trays_origin = rays[:,:3]\n",
    "\trays_direction = rays[:,3:]\n",
    "\trays_dirn = rays_direction / np.linalg.norm(rays_direction, axis=1, keepdims=True)\n",
    "\tb = 2 * np.sum(rays_dirn* (rays_origin - center.reshape(-1,3)), axis=1, keepdims=True)\n",
    "\tc = np.linalg.norm(rays_origin - center, axis=1, keepdims=True) ** 2 - radius ** 2\n",
    "\tdelta = b ** 2 - 4 * c\n",
    "\tout = np.ones_like(rays_origin)\n",
    "\n",
    "\n",
    "\tt = (-b + np.sqrt(delta)) / 2\n",
    "\tv1 = delta > 0 \n",
    "\tv2 = t >=0\n",
    "\tvalid = np.where(v1*v2 == True)[0]\n",
    "\tinvalid = np.where(v1*v2 == False)[0]\n",
    "\tout[valid] = rays_origin[valid] + t[valid]*rays_dirn[valid]\n",
    "\tout[invalid] = rays_origin[invalid]\n",
    "\trays_out = np.concatenate((out, rays_direction), axis=1)\n",
    "\treturn rays_out, valid \n",
    "\n",
    "def visu3d_tracer(rays_list):\n",
    "\t\"\"\" creates a set of visual rays to be traced from list of Nx6 rays\n",
    "\tArgs:\n",
    "\t\trays_list (list [r0, r1, ... rn]): r0 - Nx6. 0:3 origin, 3: direction \n",
    "\t\tr_i origin = end point of r_(i-1). Assumes r_i and r_(i-1) have diff origins \n",
    "\tReturns rt - Nx6 : visu3d compatible rays for tracing \n",
    "\t\"\"\"\n",
    "\trt = []\n",
    "\tfor idx, r in enumerate(rays_list[:-1]):\n",
    "\t\to, d = r[:,:3] , r[:,3:]\n",
    "\t\tr1 = rays_list[idx+1]\n",
    "\t\to1, d1 = r1[:,:3], r1[:,:3] \n",
    "\t\tdist = np.linalg.norm(o1 - o, axis=1, keepdims=True)\n",
    "\t\td = d * dist / np.linalg.norm(d,axis=1, keepdims=True)\n",
    "\t\tr[:,3:] = d\n",
    "\t\trt.append(r)\n",
    "\trt.append(rays_list[-1])\n",
    "\trt = np.concatenate(rt,axis=0)\n",
    "\tposs = rt[:,:3]\n",
    "\tdirss = rt[:,3:]\n",
    "\tviz = v3d.Ray(pos=poss, dir=dirss)\n",
    "\treturn viz\n",
    "\n",
    "class SinglePhaseOptic:\n",
    "\tdef __init__(self, center, radius, n=1.5):\n",
    "\t\tself.center = center\n",
    "\t\tself.radius = radius \n",
    "\n",
    "class PhaseOptic:\n",
    "\tdef __init__(self, centers, radii, n=1.5):\n",
    "\t\tself.centers = centers\n",
    "\t\tself.radii = radii \n",
    "\t\tself.n = n # refractive index\n",
    "\tdef visualize(self):\n",
    "\t\t\"\"\" function to visualize profile of phase optic \"\"\"\n",
    "\t"
   ]
  },
  {
   "cell_type": "code",
   "execution_count": null,
   "metadata": {},
   "outputs": [],
   "source": [
    "\"\"\" phase optic ray sphere intersection algorithm \n",
    "For every point \n",
    "1. Calculate intersection of a ray with all spheres.\n",
    "2. Create an array of all valid intersections, i.e. on right side of focal plane. \n",
    "3. Select the intersection with the maximum distance from the plane of phase optic. \n",
    "\"\"\"\n",
    "\n",
    "\"\"\" \n",
    "Assumptions to create phase optic \n",
    "1. no sphere lies completely on 1 side of phase optic\n",
    "2. radii of spheres in a range (rmin to rmax)\n",
    "3. centers of spheres in a range \n",
    "\"\"\"\n"
   ]
  },
  {
   "cell_type": "code",
   "execution_count": 22,
   "metadata": {},
   "outputs": [],
   "source": [
    "def sphere_intersect(center, radius, ray_origin, ray_direction):\n",
    "\tray_direction = ray_direction / np.linalg.norm(ray_direction)\n",
    "\tb = 2 * np.dot(ray_direction, ray_origin - center)\n",
    "\tc = np.linalg.norm(ray_origin - center) ** 2 - radius ** 2\n",
    "\tdelta = b ** 2 - 4 * c\n",
    "\tif delta > 0:\n",
    "\t\tt1 = (-b + np.sqrt(delta)) / 2\n",
    "\t\tt2 = (-b - np.sqrt(delta)) / 2\n",
    "\t\tt = max(t1, t2)\n",
    "\t\tprint(t)\n",
    "\t\tif t > 0:\n",
    "\t\t\treturn t, ray_origin + ray_direction*t\n",
    "\treturn None, None"
   ]
  },
  {
   "cell_type": "code",
   "execution_count": null,
   "metadata": {},
   "outputs": [
    {
     "name": "stdout",
     "output_type": "stream",
     "text": [
      "[ 0.  0. -4.]\n",
      "[0. 0. 0.]\n",
      "[ 0.  0. -1.]\n"
     ]
    }
   ],
   "source": [
    "center = np.array([0., 0., -1.])\n",
    "radius = 0.5\n",
    "ray_origin = np.array([0., 0., 0.])\n",
    "ray_dirn = np.array([0.0, 0.0, -4.])\n",
    "print(ray_dirn)\n",
    "print(ray_origin)\n",
    "print(center)"
   ]
  },
  {
   "cell_type": "code",
   "execution_count": 326,
   "metadata": {},
   "outputs": [],
   "source": [
    "import numpy as np\n",
    "import visu3d as v3d\n",
    "from utils.xyz import rays_single_cam\n",
    "H,W,f = 400,400,1111\n",
    "\n",
    "sphere_center = np.array([0.0, 0.0, -0.8])\n",
    "\n",
    "rays = rays_single_cam([H,W, f]).T.numpy()\n",
    "rays_inp = np.concatenate((np.zeros_like(rays), rays),axis=1)\n",
    "r0 = rays_inp\n",
    "rays_inp = intersect_plane(rays_inp, np.array([0., 0., -1.]), np.array([0., 0., -1.]))\n",
    "r1=rays_inp\n",
    "plane_normals = np.zeros_like(rays)\n",
    "plane_normals[:,2] = -1\n",
    "rays_refrac = refract(rays_inp[:,3:], plane_normals, 1/1.5)\n",
    "\n",
    "rays_inp = np.concatenate((rays_inp[:,:3], rays_refrac), axis=1)\n",
    "r2 = rays_inp\n",
    "rays_inp, valid = intersect_sphere(rays_inp, center=sphere_center, radius=0.3)\n",
    "r3 = rays_inp\n",
    "\n",
    "sphere_normals = rays_inp[:,:3] - sphere_center\n",
    "sphere_normals = sphere_normals / np.linalg.norm(sphere_normals,axis=1,keepdims=True)\n",
    "\n",
    "rays_refrac = refract(rays_inp[:,3:], sphere_normals, 1/1.5)\n",
    "rays_inp = np.concatenate((rays_inp[:,:3], rays_refrac), axis=1) \n",
    "r4 = rays_inp \n",
    "\n"
   ]
  },
  {
   "cell_type": "code",
   "execution_count": 327,
   "metadata": {},
   "outputs": [
    {
     "data": {
      "application/vnd.plotly.v1+json": {
       "config": {
        "plotlyServerURL": "https://plot.ly"
       },
       "data": [
        {
         "legendgroup": "Ray 0",
         "marker": {
          "size": [
           0,
           6,
           0,
           0,
           6,
           0,
           0,
           6,
           0,
           0,
           6,
           0,
           0,
           6,
           0,
           0,
           6,
           0,
           0,
           6,
           0,
           0,
           6,
           0,
           0,
           6,
           0,
           0,
           6,
           0,
           0,
           6,
           0,
           0,
           6,
           0,
           0,
           6,
           0,
           0,
           6,
           0,
           0,
           6,
           0,
           0,
           6,
           0,
           0,
           6,
           0,
           0,
           6,
           0,
           0,
           6,
           0,
           0,
           6,
           0,
           0,
           6,
           0,
           0,
           6,
           0,
           0,
           6,
           0,
           0,
           6,
           0,
           0,
           6,
           0,
           0,
           6,
           0,
           0,
           6,
           0,
           0,
           6,
           0,
           0,
           6,
           0,
           0,
           6,
           0,
           0,
           6,
           0,
           0,
           6,
           0,
           0,
           6,
           0,
           0,
           6,
           0,
           0,
           6,
           0,
           0,
           6,
           0,
           0,
           6,
           0,
           0,
           6,
           0,
           0,
           6,
           0,
           0,
           6,
           0,
           0,
           6,
           0,
           0,
           6,
           0,
           0,
           6,
           0,
           0,
           6,
           0,
           0,
           6,
           0,
           0,
           6,
           0,
           0,
           6,
           0,
           0,
           6,
           0,
           0,
           6,
           0,
           0,
           6,
           0,
           0,
           6,
           0,
           0,
           6,
           0,
           0,
           6,
           0,
           0,
           6,
           0,
           0,
           6,
           0,
           0,
           6,
           0,
           0,
           6,
           0,
           0,
           6,
           0,
           0,
           6,
           0,
           0,
           6,
           0,
           0,
           6,
           0,
           0,
           6,
           0,
           0,
           6,
           0,
           0,
           6,
           0,
           0,
           6,
           0,
           0,
           6,
           0,
           0,
           6,
           0,
           0,
           6,
           0,
           0,
           6,
           0,
           0,
           6,
           0,
           0,
           6,
           0,
           0,
           6,
           0,
           0,
           6,
           0,
           0,
           6,
           0,
           0,
           6,
           0,
           0,
           6,
           0,
           0,
           6,
           0,
           0,
           6,
           0,
           0,
           6,
           0,
           0,
           6,
           0,
           0,
           6,
           0,
           0,
           6,
           0,
           0,
           6,
           0,
           0,
           6,
           0,
           0,
           6,
           0,
           0,
           6,
           0,
           0,
           6,
           0,
           0,
           6,
           0,
           0,
           6,
           0,
           0,
           6,
           0,
           0,
           6,
           0,
           0,
           6,
           0,
           0,
           6,
           0,
           0,
           6,
           0,
           0,
           6,
           0,
           0,
           6,
           0
          ],
          "symbol": "diamond"
         },
         "mode": "lines+markers",
         "name": "Ray 0",
         "showlegend": false,
         "type": "scatter3d",
         "x": [
          0,
          -0.13231323659420013,
          null,
          0,
          0.13141314685344696,
          null,
          0,
          -0.06390639394521713,
          null,
          0,
          0.06030603498220444,
          null,
          0,
          -0.05670567601919174,
          null,
          0,
          0.1233123391866684,
          null,
          0,
          -0.05670567601919174,
          null,
          0,
          0.1233123317360878,
          null,
          0,
          -0.056705672293901443,
          null,
          0,
          0.1233123317360878,
          null,
          0,
          -0.056705672293901443,
          null,
          0,
          0.1233123317360878,
          null,
          0,
          -0.056705668568611145,
          null,
          0,
          0.1233123242855072,
          null,
          0,
          -0.056705672293901443,
          null,
          0,
          0.1233123317360878,
          null,
          0,
          -0.056705672293901443,
          null,
          0,
          0.1233123242855072,
          null,
          0,
          -0.056705672293901443,
          null,
          0,
          0.1233123317360878,
          null,
          0,
          -0.056705668568611145,
          null,
          0,
          0.1233123317360878,
          null,
          0,
          -0.056705668568611145,
          null,
          0,
          0.1233123391866684,
          null,
          0,
          -0.05670567601919174,
          null,
          0,
          0.1233123317360878,
          null,
          0,
          -0.05670567601919174,
          null,
          0,
          0.1233123391866684,
          null,
          0,
          -0.005400539841502905,
          null,
          0,
          0.09900990128517151,
          null,
          0,
          -0.12511251866817474,
          null,
          0,
          0.1062106266617775,
          null,
          -0.13231323659420013,
          -0.13232943525894886,
          null,
          0.13141314685344696,
          0.1323340188749139,
          null,
          -0.06390639394521713,
          -0.0658742869404692,
          null,
          0.06030603125691414,
          0.062474672393727226,
          null,
          -0.056705672293901443,
          -0.05901349933759132,
          null,
          0.1233123317360878,
          0.1268091436648963,
          null,
          -0.056705672293901443,
          -0.059409156145275206,
          null,
          0.1233123317360878,
          0.127603836185288,
          null,
          -0.056705672293901443,
          -0.059727406381399575,
          null,
          0.1233123317360878,
          0.12822734566980273,
          null,
          -0.056705672293901443,
          -0.059969778363651985,
          null,
          0.1233123317360878,
          0.12868339551015792,
          null,
          -0.056705672293901443,
          -0.060137261073664454,
          null,
          0.1233123317360878,
          0.1289743628271323,
          null,
          -0.056705672293901443,
          -0.06023045629746142,
          null,
          0.1233123317360878,
          0.1291016227361094,
          null,
          -0.056705672293901443,
          -0.06024967162045075,
          null,
          0.1233123317360878,
          0.1290657435637192,
          null,
          -0.056705672293901443,
          -0.06019496809611671,
          null,
          0.1233123317360878,
          0.12886656708730268,
          null,
          -0.056705672293901443,
          -0.06006616978649566,
          null,
          0.1233123317360878,
          0.12850318615379502,
          null,
          -0.056705672293901443,
          -0.05986283637542504,
          null,
          0.1233123317360878,
          0.12797381670460778,
          null,
          -0.056705672293901443,
          -0.059584195027253324,
          null,
          0.1233123317360878,
          0.12727554217910556,
          null,
          -0.056705672293901443,
          -0.059229021462951746,
          null,
          0.1233123317360878,
          0.12640388572524003,
          null,
          -0.005400539841502905,
          -0.0056222487517469085,
          null,
          0.09900990128517151,
          0.10133635436090566,
          null,
          -0.12511251866817474,
          -0.12632139564700148,
          null,
          0.1062106192111969,
          0.10719544756159649,
          null,
          -0.13232943525894886,
          -0.3683688572074827,
          null,
          0.1323340188749139,
          0.36429804276604294,
          null,
          -0.0658742869404692,
          -0.17487756002168248,
          null,
          0.06247467239372722,
          0.1646194763816189,
          null,
          -0.05901349933759131,
          -0.15445837948133767,
          null,
          0.1268091436648963,
          0.33784583548139935,
          null,
          -0.059409156145275206,
          -0.15399597724990174,
          null,
          0.12760383618528798,
          0.3367923799018594,
          null,
          -0.059727406381399575,
          -0.15364736961402486,
          null,
          0.12822734566980273,
          0.3360116105971291,
          null,
          -0.059969778363651985,
          -0.15339528583241424,
          null,
          0.12868339551015792,
          0.3354651106223311,
          null,
          -0.060137261073664454,
          -0.15322766385260822,
          null,
          0.1289743628271323,
          0.33512700060947276,
          null,
          -0.06023045629746142,
          -0.15313666905992412,
          null,
          0.1291016227361094,
          0.33498166608003366,
          null,
          -0.06024967162045075,
          -0.15311810763617684,
          null,
          0.12906574356371917,
          0.33502248556759195,
          null,
          -0.06019496809611672,
          -0.1531711291045994,
          null,
          0.12886656708730268,
          0.335251313394665,
          null,
          -0.06006616978649566,
          -0.1532981673599347,
          null,
          0.12850318615379502,
          0.3356786232666503,
          null,
          -0.05986283637542504,
          -0.15350511061354782,
          null,
          0.12797381670460778,
          0.33632433791935923,
          null,
          -0.05958419502725332,
          -0.15380172843477385,
          null,
          0.12727554217910556,
          0.337219500452441,
          null,
          -0.059229021462951746,
          -0.15420243006528409,
          null,
          0.12640388572524003,
          0.33840912078152585,
          null,
          -0.005622248751746909,
          -0.014708005714306045,
          null,
          0.10133635436090566,
          0.27193707116353094,
          null,
          -0.12632139564700148,
          -0.34628206872100364,
          null,
          0.10719544756159649,
          0.2940338576231456,
          null
         ],
         "y": [
          0,
          0.18001800775527954,
          null,
          0,
          0.16651664674282074,
          null,
          0,
          0.15301530063152313,
          null,
          0,
          0.14131413400173187,
          null,
          0,
          0.1296129673719406,
          null,
          0,
          0.11881189048290253,
          null,
          0,
          0.10711071640253067,
          null,
          0,
          0.09630963206291199,
          null,
          0,
          0.08460845798254013,
          null,
          0,
          0.07380738109350204,
          null,
          0,
          0.062106210738420486,
          null,
          0,
          0.0513051301240921,
          null,
          0,
          0.039603959769010544,
          null,
          0,
          0.02880287915468216,
          null,
          0,
          0.01710171066224575,
          null,
          0,
          0.006300630047917366,
          null,
          0,
          -0.005400539841502905,
          null,
          0,
          -0.016201619058847427,
          null,
          0,
          -0.027902789413928986,
          null,
          0,
          -0.03870387002825737,
          null,
          0,
          -0.05040503665804863,
          null,
          0,
          -0.06120612099766731,
          null,
          0,
          -0.07290729135274887,
          null,
          0,
          -0.08370837569236755,
          null,
          0,
          -0.09540954977273941,
          null,
          0,
          -0.1062106192111969,
          null,
          0,
          -0.11791180074214935,
          null,
          0,
          -0.12871287763118744,
          null,
          0,
          -0.1404140442609787,
          null,
          0,
          -0.15211521089076996,
          null,
          0,
          -0.16561654210090637,
          null,
          0,
          -0.17911791801452637,
          null,
          0.18001800775527954,
          0.18004004675478874,
          null,
          0.16651664674282074,
          0.16768350504250792,
          null,
          0.15301530063152313,
          0.1577271568275916,
          null,
          0.14131413400173187,
          0.1463958752110597,
          null,
          0.1296129673719406,
          0.13488800070129642,
          null,
          0.11881188303232193,
          0.12218107412637076,
          null,
          0.10711070895195007,
          0.11221728930355865,
          null,
          0.09630963206291199,
          0.0996613910368919,
          null,
          0.08460845798254013,
          0.08911707680732728,
          null,
          0.07380738109350204,
          0.07674921425307571,
          null,
          0.062106210738420486,
          0.06568118395079675,
          null,
          0.0513051301240921,
          0.053539806266809306,
          null,
          0.039603959769010544,
          0.04200062483759731,
          null,
          0.02880288101732731,
          0.030125399256466533,
          null,
          0.01710171066224575,
          0.0181647407567197,
          null,
          0.006300630047917366,
          0.0065964332357845755,
          null,
          -0.005400539841502905,
          -0.005738063563329009,
          null,
          -0.016201620921492577,
          -0.01695754367572297,
          null,
          -0.027902789413928986,
          -0.02961974438569096,
          null,
          -0.03870387002825737,
          -0.040447170151718274,
          null,
          -0.05040504038333893,
          -0.05339214916752555,
          null,
          -0.06120612099766731,
          -0.06378260348809195,
          null,
          -0.07290729135274887,
          -0.07696650222581755,
          null,
          -0.08370836824178696,
          -0.08687273383932946,
          null,
          -0.09540954232215881,
          -0.10025277097007256,
          null,
          -0.1062106192111969,
          -0.1096241872565898,
          null,
          -0.11791179329156876,
          -0.12315875737095434,
          null,
          -0.12871287763118744,
          -0.13193982829130138,
          null,
          -0.1404140442609787,
          -0.1461784762714259,
          null,
          -0.15211521089076996,
          -0.15568948877256986,
          null,
          -0.16561655700206757,
          -0.16721679689175714,
          null,
          -0.17911791801452637,
          -0.18077877269210327,
          null,
          0.18004004675478874,
          0.5011821152630384,
          null,
          0.16768350504250792,
          0.46161050053861497,
          null,
          0.15772715682759159,
          0.41872089424046843,
          null,
          0.14639587521105968,
          0.385750119180988,
          null,
          0.13488800070129642,
          0.35304773032715686,
          null,
          0.12218107412637076,
          0.32551569922528634,
          null,
          0.11221728930355865,
          0.29088127574777567,
          null,
          0.0996613910368919,
          0.2630422256499099,
          null,
          0.08911707680732728,
          0.22925161611238212,
          null,
          0.07674921425307571,
          0.20111643860778503,
          null,
          0.06568118395079675,
          0.16800435587486637,
          null,
          0.053539806266809306,
          0.13957307359499685,
          null,
          0.04200062483759732,
          0.10701614122950467,
          null,
          0.030125399256466533,
          0.07827784122115944,
          null,
          0.0181647407567197,
          0.046184074716006135,
          null,
          0.0065964332357845755,
          0.017115851440733142,
          null,
          -0.005738063563329009,
          -0.014582675899843554,
          null,
          -0.01695754367572297,
          -0.04401755473215051,
          null,
          -0.02961974438569096,
          -0.07536991603852325,
          null,
          -0.04044717015171827,
          -0.1052248633834921,
          null,
          -0.05339214916752555,
          -0.1362650331772961,
          null,
          -0.06378260348809195,
          -0.16661420753895484,
          null,
          -0.07696650222581755,
          -0.19736370932404068,
          null,
          -0.08687273383932946,
          -0.2283077542275505,
          null,
          -0.10025277097007256,
          -0.25877750716477976,
          null,
          -0.1096241872565898,
          -0.29045182626015076,
          null,
          -0.12315875737095434,
          -0.32064314421100387,
          null,
          -0.13193982829130138,
          -0.35322997415742624,
          null,
          -0.14617847627142594,
          -0.3824081713995046,
          null,
          -0.15568948877256986,
          -0.41779422453837034,
          null,
          -0.16721679689175714,
          -0.4583877343659798,
          null,
          -0.18077877269210327,
          -0.49587068406513246,
          null
         ],
         "z": [
          0,
          -1,
          null,
          0,
          -1,
          null,
          0,
          -0.9999999403953552,
          null,
          0,
          -1,
          null,
          0,
          -1,
          null,
          0,
          -1.0000001192092896,
          null,
          0,
          -1,
          null,
          0,
          -1,
          null,
          0,
          -1,
          null,
          0,
          -1,
          null,
          0,
          -1,
          null,
          0,
          -1,
          null,
          0,
          -0.9999999403953552,
          null,
          0,
          -0.9999999403953552,
          null,
          0,
          -0.9999999403953552,
          null,
          0,
          -1,
          null,
          0,
          -1,
          null,
          0,
          -0.9999999403953552,
          null,
          0,
          -1,
          null,
          0,
          -1,
          null,
          0,
          -0.9999999403953552,
          null,
          0,
          -1,
          null,
          0,
          -0.9999999403953552,
          null,
          0,
          -1,
          null,
          0,
          -1,
          null,
          0,
          -1,
          null,
          0,
          -1,
          null,
          0,
          -1,
          null,
          0,
          -1,
          null,
          0,
          -1,
          null,
          0,
          -0.9999999403953552,
          null,
          0,
          -1,
          null,
          -1,
          -1.0001861686745144,
          null,
          -1,
          -1.0106417565087065,
          null,
          -1,
          -1.0465415225051737,
          null,
          -1,
          -1.0542934584893688,
          null,
          -1,
          -1.0613859869287932,
          null,
          -1,
          -1.0428810947939382,
          null,
          -1,
          -1.0718047684413718,
          null,
          -1,
          -1.05255666320133,
          null,
          -1,
          -1.0801620665762375,
          null,
          -1,
          -1.060129402286655,
          null,
          -1,
          -1.0865128404763669,
          null,
          -1,
          -1.0656578116014825,
          null,
          -1,
          -1.0908942373850148,
          null,
          -1,
          -1.0691803745687523,
          null,
          -1,
          -1.0933297365209345,
          null,
          -1,
          -1.0707198885849896,
          null,
          -1,
          -1.093831672384328,
          null,
          -1,
          -1.0702859144514014,
          null,
          -1,
          -1.0924025248838214,
          null,
          -1,
          -1.0678757814992832,
          null,
          -1,
          -1.0890351771920723,
          null,
          -1,
          -1.0634743073633632,
          null,
          -1,
          -1.0837121751991132,
          null,
          -1,
          -1.0570521938310127,
          null,
          -1,
          -1.0764038813326913,
          null,
          -1,
          -1.048562816872007,
          null,
          -1,
          -1.0670652420278304,
          null,
          -1,
          -1.037936839064535,
          null,
          -1,
          -1.0619164817149498,
          null,
          -1,
          -1.0355668193328103,
          null,
          -1,
          -1.0146658981744763,
          null,
          -1,
          -1.0140751535466128,
          null,
          -1.0001861686745144,
          -1.9441493027698336,
          null,
          -1.0106417565087065,
          -1.9618498207707944,
          null,
          -1.0465415225051737,
          -2.019936727375468,
          null,
          -1.0542934584893688,
          -2.0319858675784097,
          null,
          -1.0613859869287932,
          -2.042870384078558,
          null,
          -1.0428810947939382,
          -2.014189850850492,
          null,
          -1.0718047684413718,
          -2.058628314251588,
          null,
          -1.05255666320133,
          -2.029300382116091,
          null,
          -1.0801620665762375,
          -2.071078529241913,
          null,
          -1.060129402286655,
          -2.0409514623226426,
          null,
          -1.0865128404763669,
          -2.080431508129696,
          null,
          -1.0656578116014825,
          -2.049363919547604,
          null,
          -1.0908942373850148,
          -2.0868315479870607,
          null,
          -1.0691803745687523,
          -2.0546842707905144,
          null,
          -1.0933297365209345,
          -2.0903710167883873,
          null,
          -1.0707198885849896,
          -2.0569999394763023,
          null,
          -1.093831672384328,
          -2.0910988811870967,
          null,
          -1.0702859144514014,
          -2.0563477583519996,
          null,
          -1.0924025248838214,
          -2.0890250283547953,
          null,
          -1.0678757814992832,
          -2.0527174275237545,
          null,
          -1.0890351771920723,
          -2.084121123877485,
          null,
          -1.0634743073633632,
          -2.0460505537311056,
          null,
          -1.0837121751991132,
          -2.0763181411144283,
          null,
          -1.0570521938310127,
          -2.0362351069827667,
          null,
          -1.0764038813326913,
          -2.065500154997323,
          null,
          -1.048562816872007,
          -2.023094235616739,
          null,
          -1.0670652420278304,
          -2.051493326224672,
          null,
          -1.037936839064535,
          -2.006367191538046,
          null,
          -1.0619164817149498,
          -2.043679289048083,
          null,
          -1.0355668193328103,
          -2.0025923933245338,
          null,
          -1.0146658981744763,
          -1.96856250344298,
          null,
          -1.0140751535466128,
          -1.9675804654813813,
          null
         ]
        },
        {
         "marker": {
          "color": "rgba(0, 0, 0, 0.0)",
          "size": 0.01
         },
         "showlegend": false,
         "type": "scatter3d",
         "x": [
          0
         ],
         "y": [
          0
         ],
         "z": [
          0
         ]
        }
       ],
       "layout": {
        "legend": {
         "y": 0.96
        },
        "margin": {
         "b": 0,
         "l": 0,
         "r": 0,
         "t": 0
        },
        "scene": {
         "aspectmode": "data"
        },
        "template": {
         "data": {
          "bar": [
           {
            "error_x": {
             "color": "#2a3f5f"
            },
            "error_y": {
             "color": "#2a3f5f"
            },
            "marker": {
             "line": {
              "color": "#E5ECF6",
              "width": 0.5
             },
             "pattern": {
              "fillmode": "overlay",
              "size": 10,
              "solidity": 0.2
             }
            },
            "type": "bar"
           }
          ],
          "barpolar": [
           {
            "marker": {
             "line": {
              "color": "#E5ECF6",
              "width": 0.5
             },
             "pattern": {
              "fillmode": "overlay",
              "size": 10,
              "solidity": 0.2
             }
            },
            "type": "barpolar"
           }
          ],
          "carpet": [
           {
            "aaxis": {
             "endlinecolor": "#2a3f5f",
             "gridcolor": "white",
             "linecolor": "white",
             "minorgridcolor": "white",
             "startlinecolor": "#2a3f5f"
            },
            "baxis": {
             "endlinecolor": "#2a3f5f",
             "gridcolor": "white",
             "linecolor": "white",
             "minorgridcolor": "white",
             "startlinecolor": "#2a3f5f"
            },
            "type": "carpet"
           }
          ],
          "choropleth": [
           {
            "colorbar": {
             "outlinewidth": 0,
             "ticks": ""
            },
            "type": "choropleth"
           }
          ],
          "contour": [
           {
            "colorbar": {
             "outlinewidth": 0,
             "ticks": ""
            },
            "colorscale": [
             [
              0,
              "#0d0887"
             ],
             [
              0.1111111111111111,
              "#46039f"
             ],
             [
              0.2222222222222222,
              "#7201a8"
             ],
             [
              0.3333333333333333,
              "#9c179e"
             ],
             [
              0.4444444444444444,
              "#bd3786"
             ],
             [
              0.5555555555555556,
              "#d8576b"
             ],
             [
              0.6666666666666666,
              "#ed7953"
             ],
             [
              0.7777777777777778,
              "#fb9f3a"
             ],
             [
              0.8888888888888888,
              "#fdca26"
             ],
             [
              1,
              "#f0f921"
             ]
            ],
            "type": "contour"
           }
          ],
          "contourcarpet": [
           {
            "colorbar": {
             "outlinewidth": 0,
             "ticks": ""
            },
            "type": "contourcarpet"
           }
          ],
          "heatmap": [
           {
            "colorbar": {
             "outlinewidth": 0,
             "ticks": ""
            },
            "colorscale": [
             [
              0,
              "#0d0887"
             ],
             [
              0.1111111111111111,
              "#46039f"
             ],
             [
              0.2222222222222222,
              "#7201a8"
             ],
             [
              0.3333333333333333,
              "#9c179e"
             ],
             [
              0.4444444444444444,
              "#bd3786"
             ],
             [
              0.5555555555555556,
              "#d8576b"
             ],
             [
              0.6666666666666666,
              "#ed7953"
             ],
             [
              0.7777777777777778,
              "#fb9f3a"
             ],
             [
              0.8888888888888888,
              "#fdca26"
             ],
             [
              1,
              "#f0f921"
             ]
            ],
            "type": "heatmap"
           }
          ],
          "heatmapgl": [
           {
            "colorbar": {
             "outlinewidth": 0,
             "ticks": ""
            },
            "colorscale": [
             [
              0,
              "#0d0887"
             ],
             [
              0.1111111111111111,
              "#46039f"
             ],
             [
              0.2222222222222222,
              "#7201a8"
             ],
             [
              0.3333333333333333,
              "#9c179e"
             ],
             [
              0.4444444444444444,
              "#bd3786"
             ],
             [
              0.5555555555555556,
              "#d8576b"
             ],
             [
              0.6666666666666666,
              "#ed7953"
             ],
             [
              0.7777777777777778,
              "#fb9f3a"
             ],
             [
              0.8888888888888888,
              "#fdca26"
             ],
             [
              1,
              "#f0f921"
             ]
            ],
            "type": "heatmapgl"
           }
          ],
          "histogram": [
           {
            "marker": {
             "pattern": {
              "fillmode": "overlay",
              "size": 10,
              "solidity": 0.2
             }
            },
            "type": "histogram"
           }
          ],
          "histogram2d": [
           {
            "colorbar": {
             "outlinewidth": 0,
             "ticks": ""
            },
            "colorscale": [
             [
              0,
              "#0d0887"
             ],
             [
              0.1111111111111111,
              "#46039f"
             ],
             [
              0.2222222222222222,
              "#7201a8"
             ],
             [
              0.3333333333333333,
              "#9c179e"
             ],
             [
              0.4444444444444444,
              "#bd3786"
             ],
             [
              0.5555555555555556,
              "#d8576b"
             ],
             [
              0.6666666666666666,
              "#ed7953"
             ],
             [
              0.7777777777777778,
              "#fb9f3a"
             ],
             [
              0.8888888888888888,
              "#fdca26"
             ],
             [
              1,
              "#f0f921"
             ]
            ],
            "type": "histogram2d"
           }
          ],
          "histogram2dcontour": [
           {
            "colorbar": {
             "outlinewidth": 0,
             "ticks": ""
            },
            "colorscale": [
             [
              0,
              "#0d0887"
             ],
             [
              0.1111111111111111,
              "#46039f"
             ],
             [
              0.2222222222222222,
              "#7201a8"
             ],
             [
              0.3333333333333333,
              "#9c179e"
             ],
             [
              0.4444444444444444,
              "#bd3786"
             ],
             [
              0.5555555555555556,
              "#d8576b"
             ],
             [
              0.6666666666666666,
              "#ed7953"
             ],
             [
              0.7777777777777778,
              "#fb9f3a"
             ],
             [
              0.8888888888888888,
              "#fdca26"
             ],
             [
              1,
              "#f0f921"
             ]
            ],
            "type": "histogram2dcontour"
           }
          ],
          "mesh3d": [
           {
            "colorbar": {
             "outlinewidth": 0,
             "ticks": ""
            },
            "type": "mesh3d"
           }
          ],
          "parcoords": [
           {
            "line": {
             "colorbar": {
              "outlinewidth": 0,
              "ticks": ""
             }
            },
            "type": "parcoords"
           }
          ],
          "pie": [
           {
            "automargin": true,
            "type": "pie"
           }
          ],
          "scatter": [
           {
            "fillpattern": {
             "fillmode": "overlay",
             "size": 10,
             "solidity": 0.2
            },
            "type": "scatter"
           }
          ],
          "scatter3d": [
           {
            "line": {
             "colorbar": {
              "outlinewidth": 0,
              "ticks": ""
             }
            },
            "marker": {
             "colorbar": {
              "outlinewidth": 0,
              "ticks": ""
             }
            },
            "type": "scatter3d"
           }
          ],
          "scattercarpet": [
           {
            "marker": {
             "colorbar": {
              "outlinewidth": 0,
              "ticks": ""
             }
            },
            "type": "scattercarpet"
           }
          ],
          "scattergeo": [
           {
            "marker": {
             "colorbar": {
              "outlinewidth": 0,
              "ticks": ""
             }
            },
            "type": "scattergeo"
           }
          ],
          "scattergl": [
           {
            "marker": {
             "colorbar": {
              "outlinewidth": 0,
              "ticks": ""
             }
            },
            "type": "scattergl"
           }
          ],
          "scattermapbox": [
           {
            "marker": {
             "colorbar": {
              "outlinewidth": 0,
              "ticks": ""
             }
            },
            "type": "scattermapbox"
           }
          ],
          "scatterpolar": [
           {
            "marker": {
             "colorbar": {
              "outlinewidth": 0,
              "ticks": ""
             }
            },
            "type": "scatterpolar"
           }
          ],
          "scatterpolargl": [
           {
            "marker": {
             "colorbar": {
              "outlinewidth": 0,
              "ticks": ""
             }
            },
            "type": "scatterpolargl"
           }
          ],
          "scatterternary": [
           {
            "marker": {
             "colorbar": {
              "outlinewidth": 0,
              "ticks": ""
             }
            },
            "type": "scatterternary"
           }
          ],
          "surface": [
           {
            "colorbar": {
             "outlinewidth": 0,
             "ticks": ""
            },
            "colorscale": [
             [
              0,
              "#0d0887"
             ],
             [
              0.1111111111111111,
              "#46039f"
             ],
             [
              0.2222222222222222,
              "#7201a8"
             ],
             [
              0.3333333333333333,
              "#9c179e"
             ],
             [
              0.4444444444444444,
              "#bd3786"
             ],
             [
              0.5555555555555556,
              "#d8576b"
             ],
             [
              0.6666666666666666,
              "#ed7953"
             ],
             [
              0.7777777777777778,
              "#fb9f3a"
             ],
             [
              0.8888888888888888,
              "#fdca26"
             ],
             [
              1,
              "#f0f921"
             ]
            ],
            "type": "surface"
           }
          ],
          "table": [
           {
            "cells": {
             "fill": {
              "color": "#EBF0F8"
             },
             "line": {
              "color": "white"
             }
            },
            "header": {
             "fill": {
              "color": "#C8D4E3"
             },
             "line": {
              "color": "white"
             }
            },
            "type": "table"
           }
          ]
         },
         "layout": {
          "annotationdefaults": {
           "arrowcolor": "#2a3f5f",
           "arrowhead": 0,
           "arrowwidth": 1
          },
          "autotypenumbers": "strict",
          "coloraxis": {
           "colorbar": {
            "outlinewidth": 0,
            "ticks": ""
           }
          },
          "colorscale": {
           "diverging": [
            [
             0,
             "#8e0152"
            ],
            [
             0.1,
             "#c51b7d"
            ],
            [
             0.2,
             "#de77ae"
            ],
            [
             0.3,
             "#f1b6da"
            ],
            [
             0.4,
             "#fde0ef"
            ],
            [
             0.5,
             "#f7f7f7"
            ],
            [
             0.6,
             "#e6f5d0"
            ],
            [
             0.7,
             "#b8e186"
            ],
            [
             0.8,
             "#7fbc41"
            ],
            [
             0.9,
             "#4d9221"
            ],
            [
             1,
             "#276419"
            ]
           ],
           "sequential": [
            [
             0,
             "#0d0887"
            ],
            [
             0.1111111111111111,
             "#46039f"
            ],
            [
             0.2222222222222222,
             "#7201a8"
            ],
            [
             0.3333333333333333,
             "#9c179e"
            ],
            [
             0.4444444444444444,
             "#bd3786"
            ],
            [
             0.5555555555555556,
             "#d8576b"
            ],
            [
             0.6666666666666666,
             "#ed7953"
            ],
            [
             0.7777777777777778,
             "#fb9f3a"
            ],
            [
             0.8888888888888888,
             "#fdca26"
            ],
            [
             1,
             "#f0f921"
            ]
           ],
           "sequentialminus": [
            [
             0,
             "#0d0887"
            ],
            [
             0.1111111111111111,
             "#46039f"
            ],
            [
             0.2222222222222222,
             "#7201a8"
            ],
            [
             0.3333333333333333,
             "#9c179e"
            ],
            [
             0.4444444444444444,
             "#bd3786"
            ],
            [
             0.5555555555555556,
             "#d8576b"
            ],
            [
             0.6666666666666666,
             "#ed7953"
            ],
            [
             0.7777777777777778,
             "#fb9f3a"
            ],
            [
             0.8888888888888888,
             "#fdca26"
            ],
            [
             1,
             "#f0f921"
            ]
           ]
          },
          "colorway": [
           "#636efa",
           "#EF553B",
           "#00cc96",
           "#ab63fa",
           "#FFA15A",
           "#19d3f3",
           "#FF6692",
           "#B6E880",
           "#FF97FF",
           "#FECB52"
          ],
          "font": {
           "color": "#2a3f5f"
          },
          "geo": {
           "bgcolor": "white",
           "lakecolor": "white",
           "landcolor": "#E5ECF6",
           "showlakes": true,
           "showland": true,
           "subunitcolor": "white"
          },
          "hoverlabel": {
           "align": "left"
          },
          "hovermode": "closest",
          "mapbox": {
           "style": "light"
          },
          "paper_bgcolor": "white",
          "plot_bgcolor": "#E5ECF6",
          "polar": {
           "angularaxis": {
            "gridcolor": "white",
            "linecolor": "white",
            "ticks": ""
           },
           "bgcolor": "#E5ECF6",
           "radialaxis": {
            "gridcolor": "white",
            "linecolor": "white",
            "ticks": ""
           }
          },
          "scene": {
           "xaxis": {
            "backgroundcolor": "#E5ECF6",
            "gridcolor": "white",
            "gridwidth": 2,
            "linecolor": "white",
            "showbackground": true,
            "ticks": "",
            "zerolinecolor": "white"
           },
           "yaxis": {
            "backgroundcolor": "#E5ECF6",
            "gridcolor": "white",
            "gridwidth": 2,
            "linecolor": "white",
            "showbackground": true,
            "ticks": "",
            "zerolinecolor": "white"
           },
           "zaxis": {
            "backgroundcolor": "#E5ECF6",
            "gridcolor": "white",
            "gridwidth": 2,
            "linecolor": "white",
            "showbackground": true,
            "ticks": "",
            "zerolinecolor": "white"
           }
          },
          "shapedefaults": {
           "line": {
            "color": "#2a3f5f"
           }
          },
          "ternary": {
           "aaxis": {
            "gridcolor": "white",
            "linecolor": "white",
            "ticks": ""
           },
           "baxis": {
            "gridcolor": "white",
            "linecolor": "white",
            "ticks": ""
           },
           "bgcolor": "#E5ECF6",
           "caxis": {
            "gridcolor": "white",
            "linecolor": "white",
            "ticks": ""
           }
          },
          "title": {
           "x": 0.05
          },
          "xaxis": {
           "automargin": true,
           "gridcolor": "white",
           "linecolor": "white",
           "ticks": "",
           "title": {
            "standoff": 15
           },
           "zerolinecolor": "white",
           "zerolinewidth": 2
          },
          "yaxis": {
           "automargin": true,
           "gridcolor": "white",
           "linecolor": "white",
           "ticks": "",
           "title": {
            "standoff": 15
           },
           "zerolinecolor": "white",
           "zerolinewidth": 2
          }
         }
        }
       }
      },
      "text/html": [
       "<div>                            <div id=\"fc0d7a39-795c-40f6-802d-15c4d60b8836\" class=\"plotly-graph-div\" style=\"height:525px; width:100%;\"></div>            <script type=\"text/javascript\">                require([\"plotly\"], function(Plotly) {                    window.PLOTLYENV=window.PLOTLYENV || {};                                    if (document.getElementById(\"fc0d7a39-795c-40f6-802d-15c4d60b8836\")) {                    Plotly.newPlot(                        \"fc0d7a39-795c-40f6-802d-15c4d60b8836\",                        [{\"legendgroup\":\"Ray 0\",\"marker\":{\"size\":[0,6,0,0,6,0,0,6,0,0,6,0,0,6,0,0,6,0,0,6,0,0,6,0,0,6,0,0,6,0,0,6,0,0,6,0,0,6,0,0,6,0,0,6,0,0,6,0,0,6,0,0,6,0,0,6,0,0,6,0,0,6,0,0,6,0,0,6,0,0,6,0,0,6,0,0,6,0,0,6,0,0,6,0,0,6,0,0,6,0,0,6,0,0,6,0,0,6,0,0,6,0,0,6,0,0,6,0,0,6,0,0,6,0,0,6,0,0,6,0,0,6,0,0,6,0,0,6,0,0,6,0,0,6,0,0,6,0,0,6,0,0,6,0,0,6,0,0,6,0,0,6,0,0,6,0,0,6,0,0,6,0,0,6,0,0,6,0,0,6,0,0,6,0,0,6,0,0,6,0,0,6,0,0,6,0,0,6,0,0,6,0,0,6,0,0,6,0,0,6,0,0,6,0,0,6,0,0,6,0,0,6,0,0,6,0,0,6,0,0,6,0,0,6,0,0,6,0,0,6,0,0,6,0,0,6,0,0,6,0,0,6,0,0,6,0,0,6,0,0,6,0,0,6,0,0,6,0,0,6,0,0,6,0,0,6,0,0,6,0,0,6,0,0,6,0,0,6,0,0,6,0,0,6,0,0,6,0],\"symbol\":\"diamond\"},\"mode\":\"lines+markers\",\"name\":\"Ray 0\",\"x\":[0.0,-0.13231323659420013,null,0.0,0.13141314685344696,null,0.0,-0.06390639394521713,null,0.0,0.06030603498220444,null,0.0,-0.05670567601919174,null,0.0,0.1233123391866684,null,0.0,-0.05670567601919174,null,0.0,0.1233123317360878,null,0.0,-0.056705672293901443,null,0.0,0.1233123317360878,null,0.0,-0.056705672293901443,null,0.0,0.1233123317360878,null,0.0,-0.056705668568611145,null,0.0,0.1233123242855072,null,0.0,-0.056705672293901443,null,0.0,0.1233123317360878,null,0.0,-0.056705672293901443,null,0.0,0.1233123242855072,null,0.0,-0.056705672293901443,null,0.0,0.1233123317360878,null,0.0,-0.056705668568611145,null,0.0,0.1233123317360878,null,0.0,-0.056705668568611145,null,0.0,0.1233123391866684,null,0.0,-0.05670567601919174,null,0.0,0.1233123317360878,null,0.0,-0.05670567601919174,null,0.0,0.1233123391866684,null,0.0,-0.005400539841502905,null,0.0,0.09900990128517151,null,0.0,-0.12511251866817474,null,0.0,0.1062106266617775,null,-0.13231323659420013,-0.13232943525894886,null,0.13141314685344696,0.1323340188749139,null,-0.06390639394521713,-0.0658742869404692,null,0.06030603125691414,0.062474672393727226,null,-0.056705672293901443,-0.05901349933759132,null,0.1233123317360878,0.1268091436648963,null,-0.056705672293901443,-0.059409156145275206,null,0.1233123317360878,0.127603836185288,null,-0.056705672293901443,-0.059727406381399575,null,0.1233123317360878,0.12822734566980273,null,-0.056705672293901443,-0.059969778363651985,null,0.1233123317360878,0.12868339551015792,null,-0.056705672293901443,-0.060137261073664454,null,0.1233123317360878,0.1289743628271323,null,-0.056705672293901443,-0.06023045629746142,null,0.1233123317360878,0.1291016227361094,null,-0.056705672293901443,-0.06024967162045075,null,0.1233123317360878,0.1290657435637192,null,-0.056705672293901443,-0.06019496809611671,null,0.1233123317360878,0.12886656708730268,null,-0.056705672293901443,-0.06006616978649566,null,0.1233123317360878,0.12850318615379502,null,-0.056705672293901443,-0.05986283637542504,null,0.1233123317360878,0.12797381670460778,null,-0.056705672293901443,-0.059584195027253324,null,0.1233123317360878,0.12727554217910556,null,-0.056705672293901443,-0.059229021462951746,null,0.1233123317360878,0.12640388572524003,null,-0.005400539841502905,-0.0056222487517469085,null,0.09900990128517151,0.10133635436090566,null,-0.12511251866817474,-0.12632139564700148,null,0.1062106192111969,0.10719544756159649,null,-0.13232943525894886,-0.3683688572074827,null,0.1323340188749139,0.36429804276604294,null,-0.0658742869404692,-0.17487756002168248,null,0.06247467239372722,0.1646194763816189,null,-0.05901349933759131,-0.15445837948133767,null,0.1268091436648963,0.33784583548139935,null,-0.059409156145275206,-0.15399597724990174,null,0.12760383618528798,0.3367923799018594,null,-0.059727406381399575,-0.15364736961402486,null,0.12822734566980273,0.3360116105971291,null,-0.059969778363651985,-0.15339528583241424,null,0.12868339551015792,0.3354651106223311,null,-0.060137261073664454,-0.15322766385260822,null,0.1289743628271323,0.33512700060947276,null,-0.06023045629746142,-0.15313666905992412,null,0.1291016227361094,0.33498166608003366,null,-0.06024967162045075,-0.15311810763617684,null,0.12906574356371917,0.33502248556759195,null,-0.06019496809611672,-0.1531711291045994,null,0.12886656708730268,0.335251313394665,null,-0.06006616978649566,-0.1532981673599347,null,0.12850318615379502,0.3356786232666503,null,-0.05986283637542504,-0.15350511061354782,null,0.12797381670460778,0.33632433791935923,null,-0.05958419502725332,-0.15380172843477385,null,0.12727554217910556,0.337219500452441,null,-0.059229021462951746,-0.15420243006528409,null,0.12640388572524003,0.33840912078152585,null,-0.005622248751746909,-0.014708005714306045,null,0.10133635436090566,0.27193707116353094,null,-0.12632139564700148,-0.34628206872100364,null,0.10719544756159649,0.2940338576231456,null],\"y\":[0.0,0.18001800775527954,null,0.0,0.16651664674282074,null,0.0,0.15301530063152313,null,0.0,0.14131413400173187,null,0.0,0.1296129673719406,null,0.0,0.11881189048290253,null,0.0,0.10711071640253067,null,0.0,0.09630963206291199,null,0.0,0.08460845798254013,null,0.0,0.07380738109350204,null,0.0,0.062106210738420486,null,0.0,0.0513051301240921,null,0.0,0.039603959769010544,null,0.0,0.02880287915468216,null,0.0,0.01710171066224575,null,0.0,0.006300630047917366,null,0.0,-0.005400539841502905,null,0.0,-0.016201619058847427,null,0.0,-0.027902789413928986,null,0.0,-0.03870387002825737,null,0.0,-0.05040503665804863,null,0.0,-0.06120612099766731,null,0.0,-0.07290729135274887,null,0.0,-0.08370837569236755,null,0.0,-0.09540954977273941,null,0.0,-0.1062106192111969,null,0.0,-0.11791180074214935,null,0.0,-0.12871287763118744,null,0.0,-0.1404140442609787,null,0.0,-0.15211521089076996,null,0.0,-0.16561654210090637,null,0.0,-0.17911791801452637,null,0.18001800775527954,0.18004004675478874,null,0.16651664674282074,0.16768350504250792,null,0.15301530063152313,0.1577271568275916,null,0.14131413400173187,0.1463958752110597,null,0.1296129673719406,0.13488800070129642,null,0.11881188303232193,0.12218107412637076,null,0.10711070895195007,0.11221728930355865,null,0.09630963206291199,0.0996613910368919,null,0.08460845798254013,0.08911707680732728,null,0.07380738109350204,0.07674921425307571,null,0.062106210738420486,0.06568118395079675,null,0.0513051301240921,0.053539806266809306,null,0.039603959769010544,0.04200062483759731,null,0.02880288101732731,0.030125399256466533,null,0.01710171066224575,0.0181647407567197,null,0.006300630047917366,0.0065964332357845755,null,-0.005400539841502905,-0.005738063563329009,null,-0.016201620921492577,-0.01695754367572297,null,-0.027902789413928986,-0.02961974438569096,null,-0.03870387002825737,-0.040447170151718274,null,-0.05040504038333893,-0.05339214916752555,null,-0.06120612099766731,-0.06378260348809195,null,-0.07290729135274887,-0.07696650222581755,null,-0.08370836824178696,-0.08687273383932946,null,-0.09540954232215881,-0.10025277097007256,null,-0.1062106192111969,-0.1096241872565898,null,-0.11791179329156876,-0.12315875737095434,null,-0.12871287763118744,-0.13193982829130138,null,-0.1404140442609787,-0.1461784762714259,null,-0.15211521089076996,-0.15568948877256986,null,-0.16561655700206757,-0.16721679689175714,null,-0.17911791801452637,-0.18077877269210327,null,0.18004004675478874,0.5011821152630384,null,0.16768350504250792,0.46161050053861497,null,0.15772715682759159,0.41872089424046843,null,0.14639587521105968,0.385750119180988,null,0.13488800070129642,0.35304773032715686,null,0.12218107412637076,0.32551569922528634,null,0.11221728930355865,0.29088127574777567,null,0.0996613910368919,0.2630422256499099,null,0.08911707680732728,0.22925161611238212,null,0.07674921425307571,0.20111643860778503,null,0.06568118395079675,0.16800435587486637,null,0.053539806266809306,0.13957307359499685,null,0.04200062483759732,0.10701614122950467,null,0.030125399256466533,0.07827784122115944,null,0.0181647407567197,0.046184074716006135,null,0.0065964332357845755,0.017115851440733142,null,-0.005738063563329009,-0.014582675899843554,null,-0.01695754367572297,-0.04401755473215051,null,-0.02961974438569096,-0.07536991603852325,null,-0.04044717015171827,-0.1052248633834921,null,-0.05339214916752555,-0.1362650331772961,null,-0.06378260348809195,-0.16661420753895484,null,-0.07696650222581755,-0.19736370932404068,null,-0.08687273383932946,-0.2283077542275505,null,-0.10025277097007256,-0.25877750716477976,null,-0.1096241872565898,-0.29045182626015076,null,-0.12315875737095434,-0.32064314421100387,null,-0.13193982829130138,-0.35322997415742624,null,-0.14617847627142594,-0.3824081713995046,null,-0.15568948877256986,-0.41779422453837034,null,-0.16721679689175714,-0.4583877343659798,null,-0.18077877269210327,-0.49587068406513246,null],\"z\":[0.0,-1.0,null,0.0,-1.0,null,0.0,-0.9999999403953552,null,0.0,-1.0,null,0.0,-1.0,null,0.0,-1.0000001192092896,null,0.0,-1.0,null,0.0,-1.0,null,0.0,-1.0,null,0.0,-1.0,null,0.0,-1.0,null,0.0,-1.0,null,0.0,-0.9999999403953552,null,0.0,-0.9999999403953552,null,0.0,-0.9999999403953552,null,0.0,-1.0,null,0.0,-1.0,null,0.0,-0.9999999403953552,null,0.0,-1.0,null,0.0,-1.0,null,0.0,-0.9999999403953552,null,0.0,-1.0,null,0.0,-0.9999999403953552,null,0.0,-1.0,null,0.0,-1.0,null,0.0,-1.0,null,0.0,-1.0,null,0.0,-1.0,null,0.0,-1.0,null,0.0,-1.0,null,0.0,-0.9999999403953552,null,0.0,-1.0,null,-1.0,-1.0001861686745144,null,-1.0,-1.0106417565087065,null,-1.0,-1.0465415225051737,null,-1.0,-1.0542934584893688,null,-1.0,-1.0613859869287932,null,-1.0,-1.0428810947939382,null,-1.0,-1.0718047684413718,null,-1.0,-1.05255666320133,null,-1.0,-1.0801620665762375,null,-1.0,-1.060129402286655,null,-1.0,-1.0865128404763669,null,-1.0,-1.0656578116014825,null,-1.0,-1.0908942373850148,null,-1.0,-1.0691803745687523,null,-1.0,-1.0933297365209345,null,-1.0,-1.0707198885849896,null,-1.0,-1.093831672384328,null,-1.0,-1.0702859144514014,null,-1.0,-1.0924025248838214,null,-1.0,-1.0678757814992832,null,-1.0,-1.0890351771920723,null,-1.0,-1.0634743073633632,null,-1.0,-1.0837121751991132,null,-1.0,-1.0570521938310127,null,-1.0,-1.0764038813326913,null,-1.0,-1.048562816872007,null,-1.0,-1.0670652420278304,null,-1.0,-1.037936839064535,null,-1.0,-1.0619164817149498,null,-1.0,-1.0355668193328103,null,-1.0,-1.0146658981744763,null,-1.0,-1.0140751535466128,null,-1.0001861686745144,-1.9441493027698336,null,-1.0106417565087065,-1.9618498207707944,null,-1.0465415225051737,-2.019936727375468,null,-1.0542934584893688,-2.0319858675784097,null,-1.0613859869287932,-2.042870384078558,null,-1.0428810947939382,-2.014189850850492,null,-1.0718047684413718,-2.058628314251588,null,-1.05255666320133,-2.029300382116091,null,-1.0801620665762375,-2.071078529241913,null,-1.060129402286655,-2.0409514623226426,null,-1.0865128404763669,-2.080431508129696,null,-1.0656578116014825,-2.049363919547604,null,-1.0908942373850148,-2.0868315479870607,null,-1.0691803745687523,-2.0546842707905144,null,-1.0933297365209345,-2.0903710167883873,null,-1.0707198885849896,-2.0569999394763023,null,-1.093831672384328,-2.0910988811870967,null,-1.0702859144514014,-2.0563477583519996,null,-1.0924025248838214,-2.0890250283547953,null,-1.0678757814992832,-2.0527174275237545,null,-1.0890351771920723,-2.084121123877485,null,-1.0634743073633632,-2.0460505537311056,null,-1.0837121751991132,-2.0763181411144283,null,-1.0570521938310127,-2.0362351069827667,null,-1.0764038813326913,-2.065500154997323,null,-1.048562816872007,-2.023094235616739,null,-1.0670652420278304,-2.051493326224672,null,-1.037936839064535,-2.006367191538046,null,-1.0619164817149498,-2.043679289048083,null,-1.0355668193328103,-2.0025923933245338,null,-1.0146658981744763,-1.96856250344298,null,-1.0140751535466128,-1.9675804654813813,null],\"type\":\"scatter3d\",\"showlegend\":false},{\"marker\":{\"color\":\"rgba(0, 0, 0, 0.0)\",\"size\":0.01},\"showlegend\":false,\"x\":[0],\"y\":[0],\"z\":[0],\"type\":\"scatter3d\"}],                        {\"template\":{\"data\":{\"histogram2dcontour\":[{\"type\":\"histogram2dcontour\",\"colorbar\":{\"outlinewidth\":0,\"ticks\":\"\"},\"colorscale\":[[0.0,\"#0d0887\"],[0.1111111111111111,\"#46039f\"],[0.2222222222222222,\"#7201a8\"],[0.3333333333333333,\"#9c179e\"],[0.4444444444444444,\"#bd3786\"],[0.5555555555555556,\"#d8576b\"],[0.6666666666666666,\"#ed7953\"],[0.7777777777777778,\"#fb9f3a\"],[0.8888888888888888,\"#fdca26\"],[1.0,\"#f0f921\"]]}],\"choropleth\":[{\"type\":\"choropleth\",\"colorbar\":{\"outlinewidth\":0,\"ticks\":\"\"}}],\"histogram2d\":[{\"type\":\"histogram2d\",\"colorbar\":{\"outlinewidth\":0,\"ticks\":\"\"},\"colorscale\":[[0.0,\"#0d0887\"],[0.1111111111111111,\"#46039f\"],[0.2222222222222222,\"#7201a8\"],[0.3333333333333333,\"#9c179e\"],[0.4444444444444444,\"#bd3786\"],[0.5555555555555556,\"#d8576b\"],[0.6666666666666666,\"#ed7953\"],[0.7777777777777778,\"#fb9f3a\"],[0.8888888888888888,\"#fdca26\"],[1.0,\"#f0f921\"]]}],\"heatmap\":[{\"type\":\"heatmap\",\"colorbar\":{\"outlinewidth\":0,\"ticks\":\"\"},\"colorscale\":[[0.0,\"#0d0887\"],[0.1111111111111111,\"#46039f\"],[0.2222222222222222,\"#7201a8\"],[0.3333333333333333,\"#9c179e\"],[0.4444444444444444,\"#bd3786\"],[0.5555555555555556,\"#d8576b\"],[0.6666666666666666,\"#ed7953\"],[0.7777777777777778,\"#fb9f3a\"],[0.8888888888888888,\"#fdca26\"],[1.0,\"#f0f921\"]]}],\"heatmapgl\":[{\"type\":\"heatmapgl\",\"colorbar\":{\"outlinewidth\":0,\"ticks\":\"\"},\"colorscale\":[[0.0,\"#0d0887\"],[0.1111111111111111,\"#46039f\"],[0.2222222222222222,\"#7201a8\"],[0.3333333333333333,\"#9c179e\"],[0.4444444444444444,\"#bd3786\"],[0.5555555555555556,\"#d8576b\"],[0.6666666666666666,\"#ed7953\"],[0.7777777777777778,\"#fb9f3a\"],[0.8888888888888888,\"#fdca26\"],[1.0,\"#f0f921\"]]}],\"contourcarpet\":[{\"type\":\"contourcarpet\",\"colorbar\":{\"outlinewidth\":0,\"ticks\":\"\"}}],\"contour\":[{\"type\":\"contour\",\"colorbar\":{\"outlinewidth\":0,\"ticks\":\"\"},\"colorscale\":[[0.0,\"#0d0887\"],[0.1111111111111111,\"#46039f\"],[0.2222222222222222,\"#7201a8\"],[0.3333333333333333,\"#9c179e\"],[0.4444444444444444,\"#bd3786\"],[0.5555555555555556,\"#d8576b\"],[0.6666666666666666,\"#ed7953\"],[0.7777777777777778,\"#fb9f3a\"],[0.8888888888888888,\"#fdca26\"],[1.0,\"#f0f921\"]]}],\"surface\":[{\"type\":\"surface\",\"colorbar\":{\"outlinewidth\":0,\"ticks\":\"\"},\"colorscale\":[[0.0,\"#0d0887\"],[0.1111111111111111,\"#46039f\"],[0.2222222222222222,\"#7201a8\"],[0.3333333333333333,\"#9c179e\"],[0.4444444444444444,\"#bd3786\"],[0.5555555555555556,\"#d8576b\"],[0.6666666666666666,\"#ed7953\"],[0.7777777777777778,\"#fb9f3a\"],[0.8888888888888888,\"#fdca26\"],[1.0,\"#f0f921\"]]}],\"mesh3d\":[{\"type\":\"mesh3d\",\"colorbar\":{\"outlinewidth\":0,\"ticks\":\"\"}}],\"scatter\":[{\"fillpattern\":{\"fillmode\":\"overlay\",\"size\":10,\"solidity\":0.2},\"type\":\"scatter\"}],\"parcoords\":[{\"type\":\"parcoords\",\"line\":{\"colorbar\":{\"outlinewidth\":0,\"ticks\":\"\"}}}],\"scatterpolargl\":[{\"type\":\"scatterpolargl\",\"marker\":{\"colorbar\":{\"outlinewidth\":0,\"ticks\":\"\"}}}],\"bar\":[{\"error_x\":{\"color\":\"#2a3f5f\"},\"error_y\":{\"color\":\"#2a3f5f\"},\"marker\":{\"line\":{\"color\":\"#E5ECF6\",\"width\":0.5},\"pattern\":{\"fillmode\":\"overlay\",\"size\":10,\"solidity\":0.2}},\"type\":\"bar\"}],\"scattergeo\":[{\"type\":\"scattergeo\",\"marker\":{\"colorbar\":{\"outlinewidth\":0,\"ticks\":\"\"}}}],\"scatterpolar\":[{\"type\":\"scatterpolar\",\"marker\":{\"colorbar\":{\"outlinewidth\":0,\"ticks\":\"\"}}}],\"histogram\":[{\"marker\":{\"pattern\":{\"fillmode\":\"overlay\",\"size\":10,\"solidity\":0.2}},\"type\":\"histogram\"}],\"scattergl\":[{\"type\":\"scattergl\",\"marker\":{\"colorbar\":{\"outlinewidth\":0,\"ticks\":\"\"}}}],\"scatter3d\":[{\"type\":\"scatter3d\",\"line\":{\"colorbar\":{\"outlinewidth\":0,\"ticks\":\"\"}},\"marker\":{\"colorbar\":{\"outlinewidth\":0,\"ticks\":\"\"}}}],\"scattermapbox\":[{\"type\":\"scattermapbox\",\"marker\":{\"colorbar\":{\"outlinewidth\":0,\"ticks\":\"\"}}}],\"scatterternary\":[{\"type\":\"scatterternary\",\"marker\":{\"colorbar\":{\"outlinewidth\":0,\"ticks\":\"\"}}}],\"scattercarpet\":[{\"type\":\"scattercarpet\",\"marker\":{\"colorbar\":{\"outlinewidth\":0,\"ticks\":\"\"}}}],\"carpet\":[{\"aaxis\":{\"endlinecolor\":\"#2a3f5f\",\"gridcolor\":\"white\",\"linecolor\":\"white\",\"minorgridcolor\":\"white\",\"startlinecolor\":\"#2a3f5f\"},\"baxis\":{\"endlinecolor\":\"#2a3f5f\",\"gridcolor\":\"white\",\"linecolor\":\"white\",\"minorgridcolor\":\"white\",\"startlinecolor\":\"#2a3f5f\"},\"type\":\"carpet\"}],\"table\":[{\"cells\":{\"fill\":{\"color\":\"#EBF0F8\"},\"line\":{\"color\":\"white\"}},\"header\":{\"fill\":{\"color\":\"#C8D4E3\"},\"line\":{\"color\":\"white\"}},\"type\":\"table\"}],\"barpolar\":[{\"marker\":{\"line\":{\"color\":\"#E5ECF6\",\"width\":0.5},\"pattern\":{\"fillmode\":\"overlay\",\"size\":10,\"solidity\":0.2}},\"type\":\"barpolar\"}],\"pie\":[{\"automargin\":true,\"type\":\"pie\"}]},\"layout\":{\"autotypenumbers\":\"strict\",\"colorway\":[\"#636efa\",\"#EF553B\",\"#00cc96\",\"#ab63fa\",\"#FFA15A\",\"#19d3f3\",\"#FF6692\",\"#B6E880\",\"#FF97FF\",\"#FECB52\"],\"font\":{\"color\":\"#2a3f5f\"},\"hovermode\":\"closest\",\"hoverlabel\":{\"align\":\"left\"},\"paper_bgcolor\":\"white\",\"plot_bgcolor\":\"#E5ECF6\",\"polar\":{\"bgcolor\":\"#E5ECF6\",\"angularaxis\":{\"gridcolor\":\"white\",\"linecolor\":\"white\",\"ticks\":\"\"},\"radialaxis\":{\"gridcolor\":\"white\",\"linecolor\":\"white\",\"ticks\":\"\"}},\"ternary\":{\"bgcolor\":\"#E5ECF6\",\"aaxis\":{\"gridcolor\":\"white\",\"linecolor\":\"white\",\"ticks\":\"\"},\"baxis\":{\"gridcolor\":\"white\",\"linecolor\":\"white\",\"ticks\":\"\"},\"caxis\":{\"gridcolor\":\"white\",\"linecolor\":\"white\",\"ticks\":\"\"}},\"coloraxis\":{\"colorbar\":{\"outlinewidth\":0,\"ticks\":\"\"}},\"colorscale\":{\"sequential\":[[0.0,\"#0d0887\"],[0.1111111111111111,\"#46039f\"],[0.2222222222222222,\"#7201a8\"],[0.3333333333333333,\"#9c179e\"],[0.4444444444444444,\"#bd3786\"],[0.5555555555555556,\"#d8576b\"],[0.6666666666666666,\"#ed7953\"],[0.7777777777777778,\"#fb9f3a\"],[0.8888888888888888,\"#fdca26\"],[1.0,\"#f0f921\"]],\"sequentialminus\":[[0.0,\"#0d0887\"],[0.1111111111111111,\"#46039f\"],[0.2222222222222222,\"#7201a8\"],[0.3333333333333333,\"#9c179e\"],[0.4444444444444444,\"#bd3786\"],[0.5555555555555556,\"#d8576b\"],[0.6666666666666666,\"#ed7953\"],[0.7777777777777778,\"#fb9f3a\"],[0.8888888888888888,\"#fdca26\"],[1.0,\"#f0f921\"]],\"diverging\":[[0,\"#8e0152\"],[0.1,\"#c51b7d\"],[0.2,\"#de77ae\"],[0.3,\"#f1b6da\"],[0.4,\"#fde0ef\"],[0.5,\"#f7f7f7\"],[0.6,\"#e6f5d0\"],[0.7,\"#b8e186\"],[0.8,\"#7fbc41\"],[0.9,\"#4d9221\"],[1,\"#276419\"]]},\"xaxis\":{\"gridcolor\":\"white\",\"linecolor\":\"white\",\"ticks\":\"\",\"title\":{\"standoff\":15},\"zerolinecolor\":\"white\",\"automargin\":true,\"zerolinewidth\":2},\"yaxis\":{\"gridcolor\":\"white\",\"linecolor\":\"white\",\"ticks\":\"\",\"title\":{\"standoff\":15},\"zerolinecolor\":\"white\",\"automargin\":true,\"zerolinewidth\":2},\"scene\":{\"xaxis\":{\"backgroundcolor\":\"#E5ECF6\",\"gridcolor\":\"white\",\"linecolor\":\"white\",\"showbackground\":true,\"ticks\":\"\",\"zerolinecolor\":\"white\",\"gridwidth\":2},\"yaxis\":{\"backgroundcolor\":\"#E5ECF6\",\"gridcolor\":\"white\",\"linecolor\":\"white\",\"showbackground\":true,\"ticks\":\"\",\"zerolinecolor\":\"white\",\"gridwidth\":2},\"zaxis\":{\"backgroundcolor\":\"#E5ECF6\",\"gridcolor\":\"white\",\"linecolor\":\"white\",\"showbackground\":true,\"ticks\":\"\",\"zerolinecolor\":\"white\",\"gridwidth\":2}},\"shapedefaults\":{\"line\":{\"color\":\"#2a3f5f\"}},\"annotationdefaults\":{\"arrowcolor\":\"#2a3f5f\",\"arrowhead\":0,\"arrowwidth\":1},\"geo\":{\"bgcolor\":\"white\",\"landcolor\":\"#E5ECF6\",\"subunitcolor\":\"white\",\"showland\":true,\"showlakes\":true,\"lakecolor\":\"white\"},\"title\":{\"x\":0.05},\"mapbox\":{\"style\":\"light\"}}},\"margin\":{\"l\":0,\"r\":0,\"t\":0,\"b\":0},\"legend\":{\"y\":0.96},\"scene\":{\"aspectmode\":\"data\"}},                        {\"responsive\": true}                    ).then(function(){\n",
       "                            \n",
       "var gd = document.getElementById('fc0d7a39-795c-40f6-802d-15c4d60b8836');\n",
       "var x = new MutationObserver(function (mutations, observer) {{\n",
       "        var display = window.getComputedStyle(gd).display;\n",
       "        if (!display || display === 'none') {{\n",
       "            console.log([gd, 'removed!']);\n",
       "            Plotly.purge(gd);\n",
       "            observer.disconnect();\n",
       "        }}\n",
       "}});\n",
       "\n",
       "// Listen for the removal of the full notebook cells\n",
       "var notebookContainer = gd.closest('#notebook-container');\n",
       "if (notebookContainer) {{\n",
       "    x.observe(notebookContainer, {childList: true});\n",
       "}}\n",
       "\n",
       "// Listen for the clearing of the current output cell\n",
       "var outputEl = gd.closest('.output');\n",
       "if (outputEl) {{\n",
       "    x.observe(outputEl, {childList: true});\n",
       "}}\n",
       "\n",
       "                        })                };                });            </script>        </div>"
      ]
     },
     "metadata": {},
     "output_type": "display_data"
    }
   ],
   "source": [
    "import visu3d as v3d \n",
    "\n",
    "idx = 5000\n",
    "# poss = np.concatenate((r0[valid][::idx, :3], r1[::idx, :3]),axis=0)\n",
    "# dirss = np.concatenate((r0[valid][::idx, 3:], r1[::idx, 3:]),axis=0)\n",
    "\n",
    "viz = visu3d_tracer([r0[valid][::idx], r2[valid][::idx], r4[valid][::idx]])\n",
    "viz.fig"
   ]
  },
  {
   "cell_type": "code",
   "execution_count": 318,
   "metadata": {},
   "outputs": [
    {
     "name": "stderr",
     "output_type": "stream",
     "text": [
      "/tmp/ipykernel_1639677/529445765.py:65: RuntimeWarning:\n",
      "\n",
      "invalid value encountered in sqrt\n",
      "\n"
     ]
    }
   ],
   "source": [
    "## check sphere separately \n",
    "H,W,f = 400,400,1111\n",
    "\n",
    "sphere_center = np.array([0.1, 0.1, -1.])\n",
    "\n",
    "rays = rays_single_cam([H,W, f]).T.numpy()\n",
    "rays_inp = np.concatenate((np.zeros_like(rays), rays),axis=1)\n",
    "r0 = rays_inp\n",
    "rays_inp, valid = intersect_sphere(rays_inp, center=sphere_center, radius=0.1)\n",
    "sphere_normals = rays_inp[valid][:,:3]- sphere_center\n",
    "sphere_normals = sphere_normals / np.linalg.norm(sphere_normals,axis=1,keepdims=True)\n",
    "rays_refrac = refract(rays_inp[valid][:,3:], sphere_normals, 1/1.5)\n",
    "rays_inp = np.concatenate((rays_inp[valid][:,:3], rays_refrac), axis=1) \n",
    "r1 = rays_inp"
   ]
  },
  {
   "cell_type": "code",
   "execution_count": 319,
   "metadata": {},
   "outputs": [
    {
     "data": {
      "application/vnd.plotly.v1+json": {
       "config": {
        "plotlyServerURL": "https://plot.ly"
       },
       "data": [
        {
         "legendgroup": "Ray 0",
         "marker": {
          "size": [
           0,
           6,
           0,
           0,
           6,
           0,
           0,
           6,
           0,
           0,
           6,
           0,
           0,
           6,
           0,
           0,
           6,
           0,
           0,
           6,
           0,
           0,
           6,
           0,
           0,
           6,
           0,
           0,
           6,
           0,
           0,
           6,
           0,
           0,
           6,
           0,
           0,
           6,
           0,
           0,
           6,
           0,
           0,
           6,
           0,
           0,
           6,
           0,
           0,
           6,
           0,
           0,
           6,
           0,
           0,
           6,
           0,
           0,
           6,
           0,
           0,
           6,
           0,
           0,
           6,
           0,
           0,
           6,
           0,
           0,
           6,
           0,
           0,
           6,
           0,
           0,
           6,
           0,
           0,
           6,
           0,
           0,
           6,
           0,
           0,
           6,
           0,
           0,
           6,
           0,
           0,
           6,
           0,
           0,
           6,
           0,
           0,
           6,
           0,
           0,
           6,
           0,
           0,
           6,
           0,
           0,
           6,
           0
          ],
          "symbol": "diamond"
         },
         "mode": "lines+markers",
         "name": "Ray 0",
         "showlegend": false,
         "type": "scatter3d",
         "x": [
          0,
          0.039511289447546005,
          null,
          0,
          0.03893259912729263,
          null,
          0,
          0.1165318414568901,
          null,
          0,
          0.10591287910938263,
          null,
          0,
          0.03136695921421051,
          null,
          0,
          0.10016586631536484,
          null,
          0,
          0.1388973742723465,
          null,
          0,
          0.1556103676557541,
          null,
          0,
          0.16458848118782043,
          null,
          0,
          0.17307576537132263,
          null,
          0,
          0.18317696452140808,
          null,
          0,
          0.02486957423388958,
          null,
          0,
          0.08174630999565125,
          null,
          0,
          0.16894972324371338,
          null,
          0,
          0.13229291141033173,
          null,
          0,
          0.16233091056346893,
          null,
          0,
          0.07168709486722946,
          null,
          0,
          0.1355748325586319,
          null,
          0.039511293172836304,
          -0.3554804217026031,
          null,
          0.03893259912729263,
          -0.26305980681346824,
          null,
          0.11653183400630951,
          0.25304228900293524,
          null,
          0.10591287910938263,
          0.1930996824491183,
          null,
          0.03136695921421051,
          -0.25838588778506427,
          null,
          0.10016586631536484,
          0.16195016444034074,
          null,
          0.1388973742723465,
          0.3611937319092862,
          null,
          0.1556103676557541,
          0.4542383967004405,
          null,
          0.16458849608898163,
          0.5091051501933701,
          null,
          0.17307579517364502,
          0.5686008602110919,
          null,
          0.18317696452140808,
          0.6573954289363657,
          null,
          0.02486957423388958,
          -0.29764685146193465,
          null,
          0.08174630254507065,
          0.06634728810551181,
          null,
          0.16894973814487457,
          0.567698531241203,
          null,
          0.13229291141033173,
          0.33720879642951196,
          null,
          0.16233091056346893,
          0.557838629526753,
          null,
          0.07168709486722946,
          -0.011885441035184352,
          null,
          0.1355748474597931,
          0.41969412452677207,
          null
         ],
         "y": [
          0,
          0.17959678173065186,
          null,
          0,
          0.1733427494764328,
          null,
          0,
          0.16950085759162903,
          null,
          0,
          0.16032683849334717,
          null,
          0,
          0.14637914299964905,
          null,
          0,
          0.14141064882278442,
          null,
          0,
          0.13107216358184814,
          null,
          0,
          0.12059803307056427,
          null,
          0,
          0.11037109792232513,
          null,
          0,
          0.099999338388443,
          null,
          0,
          0.0892157256603241,
          null,
          0,
          0.07939133048057556,
          null,
          0,
          0.07189735770225525,
          null,
          0,
          0.0601346530020237,
          null,
          0,
          0.050582580268383026,
          null,
          0,
          0.038695160299539566,
          null,
          0,
          0.026763182133436203,
          null,
          0,
          0.012071731500327587,
          null,
          0.17959678173065186,
          0.8541194803064287,
          null,
          0.173342764377594,
          0.6785194654122183,
          null,
          0.16950085759162903,
          0.543764423336988,
          null,
          0.16032683849334717,
          0.48155240258493026,
          null,
          0.14637914299964905,
          0.44797170743227077,
          null,
          0.14141063392162323,
          0.3721683767231043,
          null,
          0.13107216358184814,
          0.3209892852559919,
          null,
          0.12059802561998367,
          0.2700551333996528,
          null,
          0.11037111282348633,
          0.2177177356492594,
          null,
          0.09999934583902359,
          0.16240301157420195,
          null,
          0.0892157256603241,
          0.09915227038001061,
          null,
          0.07939132302999496,
          0.0364487327309044,
          null,
          0.07189735770225525,
          0.0153163479615026,
          null,
          0.0601346530020237,
          -0.07120122886077362,
          null,
          0.050582580268383026,
          -0.10691048808338333,
          null,
          0.03869515657424927,
          -0.2241880896123335,
          null,
          0.026763182133436203,
          -0.2890245730792471,
          null,
          0.012071732431650162,
          -0.46583101646629566,
          null
         ],
         "z": [
          0,
          -0.9976601004600525,
          null,
          0,
          -1.0298599004745483,
          null,
          0,
          -1.0699741840362549,
          null,
          0,
          -1.0795340538024902,
          null,
          0,
          -1.056020975112915,
          null,
          0,
          -1.0910223722457886,
          null,
          0,
          -1.086725115776062,
          null,
          0,
          -1.080519437789917,
          null,
          0,
          -1.0756341218948364,
          null,
          0,
          -1.0682621002197266,
          null,
          0,
          -1.05445396900177,
          null,
          0,
          -1.0626959800720215,
          null,
          0,
          -1.0942186117172241,
          null,
          0,
          -1.0604697465896606,
          null,
          0,
          -1.0807162523269653,
          null,
          0,
          -1.0485444068908691,
          null,
          0,
          -1.0619248151779175,
          null,
          0,
          -1.0316686630249023,
          null,
          -0.9976601004600525,
          -1.6480259034449753,
          null,
          -1.0298599004745483,
          -1.8565138936769587,
          null,
          -1.0699741840362549,
          -2.007123520325805,
          null,
          -1.0795340538024902,
          -2.0391667509393416,
          null,
          -1.056020975112915,
          -1.9753584133442772,
          null,
          -1.0910223722457886,
          -2.0749746808750498,
          null,
          -1.0867252349853516,
          -2.0590417188061645,
          null,
          -1.080519437789917,
          -2.0405616944332987,
          null,
          -1.075634241104126,
          -2.026280144526138,
          null,
          -1.0682622194290161,
          -2.0035043085526856,
          null,
          -1.05445396900177,
          -1.9557610933737848,
          null,
          -1.0626959800720215,
          -2.0115205217889023,
          null,
          -1.0942186117172241,
          -2.097443401417558,
          null,
          -1.0604698657989502,
          -1.9836965351895846,
          null,
          -1.0807162523269653,
          -2.0555910284228753,
          null,
          -1.0485444068908691,
          -1.9428573934074023,
          null,
          -1.0619248151779175,
          -2.009809882650051,
          null,
          -1.031668782234192,
          -1.8732694386412194,
          null
         ]
        },
        {
         "marker": {
          "color": "rgba(0, 0, 0, 0.0)",
          "size": 0.01
         },
         "showlegend": false,
         "type": "scatter3d",
         "x": [
          0
         ],
         "y": [
          0
         ],
         "z": [
          0
         ]
        }
       ],
       "layout": {
        "legend": {
         "y": 0.96
        },
        "margin": {
         "b": 0,
         "l": 0,
         "r": 0,
         "t": 0
        },
        "scene": {
         "aspectmode": "data"
        },
        "template": {
         "data": {
          "bar": [
           {
            "error_x": {
             "color": "#2a3f5f"
            },
            "error_y": {
             "color": "#2a3f5f"
            },
            "marker": {
             "line": {
              "color": "#E5ECF6",
              "width": 0.5
             },
             "pattern": {
              "fillmode": "overlay",
              "size": 10,
              "solidity": 0.2
             }
            },
            "type": "bar"
           }
          ],
          "barpolar": [
           {
            "marker": {
             "line": {
              "color": "#E5ECF6",
              "width": 0.5
             },
             "pattern": {
              "fillmode": "overlay",
              "size": 10,
              "solidity": 0.2
             }
            },
            "type": "barpolar"
           }
          ],
          "carpet": [
           {
            "aaxis": {
             "endlinecolor": "#2a3f5f",
             "gridcolor": "white",
             "linecolor": "white",
             "minorgridcolor": "white",
             "startlinecolor": "#2a3f5f"
            },
            "baxis": {
             "endlinecolor": "#2a3f5f",
             "gridcolor": "white",
             "linecolor": "white",
             "minorgridcolor": "white",
             "startlinecolor": "#2a3f5f"
            },
            "type": "carpet"
           }
          ],
          "choropleth": [
           {
            "colorbar": {
             "outlinewidth": 0,
             "ticks": ""
            },
            "type": "choropleth"
           }
          ],
          "contour": [
           {
            "colorbar": {
             "outlinewidth": 0,
             "ticks": ""
            },
            "colorscale": [
             [
              0,
              "#0d0887"
             ],
             [
              0.1111111111111111,
              "#46039f"
             ],
             [
              0.2222222222222222,
              "#7201a8"
             ],
             [
              0.3333333333333333,
              "#9c179e"
             ],
             [
              0.4444444444444444,
              "#bd3786"
             ],
             [
              0.5555555555555556,
              "#d8576b"
             ],
             [
              0.6666666666666666,
              "#ed7953"
             ],
             [
              0.7777777777777778,
              "#fb9f3a"
             ],
             [
              0.8888888888888888,
              "#fdca26"
             ],
             [
              1,
              "#f0f921"
             ]
            ],
            "type": "contour"
           }
          ],
          "contourcarpet": [
           {
            "colorbar": {
             "outlinewidth": 0,
             "ticks": ""
            },
            "type": "contourcarpet"
           }
          ],
          "heatmap": [
           {
            "colorbar": {
             "outlinewidth": 0,
             "ticks": ""
            },
            "colorscale": [
             [
              0,
              "#0d0887"
             ],
             [
              0.1111111111111111,
              "#46039f"
             ],
             [
              0.2222222222222222,
              "#7201a8"
             ],
             [
              0.3333333333333333,
              "#9c179e"
             ],
             [
              0.4444444444444444,
              "#bd3786"
             ],
             [
              0.5555555555555556,
              "#d8576b"
             ],
             [
              0.6666666666666666,
              "#ed7953"
             ],
             [
              0.7777777777777778,
              "#fb9f3a"
             ],
             [
              0.8888888888888888,
              "#fdca26"
             ],
             [
              1,
              "#f0f921"
             ]
            ],
            "type": "heatmap"
           }
          ],
          "heatmapgl": [
           {
            "colorbar": {
             "outlinewidth": 0,
             "ticks": ""
            },
            "colorscale": [
             [
              0,
              "#0d0887"
             ],
             [
              0.1111111111111111,
              "#46039f"
             ],
             [
              0.2222222222222222,
              "#7201a8"
             ],
             [
              0.3333333333333333,
              "#9c179e"
             ],
             [
              0.4444444444444444,
              "#bd3786"
             ],
             [
              0.5555555555555556,
              "#d8576b"
             ],
             [
              0.6666666666666666,
              "#ed7953"
             ],
             [
              0.7777777777777778,
              "#fb9f3a"
             ],
             [
              0.8888888888888888,
              "#fdca26"
             ],
             [
              1,
              "#f0f921"
             ]
            ],
            "type": "heatmapgl"
           }
          ],
          "histogram": [
           {
            "marker": {
             "pattern": {
              "fillmode": "overlay",
              "size": 10,
              "solidity": 0.2
             }
            },
            "type": "histogram"
           }
          ],
          "histogram2d": [
           {
            "colorbar": {
             "outlinewidth": 0,
             "ticks": ""
            },
            "colorscale": [
             [
              0,
              "#0d0887"
             ],
             [
              0.1111111111111111,
              "#46039f"
             ],
             [
              0.2222222222222222,
              "#7201a8"
             ],
             [
              0.3333333333333333,
              "#9c179e"
             ],
             [
              0.4444444444444444,
              "#bd3786"
             ],
             [
              0.5555555555555556,
              "#d8576b"
             ],
             [
              0.6666666666666666,
              "#ed7953"
             ],
             [
              0.7777777777777778,
              "#fb9f3a"
             ],
             [
              0.8888888888888888,
              "#fdca26"
             ],
             [
              1,
              "#f0f921"
             ]
            ],
            "type": "histogram2d"
           }
          ],
          "histogram2dcontour": [
           {
            "colorbar": {
             "outlinewidth": 0,
             "ticks": ""
            },
            "colorscale": [
             [
              0,
              "#0d0887"
             ],
             [
              0.1111111111111111,
              "#46039f"
             ],
             [
              0.2222222222222222,
              "#7201a8"
             ],
             [
              0.3333333333333333,
              "#9c179e"
             ],
             [
              0.4444444444444444,
              "#bd3786"
             ],
             [
              0.5555555555555556,
              "#d8576b"
             ],
             [
              0.6666666666666666,
              "#ed7953"
             ],
             [
              0.7777777777777778,
              "#fb9f3a"
             ],
             [
              0.8888888888888888,
              "#fdca26"
             ],
             [
              1,
              "#f0f921"
             ]
            ],
            "type": "histogram2dcontour"
           }
          ],
          "mesh3d": [
           {
            "colorbar": {
             "outlinewidth": 0,
             "ticks": ""
            },
            "type": "mesh3d"
           }
          ],
          "parcoords": [
           {
            "line": {
             "colorbar": {
              "outlinewidth": 0,
              "ticks": ""
             }
            },
            "type": "parcoords"
           }
          ],
          "pie": [
           {
            "automargin": true,
            "type": "pie"
           }
          ],
          "scatter": [
           {
            "fillpattern": {
             "fillmode": "overlay",
             "size": 10,
             "solidity": 0.2
            },
            "type": "scatter"
           }
          ],
          "scatter3d": [
           {
            "line": {
             "colorbar": {
              "outlinewidth": 0,
              "ticks": ""
             }
            },
            "marker": {
             "colorbar": {
              "outlinewidth": 0,
              "ticks": ""
             }
            },
            "type": "scatter3d"
           }
          ],
          "scattercarpet": [
           {
            "marker": {
             "colorbar": {
              "outlinewidth": 0,
              "ticks": ""
             }
            },
            "type": "scattercarpet"
           }
          ],
          "scattergeo": [
           {
            "marker": {
             "colorbar": {
              "outlinewidth": 0,
              "ticks": ""
             }
            },
            "type": "scattergeo"
           }
          ],
          "scattergl": [
           {
            "marker": {
             "colorbar": {
              "outlinewidth": 0,
              "ticks": ""
             }
            },
            "type": "scattergl"
           }
          ],
          "scattermapbox": [
           {
            "marker": {
             "colorbar": {
              "outlinewidth": 0,
              "ticks": ""
             }
            },
            "type": "scattermapbox"
           }
          ],
          "scatterpolar": [
           {
            "marker": {
             "colorbar": {
              "outlinewidth": 0,
              "ticks": ""
             }
            },
            "type": "scatterpolar"
           }
          ],
          "scatterpolargl": [
           {
            "marker": {
             "colorbar": {
              "outlinewidth": 0,
              "ticks": ""
             }
            },
            "type": "scatterpolargl"
           }
          ],
          "scatterternary": [
           {
            "marker": {
             "colorbar": {
              "outlinewidth": 0,
              "ticks": ""
             }
            },
            "type": "scatterternary"
           }
          ],
          "surface": [
           {
            "colorbar": {
             "outlinewidth": 0,
             "ticks": ""
            },
            "colorscale": [
             [
              0,
              "#0d0887"
             ],
             [
              0.1111111111111111,
              "#46039f"
             ],
             [
              0.2222222222222222,
              "#7201a8"
             ],
             [
              0.3333333333333333,
              "#9c179e"
             ],
             [
              0.4444444444444444,
              "#bd3786"
             ],
             [
              0.5555555555555556,
              "#d8576b"
             ],
             [
              0.6666666666666666,
              "#ed7953"
             ],
             [
              0.7777777777777778,
              "#fb9f3a"
             ],
             [
              0.8888888888888888,
              "#fdca26"
             ],
             [
              1,
              "#f0f921"
             ]
            ],
            "type": "surface"
           }
          ],
          "table": [
           {
            "cells": {
             "fill": {
              "color": "#EBF0F8"
             },
             "line": {
              "color": "white"
             }
            },
            "header": {
             "fill": {
              "color": "#C8D4E3"
             },
             "line": {
              "color": "white"
             }
            },
            "type": "table"
           }
          ]
         },
         "layout": {
          "annotationdefaults": {
           "arrowcolor": "#2a3f5f",
           "arrowhead": 0,
           "arrowwidth": 1
          },
          "autotypenumbers": "strict",
          "coloraxis": {
           "colorbar": {
            "outlinewidth": 0,
            "ticks": ""
           }
          },
          "colorscale": {
           "diverging": [
            [
             0,
             "#8e0152"
            ],
            [
             0.1,
             "#c51b7d"
            ],
            [
             0.2,
             "#de77ae"
            ],
            [
             0.3,
             "#f1b6da"
            ],
            [
             0.4,
             "#fde0ef"
            ],
            [
             0.5,
             "#f7f7f7"
            ],
            [
             0.6,
             "#e6f5d0"
            ],
            [
             0.7,
             "#b8e186"
            ],
            [
             0.8,
             "#7fbc41"
            ],
            [
             0.9,
             "#4d9221"
            ],
            [
             1,
             "#276419"
            ]
           ],
           "sequential": [
            [
             0,
             "#0d0887"
            ],
            [
             0.1111111111111111,
             "#46039f"
            ],
            [
             0.2222222222222222,
             "#7201a8"
            ],
            [
             0.3333333333333333,
             "#9c179e"
            ],
            [
             0.4444444444444444,
             "#bd3786"
            ],
            [
             0.5555555555555556,
             "#d8576b"
            ],
            [
             0.6666666666666666,
             "#ed7953"
            ],
            [
             0.7777777777777778,
             "#fb9f3a"
            ],
            [
             0.8888888888888888,
             "#fdca26"
            ],
            [
             1,
             "#f0f921"
            ]
           ],
           "sequentialminus": [
            [
             0,
             "#0d0887"
            ],
            [
             0.1111111111111111,
             "#46039f"
            ],
            [
             0.2222222222222222,
             "#7201a8"
            ],
            [
             0.3333333333333333,
             "#9c179e"
            ],
            [
             0.4444444444444444,
             "#bd3786"
            ],
            [
             0.5555555555555556,
             "#d8576b"
            ],
            [
             0.6666666666666666,
             "#ed7953"
            ],
            [
             0.7777777777777778,
             "#fb9f3a"
            ],
            [
             0.8888888888888888,
             "#fdca26"
            ],
            [
             1,
             "#f0f921"
            ]
           ]
          },
          "colorway": [
           "#636efa",
           "#EF553B",
           "#00cc96",
           "#ab63fa",
           "#FFA15A",
           "#19d3f3",
           "#FF6692",
           "#B6E880",
           "#FF97FF",
           "#FECB52"
          ],
          "font": {
           "color": "#2a3f5f"
          },
          "geo": {
           "bgcolor": "white",
           "lakecolor": "white",
           "landcolor": "#E5ECF6",
           "showlakes": true,
           "showland": true,
           "subunitcolor": "white"
          },
          "hoverlabel": {
           "align": "left"
          },
          "hovermode": "closest",
          "mapbox": {
           "style": "light"
          },
          "paper_bgcolor": "white",
          "plot_bgcolor": "#E5ECF6",
          "polar": {
           "angularaxis": {
            "gridcolor": "white",
            "linecolor": "white",
            "ticks": ""
           },
           "bgcolor": "#E5ECF6",
           "radialaxis": {
            "gridcolor": "white",
            "linecolor": "white",
            "ticks": ""
           }
          },
          "scene": {
           "xaxis": {
            "backgroundcolor": "#E5ECF6",
            "gridcolor": "white",
            "gridwidth": 2,
            "linecolor": "white",
            "showbackground": true,
            "ticks": "",
            "zerolinecolor": "white"
           },
           "yaxis": {
            "backgroundcolor": "#E5ECF6",
            "gridcolor": "white",
            "gridwidth": 2,
            "linecolor": "white",
            "showbackground": true,
            "ticks": "",
            "zerolinecolor": "white"
           },
           "zaxis": {
            "backgroundcolor": "#E5ECF6",
            "gridcolor": "white",
            "gridwidth": 2,
            "linecolor": "white",
            "showbackground": true,
            "ticks": "",
            "zerolinecolor": "white"
           }
          },
          "shapedefaults": {
           "line": {
            "color": "#2a3f5f"
           }
          },
          "ternary": {
           "aaxis": {
            "gridcolor": "white",
            "linecolor": "white",
            "ticks": ""
           },
           "baxis": {
            "gridcolor": "white",
            "linecolor": "white",
            "ticks": ""
           },
           "bgcolor": "#E5ECF6",
           "caxis": {
            "gridcolor": "white",
            "linecolor": "white",
            "ticks": ""
           }
          },
          "title": {
           "x": 0.05
          },
          "xaxis": {
           "automargin": true,
           "gridcolor": "white",
           "linecolor": "white",
           "ticks": "",
           "title": {
            "standoff": 15
           },
           "zerolinecolor": "white",
           "zerolinewidth": 2
          },
          "yaxis": {
           "automargin": true,
           "gridcolor": "white",
           "linecolor": "white",
           "ticks": "",
           "title": {
            "standoff": 15
           },
           "zerolinecolor": "white",
           "zerolinewidth": 2
          }
         }
        }
       }
      },
      "text/html": [
       "<div>                            <div id=\"e9ca0a1d-c6a9-4598-9f63-0cffbb0c74ef\" class=\"plotly-graph-div\" style=\"height:525px; width:100%;\"></div>            <script type=\"text/javascript\">                require([\"plotly\"], function(Plotly) {                    window.PLOTLYENV=window.PLOTLYENV || {};                                    if (document.getElementById(\"e9ca0a1d-c6a9-4598-9f63-0cffbb0c74ef\")) {                    Plotly.newPlot(                        \"e9ca0a1d-c6a9-4598-9f63-0cffbb0c74ef\",                        [{\"legendgroup\":\"Ray 0\",\"marker\":{\"size\":[0,6,0,0,6,0,0,6,0,0,6,0,0,6,0,0,6,0,0,6,0,0,6,0,0,6,0,0,6,0,0,6,0,0,6,0,0,6,0,0,6,0,0,6,0,0,6,0,0,6,0,0,6,0,0,6,0,0,6,0,0,6,0,0,6,0,0,6,0,0,6,0,0,6,0,0,6,0,0,6,0,0,6,0,0,6,0,0,6,0,0,6,0,0,6,0,0,6,0,0,6,0,0,6,0,0,6,0],\"symbol\":\"diamond\"},\"mode\":\"lines+markers\",\"name\":\"Ray 0\",\"x\":[0.0,0.039511289447546005,null,0.0,0.03893259912729263,null,0.0,0.1165318414568901,null,0.0,0.10591287910938263,null,0.0,0.03136695921421051,null,0.0,0.10016586631536484,null,0.0,0.1388973742723465,null,0.0,0.1556103676557541,null,0.0,0.16458848118782043,null,0.0,0.17307576537132263,null,0.0,0.18317696452140808,null,0.0,0.02486957423388958,null,0.0,0.08174630999565125,null,0.0,0.16894972324371338,null,0.0,0.13229291141033173,null,0.0,0.16233091056346893,null,0.0,0.07168709486722946,null,0.0,0.1355748325586319,null,0.039511293172836304,-0.3554804217026031,null,0.03893259912729263,-0.26305980681346824,null,0.11653183400630951,0.25304228900293524,null,0.10591287910938263,0.1930996824491183,null,0.03136695921421051,-0.25838588778506427,null,0.10016586631536484,0.16195016444034074,null,0.1388973742723465,0.3611937319092862,null,0.1556103676557541,0.4542383967004405,null,0.16458849608898163,0.5091051501933701,null,0.17307579517364502,0.5686008602110919,null,0.18317696452140808,0.6573954289363657,null,0.02486957423388958,-0.29764685146193465,null,0.08174630254507065,0.06634728810551181,null,0.16894973814487457,0.567698531241203,null,0.13229291141033173,0.33720879642951196,null,0.16233091056346893,0.557838629526753,null,0.07168709486722946,-0.011885441035184352,null,0.1355748474597931,0.41969412452677207,null],\"y\":[0.0,0.17959678173065186,null,0.0,0.1733427494764328,null,0.0,0.16950085759162903,null,0.0,0.16032683849334717,null,0.0,0.14637914299964905,null,0.0,0.14141064882278442,null,0.0,0.13107216358184814,null,0.0,0.12059803307056427,null,0.0,0.11037109792232513,null,0.0,0.099999338388443,null,0.0,0.0892157256603241,null,0.0,0.07939133048057556,null,0.0,0.07189735770225525,null,0.0,0.0601346530020237,null,0.0,0.050582580268383026,null,0.0,0.038695160299539566,null,0.0,0.026763182133436203,null,0.0,0.012071731500327587,null,0.17959678173065186,0.8541194803064287,null,0.173342764377594,0.6785194654122183,null,0.16950085759162903,0.543764423336988,null,0.16032683849334717,0.48155240258493026,null,0.14637914299964905,0.44797170743227077,null,0.14141063392162323,0.3721683767231043,null,0.13107216358184814,0.3209892852559919,null,0.12059802561998367,0.2700551333996528,null,0.11037111282348633,0.2177177356492594,null,0.09999934583902359,0.16240301157420195,null,0.0892157256603241,0.09915227038001061,null,0.07939132302999496,0.0364487327309044,null,0.07189735770225525,0.0153163479615026,null,0.0601346530020237,-0.07120122886077362,null,0.050582580268383026,-0.10691048808338333,null,0.03869515657424927,-0.2241880896123335,null,0.026763182133436203,-0.2890245730792471,null,0.012071732431650162,-0.46583101646629566,null],\"z\":[0.0,-0.9976601004600525,null,0.0,-1.0298599004745483,null,0.0,-1.0699741840362549,null,0.0,-1.0795340538024902,null,0.0,-1.056020975112915,null,0.0,-1.0910223722457886,null,0.0,-1.086725115776062,null,0.0,-1.080519437789917,null,0.0,-1.0756341218948364,null,0.0,-1.0682621002197266,null,0.0,-1.05445396900177,null,0.0,-1.0626959800720215,null,0.0,-1.0942186117172241,null,0.0,-1.0604697465896606,null,0.0,-1.0807162523269653,null,0.0,-1.0485444068908691,null,0.0,-1.0619248151779175,null,0.0,-1.0316686630249023,null,-0.9976601004600525,-1.6480259034449753,null,-1.0298599004745483,-1.8565138936769587,null,-1.0699741840362549,-2.007123520325805,null,-1.0795340538024902,-2.0391667509393416,null,-1.056020975112915,-1.9753584133442772,null,-1.0910223722457886,-2.0749746808750498,null,-1.0867252349853516,-2.0590417188061645,null,-1.080519437789917,-2.0405616944332987,null,-1.075634241104126,-2.026280144526138,null,-1.0682622194290161,-2.0035043085526856,null,-1.05445396900177,-1.9557610933737848,null,-1.0626959800720215,-2.0115205217889023,null,-1.0942186117172241,-2.097443401417558,null,-1.0604698657989502,-1.9836965351895846,null,-1.0807162523269653,-2.0555910284228753,null,-1.0485444068908691,-1.9428573934074023,null,-1.0619248151779175,-2.009809882650051,null,-1.031668782234192,-1.8732694386412194,null],\"type\":\"scatter3d\",\"showlegend\":false},{\"marker\":{\"color\":\"rgba(0, 0, 0, 0.0)\",\"size\":0.01},\"showlegend\":false,\"x\":[0],\"y\":[0],\"z\":[0],\"type\":\"scatter3d\"}],                        {\"template\":{\"data\":{\"histogram2dcontour\":[{\"type\":\"histogram2dcontour\",\"colorbar\":{\"outlinewidth\":0,\"ticks\":\"\"},\"colorscale\":[[0.0,\"#0d0887\"],[0.1111111111111111,\"#46039f\"],[0.2222222222222222,\"#7201a8\"],[0.3333333333333333,\"#9c179e\"],[0.4444444444444444,\"#bd3786\"],[0.5555555555555556,\"#d8576b\"],[0.6666666666666666,\"#ed7953\"],[0.7777777777777778,\"#fb9f3a\"],[0.8888888888888888,\"#fdca26\"],[1.0,\"#f0f921\"]]}],\"choropleth\":[{\"type\":\"choropleth\",\"colorbar\":{\"outlinewidth\":0,\"ticks\":\"\"}}],\"histogram2d\":[{\"type\":\"histogram2d\",\"colorbar\":{\"outlinewidth\":0,\"ticks\":\"\"},\"colorscale\":[[0.0,\"#0d0887\"],[0.1111111111111111,\"#46039f\"],[0.2222222222222222,\"#7201a8\"],[0.3333333333333333,\"#9c179e\"],[0.4444444444444444,\"#bd3786\"],[0.5555555555555556,\"#d8576b\"],[0.6666666666666666,\"#ed7953\"],[0.7777777777777778,\"#fb9f3a\"],[0.8888888888888888,\"#fdca26\"],[1.0,\"#f0f921\"]]}],\"heatmap\":[{\"type\":\"heatmap\",\"colorbar\":{\"outlinewidth\":0,\"ticks\":\"\"},\"colorscale\":[[0.0,\"#0d0887\"],[0.1111111111111111,\"#46039f\"],[0.2222222222222222,\"#7201a8\"],[0.3333333333333333,\"#9c179e\"],[0.4444444444444444,\"#bd3786\"],[0.5555555555555556,\"#d8576b\"],[0.6666666666666666,\"#ed7953\"],[0.7777777777777778,\"#fb9f3a\"],[0.8888888888888888,\"#fdca26\"],[1.0,\"#f0f921\"]]}],\"heatmapgl\":[{\"type\":\"heatmapgl\",\"colorbar\":{\"outlinewidth\":0,\"ticks\":\"\"},\"colorscale\":[[0.0,\"#0d0887\"],[0.1111111111111111,\"#46039f\"],[0.2222222222222222,\"#7201a8\"],[0.3333333333333333,\"#9c179e\"],[0.4444444444444444,\"#bd3786\"],[0.5555555555555556,\"#d8576b\"],[0.6666666666666666,\"#ed7953\"],[0.7777777777777778,\"#fb9f3a\"],[0.8888888888888888,\"#fdca26\"],[1.0,\"#f0f921\"]]}],\"contourcarpet\":[{\"type\":\"contourcarpet\",\"colorbar\":{\"outlinewidth\":0,\"ticks\":\"\"}}],\"contour\":[{\"type\":\"contour\",\"colorbar\":{\"outlinewidth\":0,\"ticks\":\"\"},\"colorscale\":[[0.0,\"#0d0887\"],[0.1111111111111111,\"#46039f\"],[0.2222222222222222,\"#7201a8\"],[0.3333333333333333,\"#9c179e\"],[0.4444444444444444,\"#bd3786\"],[0.5555555555555556,\"#d8576b\"],[0.6666666666666666,\"#ed7953\"],[0.7777777777777778,\"#fb9f3a\"],[0.8888888888888888,\"#fdca26\"],[1.0,\"#f0f921\"]]}],\"surface\":[{\"type\":\"surface\",\"colorbar\":{\"outlinewidth\":0,\"ticks\":\"\"},\"colorscale\":[[0.0,\"#0d0887\"],[0.1111111111111111,\"#46039f\"],[0.2222222222222222,\"#7201a8\"],[0.3333333333333333,\"#9c179e\"],[0.4444444444444444,\"#bd3786\"],[0.5555555555555556,\"#d8576b\"],[0.6666666666666666,\"#ed7953\"],[0.7777777777777778,\"#fb9f3a\"],[0.8888888888888888,\"#fdca26\"],[1.0,\"#f0f921\"]]}],\"mesh3d\":[{\"type\":\"mesh3d\",\"colorbar\":{\"outlinewidth\":0,\"ticks\":\"\"}}],\"scatter\":[{\"fillpattern\":{\"fillmode\":\"overlay\",\"size\":10,\"solidity\":0.2},\"type\":\"scatter\"}],\"parcoords\":[{\"type\":\"parcoords\",\"line\":{\"colorbar\":{\"outlinewidth\":0,\"ticks\":\"\"}}}],\"scatterpolargl\":[{\"type\":\"scatterpolargl\",\"marker\":{\"colorbar\":{\"outlinewidth\":0,\"ticks\":\"\"}}}],\"bar\":[{\"error_x\":{\"color\":\"#2a3f5f\"},\"error_y\":{\"color\":\"#2a3f5f\"},\"marker\":{\"line\":{\"color\":\"#E5ECF6\",\"width\":0.5},\"pattern\":{\"fillmode\":\"overlay\",\"size\":10,\"solidity\":0.2}},\"type\":\"bar\"}],\"scattergeo\":[{\"type\":\"scattergeo\",\"marker\":{\"colorbar\":{\"outlinewidth\":0,\"ticks\":\"\"}}}],\"scatterpolar\":[{\"type\":\"scatterpolar\",\"marker\":{\"colorbar\":{\"outlinewidth\":0,\"ticks\":\"\"}}}],\"histogram\":[{\"marker\":{\"pattern\":{\"fillmode\":\"overlay\",\"size\":10,\"solidity\":0.2}},\"type\":\"histogram\"}],\"scattergl\":[{\"type\":\"scattergl\",\"marker\":{\"colorbar\":{\"outlinewidth\":0,\"ticks\":\"\"}}}],\"scatter3d\":[{\"type\":\"scatter3d\",\"line\":{\"colorbar\":{\"outlinewidth\":0,\"ticks\":\"\"}},\"marker\":{\"colorbar\":{\"outlinewidth\":0,\"ticks\":\"\"}}}],\"scattermapbox\":[{\"type\":\"scattermapbox\",\"marker\":{\"colorbar\":{\"outlinewidth\":0,\"ticks\":\"\"}}}],\"scatterternary\":[{\"type\":\"scatterternary\",\"marker\":{\"colorbar\":{\"outlinewidth\":0,\"ticks\":\"\"}}}],\"scattercarpet\":[{\"type\":\"scattercarpet\",\"marker\":{\"colorbar\":{\"outlinewidth\":0,\"ticks\":\"\"}}}],\"carpet\":[{\"aaxis\":{\"endlinecolor\":\"#2a3f5f\",\"gridcolor\":\"white\",\"linecolor\":\"white\",\"minorgridcolor\":\"white\",\"startlinecolor\":\"#2a3f5f\"},\"baxis\":{\"endlinecolor\":\"#2a3f5f\",\"gridcolor\":\"white\",\"linecolor\":\"white\",\"minorgridcolor\":\"white\",\"startlinecolor\":\"#2a3f5f\"},\"type\":\"carpet\"}],\"table\":[{\"cells\":{\"fill\":{\"color\":\"#EBF0F8\"},\"line\":{\"color\":\"white\"}},\"header\":{\"fill\":{\"color\":\"#C8D4E3\"},\"line\":{\"color\":\"white\"}},\"type\":\"table\"}],\"barpolar\":[{\"marker\":{\"line\":{\"color\":\"#E5ECF6\",\"width\":0.5},\"pattern\":{\"fillmode\":\"overlay\",\"size\":10,\"solidity\":0.2}},\"type\":\"barpolar\"}],\"pie\":[{\"automargin\":true,\"type\":\"pie\"}]},\"layout\":{\"autotypenumbers\":\"strict\",\"colorway\":[\"#636efa\",\"#EF553B\",\"#00cc96\",\"#ab63fa\",\"#FFA15A\",\"#19d3f3\",\"#FF6692\",\"#B6E880\",\"#FF97FF\",\"#FECB52\"],\"font\":{\"color\":\"#2a3f5f\"},\"hovermode\":\"closest\",\"hoverlabel\":{\"align\":\"left\"},\"paper_bgcolor\":\"white\",\"plot_bgcolor\":\"#E5ECF6\",\"polar\":{\"bgcolor\":\"#E5ECF6\",\"angularaxis\":{\"gridcolor\":\"white\",\"linecolor\":\"white\",\"ticks\":\"\"},\"radialaxis\":{\"gridcolor\":\"white\",\"linecolor\":\"white\",\"ticks\":\"\"}},\"ternary\":{\"bgcolor\":\"#E5ECF6\",\"aaxis\":{\"gridcolor\":\"white\",\"linecolor\":\"white\",\"ticks\":\"\"},\"baxis\":{\"gridcolor\":\"white\",\"linecolor\":\"white\",\"ticks\":\"\"},\"caxis\":{\"gridcolor\":\"white\",\"linecolor\":\"white\",\"ticks\":\"\"}},\"coloraxis\":{\"colorbar\":{\"outlinewidth\":0,\"ticks\":\"\"}},\"colorscale\":{\"sequential\":[[0.0,\"#0d0887\"],[0.1111111111111111,\"#46039f\"],[0.2222222222222222,\"#7201a8\"],[0.3333333333333333,\"#9c179e\"],[0.4444444444444444,\"#bd3786\"],[0.5555555555555556,\"#d8576b\"],[0.6666666666666666,\"#ed7953\"],[0.7777777777777778,\"#fb9f3a\"],[0.8888888888888888,\"#fdca26\"],[1.0,\"#f0f921\"]],\"sequentialminus\":[[0.0,\"#0d0887\"],[0.1111111111111111,\"#46039f\"],[0.2222222222222222,\"#7201a8\"],[0.3333333333333333,\"#9c179e\"],[0.4444444444444444,\"#bd3786\"],[0.5555555555555556,\"#d8576b\"],[0.6666666666666666,\"#ed7953\"],[0.7777777777777778,\"#fb9f3a\"],[0.8888888888888888,\"#fdca26\"],[1.0,\"#f0f921\"]],\"diverging\":[[0,\"#8e0152\"],[0.1,\"#c51b7d\"],[0.2,\"#de77ae\"],[0.3,\"#f1b6da\"],[0.4,\"#fde0ef\"],[0.5,\"#f7f7f7\"],[0.6,\"#e6f5d0\"],[0.7,\"#b8e186\"],[0.8,\"#7fbc41\"],[0.9,\"#4d9221\"],[1,\"#276419\"]]},\"xaxis\":{\"gridcolor\":\"white\",\"linecolor\":\"white\",\"ticks\":\"\",\"title\":{\"standoff\":15},\"zerolinecolor\":\"white\",\"automargin\":true,\"zerolinewidth\":2},\"yaxis\":{\"gridcolor\":\"white\",\"linecolor\":\"white\",\"ticks\":\"\",\"title\":{\"standoff\":15},\"zerolinecolor\":\"white\",\"automargin\":true,\"zerolinewidth\":2},\"scene\":{\"xaxis\":{\"backgroundcolor\":\"#E5ECF6\",\"gridcolor\":\"white\",\"linecolor\":\"white\",\"showbackground\":true,\"ticks\":\"\",\"zerolinecolor\":\"white\",\"gridwidth\":2},\"yaxis\":{\"backgroundcolor\":\"#E5ECF6\",\"gridcolor\":\"white\",\"linecolor\":\"white\",\"showbackground\":true,\"ticks\":\"\",\"zerolinecolor\":\"white\",\"gridwidth\":2},\"zaxis\":{\"backgroundcolor\":\"#E5ECF6\",\"gridcolor\":\"white\",\"linecolor\":\"white\",\"showbackground\":true,\"ticks\":\"\",\"zerolinecolor\":\"white\",\"gridwidth\":2}},\"shapedefaults\":{\"line\":{\"color\":\"#2a3f5f\"}},\"annotationdefaults\":{\"arrowcolor\":\"#2a3f5f\",\"arrowhead\":0,\"arrowwidth\":1},\"geo\":{\"bgcolor\":\"white\",\"landcolor\":\"#E5ECF6\",\"subunitcolor\":\"white\",\"showland\":true,\"showlakes\":true,\"lakecolor\":\"white\"},\"title\":{\"x\":0.05},\"mapbox\":{\"style\":\"light\"}}},\"margin\":{\"l\":0,\"r\":0,\"t\":0,\"b\":0},\"legend\":{\"y\":0.96},\"scene\":{\"aspectmode\":\"data\"}},                        {\"responsive\": true}                    ).then(function(){\n",
       "                            \n",
       "var gd = document.getElementById('e9ca0a1d-c6a9-4598-9f63-0cffbb0c74ef');\n",
       "var x = new MutationObserver(function (mutations, observer) {{\n",
       "        var display = window.getComputedStyle(gd).display;\n",
       "        if (!display || display === 'none') {{\n",
       "            console.log([gd, 'removed!']);\n",
       "            Plotly.purge(gd);\n",
       "            observer.disconnect();\n",
       "        }}\n",
       "}});\n",
       "\n",
       "// Listen for the removal of the full notebook cells\n",
       "var notebookContainer = gd.closest('#notebook-container');\n",
       "if (notebookContainer) {{\n",
       "    x.observe(notebookContainer, {childList: true});\n",
       "}}\n",
       "\n",
       "// Listen for the clearing of the current output cell\n",
       "var outputEl = gd.closest('.output');\n",
       "if (outputEl) {{\n",
       "    x.observe(outputEl, {childList: true});\n",
       "}}\n",
       "\n",
       "                        })                };                });            </script>        </div>"
      ]
     },
     "metadata": {},
     "output_type": "display_data"
    }
   ],
   "source": [
    "import visu3d as v3d \n",
    "\n",
    "idx = 2000\n",
    "\n",
    "# poss = np.concatenate((r0[valid][::idx, :3], r1[::idx, :3]),axis=0)\n",
    "# dirss = np.concatenate((r0[valid][::idx, 3:], r1[::idx, 3:]),axis=0)\n",
    "\n",
    "viz = visu3d_tracer([r0[valid][::idx], r1[::idx]])\n",
    "viz.fig\n",
    "# poss = r1[::idx, :3]\n",
    "# dirss = r1[::idx, 3:]\n",
    "\n",
    "# poss = np.repeat(sphere_center.reshape(1,3), 160000, 0)\n",
    "# dirss = sphere_normals\n",
    "# rays = v3d.Ray(pos=poss, dir=dirss)\n",
    "# rays.fig"
   ]
  },
  {
   "cell_type": "code",
   "execution_count": 316,
   "metadata": {},
   "outputs": [
    {
     "data": {
      "text/plain": [
       "array([[ 0.        ,  0.        ,  0.        , -0.18001801,  0.18001801,\n",
       "        -1.        ],\n",
       "       [ 0.        ,  0.        ,  0.        , -0.17911792,  0.18001801,\n",
       "        -1.        ],\n",
       "       [ 0.        ,  0.        ,  0.        , -0.17821783,  0.18001801,\n",
       "        -1.        ],\n",
       "       ...,\n",
       "       [ 0.        ,  0.        ,  0.        ,  0.17731774, -0.17911792,\n",
       "        -1.        ],\n",
       "       [ 0.        ,  0.        ,  0.        ,  0.17821783, -0.17911792,\n",
       "        -1.        ],\n",
       "       [ 0.        ,  0.        ,  0.        ,  0.17911792, -0.17911792,\n",
       "        -1.        ]], dtype=float32)"
      ]
     },
     "execution_count": 316,
     "metadata": {},
     "output_type": "execute_result"
    }
   ],
   "source": [
    "r0"
   ]
  },
  {
   "cell_type": "code",
   "execution_count": 289,
   "metadata": {},
   "outputs": [],
   "source": [
    "import visu3d as v3d \n",
    "\n",
    "idx = 2000\n",
    "\n",
    "poss = np.concatenate((r3[valid][::idx, :3], r4[valid][::idx, :3]),axis=0)\n",
    "dirss = np.concatenate((r3[valid][::idx, 3:], r4[valid][::idx, 3:]),axis=0)\n",
    "\n",
    "# poss = r4[::idx, :3]\n",
    "# dirss = r4[::idx, 3:]\n",
    "\n",
    "# poss = np.repeat(sphere_center.reshape(1,3), 160000, 0)\n",
    "# dirss = sphere_normals\n",
    "rays = v3d.Ray(pos=poss, dir=dirss)"
   ]
  },
  {
   "cell_type": "markdown",
   "metadata": {},
   "source": []
  },
  {
   "cell_type": "code",
   "execution_count": 290,
   "metadata": {},
   "outputs": [
    {
     "data": {
      "application/vnd.plotly.v1+json": {
       "config": {
        "plotlyServerURL": "https://plot.ly"
       },
       "data": [
        {
         "legendgroup": "Ray 0",
         "marker": {
          "size": [
           0,
           6,
           0,
           0,
           6,
           0,
           0,
           6,
           0,
           0,
           6,
           0,
           0,
           6,
           0,
           0,
           6,
           0,
           0,
           6,
           0,
           0,
           6,
           0,
           0,
           6,
           0,
           0,
           6,
           0,
           0,
           6,
           0,
           0,
           6,
           0,
           0,
           6,
           0,
           0,
           6,
           0,
           0,
           6,
           0,
           0,
           6,
           0,
           0,
           6,
           0,
           0,
           6,
           0,
           0,
           6,
           0,
           0,
           6,
           0,
           0,
           6,
           0,
           0,
           6,
           0,
           0,
           6,
           0,
           0,
           6,
           0,
           0,
           6,
           0,
           0,
           6,
           0,
           0,
           6,
           0,
           0,
           6,
           0,
           0,
           6,
           0,
           0,
           6,
           0,
           0,
           6,
           0,
           0,
           6,
           0,
           0,
           6,
           0,
           0,
           6,
           0,
           0,
           6,
           0,
           0,
           6,
           0,
           0,
           6,
           0,
           0,
           6,
           0,
           0,
           6,
           0,
           0,
           6,
           0,
           0,
           6,
           0,
           0,
           6,
           0,
           0,
           6,
           0,
           0,
           6,
           0,
           0,
           6,
           0,
           0,
           6,
           0,
           0,
           6,
           0,
           0,
           6,
           0,
           0,
           6,
           0,
           0,
           6,
           0,
           0,
           6,
           0,
           0,
           6,
           0,
           0,
           6,
           0,
           0,
           6,
           0,
           0,
           6,
           0,
           0,
           6,
           0,
           0,
           6,
           0,
           0,
           6,
           0,
           0,
           6,
           0,
           0,
           6,
           0,
           0,
           6,
           0,
           0,
           6,
           0,
           0,
           6,
           0,
           0,
           6,
           0,
           0,
           6,
           0,
           0,
           6,
           0,
           0,
           6,
           0,
           0,
           6,
           0,
           0,
           6,
           0,
           0,
           6,
           0,
           0,
           6,
           0,
           0,
           6,
           0,
           0,
           6,
           0,
           0,
           6,
           0,
           0,
           6,
           0,
           0,
           6,
           0,
           0,
           6,
           0,
           0,
           6,
           0,
           0,
           6,
           0,
           0,
           6,
           0,
           0,
           6,
           0,
           0,
           6,
           0,
           0,
           6,
           0,
           0,
           6,
           0,
           0,
           6,
           0,
           0,
           6,
           0,
           0,
           6,
           0,
           0,
           6,
           0,
           0,
           6,
           0,
           0,
           6,
           0,
           0,
           6,
           0,
           0,
           6,
           0,
           0,
           6,
           0,
           0,
           6,
           0,
           0,
           6,
           0,
           0,
           6,
           0,
           0,
           6,
           0,
           0,
           6,
           0,
           0,
           6,
           0,
           0,
           6,
           0,
           0,
           6,
           0,
           0,
           6,
           0,
           0,
           6,
           0,
           0,
           6,
           0,
           0,
           6,
           0,
           0,
           6,
           0,
           0,
           6,
           0,
           0,
           6,
           0,
           0,
           6,
           0,
           0,
           6,
           0,
           0,
           6,
           0,
           0,
           6,
           0,
           0,
           6,
           0,
           0,
           6,
           0,
           0,
           6,
           0,
           0,
           6,
           0,
           0,
           6,
           0,
           0,
           6,
           0,
           0,
           6,
           0,
           0,
           6,
           0,
           0,
           6,
           0,
           0,
           6,
           0,
           0,
           6,
           0,
           0,
           6,
           0,
           0,
           6,
           0,
           0,
           6,
           0,
           0,
           6,
           0,
           0,
           6,
           0,
           0,
           6,
           0,
           0,
           6,
           0,
           0,
           6,
           0,
           0,
           6,
           0,
           0,
           6,
           0,
           0,
           6,
           0,
           0,
           6,
           0,
           0,
           6,
           0,
           0,
           6,
           0,
           0,
           6,
           0,
           0,
           6,
           0,
           0,
           6,
           0,
           0,
           6,
           0,
           0,
           6,
           0,
           0,
           6,
           0,
           0,
           6,
           0,
           0,
           6,
           0,
           0,
           6,
           0,
           0,
           6,
           0,
           0,
           6,
           0,
           0,
           6,
           0,
           0,
           6,
           0,
           0,
           6,
           0,
           0,
           6,
           0,
           0,
           6,
           0,
           0,
           6,
           0,
           0,
           6,
           0,
           0,
           6,
           0
          ],
          "symbol": "diamond"
         },
         "mode": "lines+markers",
         "name": "Ray 0",
         "showlegend": false,
         "type": "scatter3d",
         "x": [
          -0.13232943525894886,
          -0.22053825965508228,
          null,
          0.034146002176442106,
          0.05634822323226765,
          null,
          0.11826444948042321,
          0.19627225184763358,
          null,
          0.12816341222245708,
          0.2127718776555778,
          null,
          0.06573079745463832,
          0.10833506008478308,
          null,
          -0.0658742869404692,
          -0.10847854957061395,
          null,
          0.08701983196670149,
          0.14342547062172822,
          null,
          -0.1517686014742587,
          -0.2519786224137678,
          null,
          -0.08916351741333609,
          -0.1467692757227004,
          null,
          -0.06077953135960515,
          -0.09978343254321034,
          null,
          -0.05901349933759131,
          -0.09681728086685894,
          null,
          -0.059098920145312324,
          -0.09690270167457996,
          null,
          -0.05918117746400754,
          -0.09698495899327517,
          null,
          -0.05926029064870409,
          -0.09706407217797172,
          null,
          -0.05933627806297348,
          -0.0971400595922411,
          null,
          -0.059409156145275206,
          -0.09721293767454284,
          null,
          -0.059478940406942106,
          -0.09728272193620974,
          null,
          -0.05954564501939319,
          -0.09734942654866081,
          null,
          -0.05960928302998414,
          -0.09741306455925178,
          null,
          -0.05966986644212074,
          -0.09747364797138837,
          null,
          -0.059727406381399575,
          -0.0975311879106672,
          null,
          -0.05978191278685919,
          -0.09758569431612682,
          null,
          -0.05983339504409785,
          -0.09763717657336549,
          null,
          -0.059881861655608375,
          -0.09768564318487599,
          null,
          -0.059927320390127214,
          -0.09773110191939484,
          null,
          -0.059969778363651985,
          -0.09777355989291961,
          null,
          -0.06000924194430849,
          -0.09781302347357612,
          null,
          -0.06004571703125804,
          -0.09784949856052566,
          null,
          -0.06007920882880335,
          -0.09788299035807096,
          null,
          -0.0601097220959708,
          -0.09791350362523843,
          null,
          -0.060137261073664454,
          -0.09794104260293209,
          null,
          -0.06016182945315025,
          -0.09796561098241788,
          null,
          -0.0601834305440244,
          -0.09798721207329203,
          null,
          -0.060202067173238644,
          -0.09800584870250627,
          null,
          -0.06021774175645081,
          -0.09802152328571843,
          null,
          -0.06023045629746142,
          -0.09803423782672904,
          null,
          -0.06024021242042076,
          -0.0980439939496884,
          null,
          -0.06024701134711797,
          -0.0980507928763856,
          null,
          -0.06025085393174346,
          -0.09805463546101109,
          null,
          -0.06025174065253659,
          -0.09805552218180422,
          null,
          -0.06024967162045075,
          -0.09805345314971838,
          null,
          -0.06024464657737533,
          -0.09804842810664297,
          null,
          -0.06023666489455414,
          -0.09804044642382177,
          null,
          -0.060225725573280514,
          -0.09802950710254814,
          null,
          -0.060211827227360674,
          -0.09801560875662829,
          null,
          -0.06019496809611672,
          -0.09799874962538435,
          null,
          -0.06017514598706675,
          -0.09797892751633439,
          null,
          -0.060152358350465625,
          -0.09795613987973326,
          null,
          -0.06012660215983508,
          -0.0979303836891027,
          null,
          -0.06009787393164058,
          -0.0979016554609082,
          null,
          -0.06006616978649566,
          -0.09786995131576329,
          null,
          -0.06003148528246918,
          -0.0978352668117368,
          null,
          -0.059993815448345915,
          -0.09779759697761353,
          null,
          -0.059953154823282985,
          -0.09775693635255062,
          null,
          -0.05990949737344299,
          -0.09771327890271062,
          null,
          -0.05986283637542504,
          -0.09766661790469267,
          null,
          -0.059813164477860226,
          -0.09761694600712785,
          null,
          -0.05976047362440556,
          -0.09756425515367319,
          null,
          -0.05970475500488605,
          -0.09750853653415367,
          null,
          -0.05964599890204835,
          -0.09744978043131598,
          null,
          -0.05958419502725332,
          -0.09738797655652096,
          null,
          -0.0595193318730747,
          -0.09732311340234233,
          null,
          -0.059451397027697035,
          -0.09725517855696467,
          null,
          -0.05938037700414971,
          -0.09718415853341733,
          null,
          -0.05930625703205085,
          -0.09711003856131847,
          null,
          -0.059229021462951746,
          -0.09703280299221938,
          null,
          -0.059148652935132606,
          -0.09695243446440023,
          null,
          -0.05906513261012306,
          -0.0968689141393907,
          null,
          -0.058978440492364045,
          -0.09678222202163167,
          null,
          -0.049600245848681924,
          -0.08140342662273486,
          null,
          -0.005622248751746909,
          -0.00922260864608218,
          null,
          0.07526707909187925,
          0.12387193999371184,
          null,
          -0.1427806166449837,
          -0.23699003931280493,
          null,
          0.02235530097000388,
          0.03675674054734496,
          null,
          -0.08660954370462308,
          -0.14301518235964983,
          null,
          -0.12632139564700148,
          -0.20972974142578465,
          null,
          -0.09248236208305535,
          -0.15308842449531732,
          null,
          0.021227244101464402,
          0.0350286238516367,
          null,
          -0.13232943525894886,
          -0.3683688572074827,
          null,
          0.034146002176442106,
          0.09138426974762157,
          null,
          0.11826444948042321,
          0.32366225615910355,
          null,
          0.12816341222245708,
          0.35122462877038657,
          null,
          0.06573079745463832,
          0.1750713411383778,
          null,
          -0.0658742869404692,
          -0.17487756002168248,
          null,
          0.08701983196670149,
          0.23179008073858953,
          null,
          -0.1517686014742587,
          -0.4160347792442061,
          null,
          -0.08916351741333609,
          -0.23632916565185372,
          null,
          -0.06077953135960515,
          -0.1594930532511999,
          null,
          -0.05901349933759131,
          -0.15445837948133767,
          null,
          -0.059098920145312324,
          -0.15435575543373245,
          null,
          -0.05918117746400754,
          -0.15425839957796084,
          null,
          -0.05926029064870409,
          -0.15416610943029177,
          null,
          -0.05933627806297348,
          -0.1540786946009488,
          null,
          -0.059409156145275206,
          -0.15399597724990174,
          null,
          -0.059478940406942106,
          -0.15391779035477315,
          null,
          -0.05954564501939319,
          -0.15384397766113517,
          null,
          -0.05960928302998414,
          -0.153774392954042,
          null,
          -0.05966986644212074,
          -0.15370889952952224,
          null,
          -0.059727406381399575,
          -0.15364736961402486,
          null,
          -0.05978191278685919,
          -0.15358968432586137,
          null,
          -0.05983339504409785,
          -0.15353573266370785,
          null,
          -0.059881861655608375,
          -0.15348541155533815,
          null,
          -0.059927320390127214,
          -0.1534386254201459,
          null,
          -0.059969778363651985,
          -0.15339528583241424,
          null,
          -0.06000924194430849,
          -0.15335531138752037,
          null,
          -0.06004571703125804,
          -0.15331862720912665,
          null,
          -0.06007920882880335,
          -0.1532851649895394,
          null,
          -0.0601097220959708,
          -0.15325486256806267,
          null,
          -0.060137261073664454,
          -0.15322766385260822,
          null,
          -0.06016182945315025,
          -0.15320351871393573,
          null,
          -0.0601834305440244,
          -0.153182382699621,
          null,
          -0.060202067173238644,
          -0.1531642170282762,
          null,
          -0.06021774175645081,
          -0.15314898842811783,
          null,
          -0.06023045629746142,
          -0.15313666905992412,
          null,
          -0.06024021242042076,
          -0.15312723642124484,
          null,
          -0.06024701134711797,
          -0.15312067331651516,
          null,
          -0.06025085393174346,
          -0.1531169677839038,
          null,
          -0.06025174065253659,
          -0.15311611307602802,
          null,
          -0.06024967162045075,
          -0.15311810763617684,
          null,
          -0.06024464657737533,
          -0.15312295509647472,
          null,
          -0.06023666489455414,
          -0.15313066428769956,
          null,
          -0.060225725573280514,
          -0.15314124925878447,
          null,
          -0.060211827227360674,
          -0.15315472932597093,
          null,
          -0.06019496809611672,
          -0.1531711291045994,
          null,
          -0.06017514598706675,
          -0.153190478621753,
          null,
          -0.060152358350465625,
          -0.15321281331330297,
          null,
          -0.06012660215983508,
          -0.15323817422349298,
          null,
          -0.06009787393164058,
          -0.15326660808314574,
          null,
          -0.06006616978649566,
          -0.1532981673599347,
          null,
          -0.06003148528246918,
          -0.15333291054975373,
          null,
          -0.059993815448345915,
          -0.1533709022872542,
          null,
          -0.059953154823282985,
          -0.15341221346472483,
          null,
          -0.05990949737344299,
          -0.15345692149220175,
          null,
          -0.05986283637542504,
          -0.15350511061354782,
          null,
          -0.059813164477860226,
          -0.15355687206131063,
          null,
          -0.05976047362440556,
          -0.15361230437484147,
          null,
          -0.05970475500488605,
          -0.15367151371430807,
          null,
          -0.05964599890204835,
          -0.15373461431355906,
          null,
          -0.05958419502725332,
          -0.15380172843477385,
          null,
          -0.0595193318730747,
          -0.1538729874106693,
          null,
          -0.059451397027697035,
          -0.15394853168926576,
          null,
          -0.05938037700414971,
          -0.15402851143512095,
          null,
          -0.05930625703205085,
          -0.15411308722166375,
          null,
          -0.059229021462951746,
          -0.15420243006528409,
          null,
          -0.059148652935132606,
          -0.15429672292552538,
          null,
          -0.05906513261012306,
          -0.1543961610475264,
          null,
          -0.058978440492364045,
          -0.15450095222901666,
          null,
          -0.049600245848681924,
          -0.12999716792365834,
          null,
          -0.005622248751746909,
          -0.014708005714306045,
          null,
          0.07526707909187925,
          0.19935612837521915,
          null,
          -0.1427806166449837,
          -0.39095971181915173,
          null,
          0.02235530097000388,
          0.05899839564486817,
          null,
          -0.08660954370462308,
          -0.23236391732813588,
          null,
          -0.12632139564700148,
          -0.34628206872100364,
          null,
          -0.09248236208305535,
          -0.25051904903354355,
          null,
          0.021227244101464402,
          0.05680452947984184,
          null
         ],
         "y": [
          0.18004004675478874,
          0.3000520519249751,
          null,
          0.17903578094950656,
          0.2954474172225728,
          null,
          0.17102857921126102,
          0.2838398565213145,
          null,
          0.1654307742807223,
          0.2746416926277631,
          null,
          0.16293830380791216,
          0.26854886319194027,
          null,
          0.15772715682759159,
          0.259737357248607,
          null,
          0.15274758301327207,
          0.2517574842984436,
          null,
          0.14449825147001988,
          0.2399077937921787,
          null,
          0.1430331516468691,
          0.23544239483318402,
          null,
          0.13932538935436017,
          0.22873433340483115,
          null,
          0.13488800070129642,
          0.2212966456159235,
          null,
          0.1303928593179657,
          0.21380120509674888,
          null,
          0.12587742261365473,
          0.20628546428954025,
          null,
          0.12134249897279493,
          0.19875024151283655,
          null,
          0.1167888575813989,
          0.19119629601854285,
          null,
          0.11221728930355865,
          0.1836244286048587,
          null,
          0.10762855473805832,
          0.17603539490351444,
          null,
          0.10302341502742032,
          0.16842995605703254,
          null,
          0.09840262495970878,
          0.1608088668534771,
          null,
          0.09376693354047881,
          0.1531728762984032,
          null,
          0.08911707680732728,
          0.14552271546235404,
          null,
          0.08445380912532865,
          0.1378591486445115,
          null,
          0.07977785743828603,
          0.13018289782162495,
          null,
          0.07508995244310952,
          0.12249469369060453,
          null,
          0.07039082127563351,
          0.1147952633872846,
          null,
          0.06568118395079675,
          0.10708532444307707,
          null,
          0.0609617692813357,
          0.0993656106377721,
          null,
          0.056233287860658274,
          0.0916368275977239,
          null,
          0.051496463582712745,
          0.08389970418393447,
          null,
          0.046752006513412846,
          0.07615494797879066,
          null,
          0.04200062483759732,
          0.06840326468360435,
          null,
          0.03724303690410794,
          0.06064537761427105,
          null,
          0.03247994585833017,
          0.05288198619088594,
          null,
          0.027712061474272607,
          0.04511380142922103,
          null,
          0.022940090496450814,
          0.037341530073791894,
          null,
          0.0181647407567197,
          0.029565881198216865,
          null,
          0.013386713431483212,
          0.021787553495373032,
          null,
          0.008606716048086112,
          0.014007256355250304,
          null,
          0.0038254510236514117,
          0.006225691108428687,
          null,
          -0.000956376830846005,
          -0.0015564368520403242,
          null,
          -0.005738063563329009,
          -0.00933842345766428,
          null,
          -0.010518906058385766,
          -0.017119566019887525,
          null,
          -0.01529820052962368,
          -0.024899160868732784,
          null,
          -0.02007524119833669,
          -0.03267650129417142,
          null,
          -0.024849325271251846,
          -0.040450885744693924,
          null,
          -0.02961974438569096,
          -0.04822160399497695,
          null,
          -0.03438579827164072,
          -0.05598795950029749,
          null,
          -0.03914677189113578,
          -0.06374923225563646,
          null,
          -0.04390196091113058,
          -0.07150472041147517,
          null,
          -0.04865065966141658,
          -0.07925372078113195,
          null,
          -0.05339214916752555,
          -0.08699550942308483,
          null,
          -0.0581257205271471,
          -0.0947293799185503,
          null,
          -0.06285066286462297,
          -0.10245462387539694,
          null,
          -0.06756625528637589,
          -0.11017051791652063,
          null,
          -0.07227177448428786,
          -0.11787633625027652,
          null,
          -0.07696650222581755,
          -0.12557136312765013,
          null,
          -0.08164971334547974,
          -0.13325487338315622,
          null,
          -0.08632067932572618,
          -0.14092613849924657,
          null,
          -0.09097866794274391,
          -0.14858442625210821,
          null,
          -0.09562295055854647,
          -0.15622901297080843,
          null,
          -0.10025277097007256,
          -0.1638591325181784,
          null,
          -0.10486739108721344,
          -0.1714740517711632,
          null,
          -0.10946605965685466,
          -0.17907301947664836,
          null,
          -0.11404801942064373,
          -0.18665527837628135,
          null,
          -0.1186125140641017,
          -0.19422007712263695,
          null,
          -0.12315875737095434,
          -0.2017666195653335,
          null,
          -0.1276859778553796,
          -0.2092941391856027,
          null,
          -0.1321933951733718,
          -0.21680186060649254,
          null,
          -0.1366801970257898,
          -0.22428896159475442,
          null,
          -0.14131391032258217,
          -0.2319229740273907,
          null,
          -0.14617847627142594,
          -0.2397878391120784,
          null,
          -0.14960493526997234,
          -0.2462145972464687,
          null,
          -0.15187492056075386,
          -0.25208494150026295,
          null,
          -0.16021299510398967,
          -0.26342331517934264,
          null,
          -0.16400530859815707,
          -0.27081598763652276,
          null,
          -0.16721679689175714,
          -0.27762783489313553,
          null,
          -0.17397670919341027,
          -0.28798810615780135,
          null,
          -0.18089304898051295,
          -0.2985048148420242,
          null,
          0.18004004675478874,
          0.5011821152630384,
          null,
          0.17903578094950656,
          0.4791499167669343,
          null,
          0.17102857921126102,
          0.46806539123463237,
          null,
          0.1654307742807223,
          0.4533537401695623,
          null,
          0.16293830380791216,
          0.4339796332175898,
          null,
          0.15772715682759159,
          0.41872089424046843,
          null,
          0.15274758301327207,
          0.40686558223668773,
          null,
          0.14449825147001988,
          0.3961049753871506,
          null,
          0.1430331516468691,
          0.37911139409809524,
          null,
          0.13932538935436017,
          0.36560715830572815,
          null,
          0.13488800070129642,
          0.35304773032715686,
          null,
          0.1303928593179657,
          0.340562708315161,
          null,
          0.12587742261365473,
          0.32810516092198916,
          null,
          0.12134249897279493,
          0.31567345975536576,
          null,
          0.1167888575813989,
          0.3032659834339517,
          null,
          0.11221728930355865,
          0.29088127574777567,
          null,
          0.10762855473805832,
          0.27851789576308905,
          null,
          0.10302341502742032,
          0.2661744944553096,
          null,
          0.09840262495970878,
          0.2538497889775324,
          null,
          0.09376693354047881,
          0.24154255784609718,
          null,
          0.08911707680732728,
          0.22925161611238212,
          null,
          0.08445380912532865,
          0.21697589252324856,
          null,
          0.07977785743828603,
          0.20471430349390368,
          null,
          0.07508995244310952,
          0.1924658308167681,
          null,
          0.07039082127563351,
          0.1802294978052737,
          null,
          0.06568118395079675,
          0.16800435587486637,
          null,
          0.0609617692813357,
          0.1557895218798058,
          null,
          0.056233287860658274,
          0.14358410432110608,
          null,
          0.051496463582712745,
          0.1313872813995769,
          null,
          0.046752006513412846,
          0.11919822756050519,
          null,
          0.04200062483759732,
          0.10701614122950467,
          null,
          0.03724303690410794,
          0.09484027253103301,
          null,
          0.03247994585833017,
          0.08266985533325838,
          null,
          0.027712061474272607,
          0.07050416035935073,
          null,
          0.022940090496450814,
          0.058342467709768704,
          null,
          0.0181647407567197,
          0.046184074716006135,
          null,
          0.013386713431483212,
          0.034028273642529513,
          null,
          0.008606716048086112,
          0.021874382261619765,
          null,
          0.0038254510236514117,
          0.009721712190351782,
          null,
          -0.000956376830846005,
          -0.002430414480796336,
          null,
          -0.005738063563329009,
          -0.014582675899843554,
          null,
          -0.010518906058385766,
          -0.02673575282699272,
          null,
          -0.01529820052962368,
          -0.03889032723854375,
          null,
          -0.02007524119833669,
          -0.05104708140948741,
          null,
          -0.024849325271251846,
          -0.06320671305125594,
          null,
          -0.02961974438569096,
          -0.07536991603852325,
          null,
          -0.03438579827164072,
          -0.08753741779298435,
          null,
          -0.03914677189113578,
          -0.09970992356825219,
          null,
          -0.04390196091113058,
          -0.11188818415132044,
          null,
          -0.04865065966141658,
          -0.12407296796879036,
          null,
          -0.05339214916752555,
          -0.1362650331772961,
          null,
          -0.0581257205271471,
          -0.14846519062942037,
          null,
          -0.06285066286462297,
          -0.16067427618766353,
          null,
          -0.06756625528637589,
          -0.17289313313967797,
          null,
          -0.07227177448428786,
          -0.1851226351308662,
          null,
          -0.07696650222581755,
          -0.19736370932404068,
          null,
          -0.08164971334547974,
          -0.20961730909046622,
          null,
          -0.08632067932572618,
          -0.22188442731838257,
          null,
          -0.09097866794274391,
          -0.23416609979102504,
          null,
          -0.09562295055854647,
          -0.24646342913602917,
          null,
          -0.10025277097007256,
          -0.25877750716477976,
          null,
          -0.10486739108721344,
          -0.2711095410641232,
          null,
          -0.10946605965685466,
          -0.28346077630659083,
          null,
          -0.11404801942064373,
          -0.2958325216132915,
          null,
          -0.1186125140641017,
          -0.3082261744433275,
          null,
          -0.12315875737095434,
          -0.32064314421100387,
          null,
          -0.1276859778553796,
          -0.3330849811276789,
          null,
          -0.1321933951733718,
          -0.34555332103172415,
          null,
          -0.1366801970257898,
          -0.35804982998945495,
          null,
          -0.14131391032258217,
          -0.3703692958739978,
          null,
          -0.14617847627142594,
          -0.3824081713995046,
          null,
          -0.14960493526997234,
          -0.3962510707349186,
          null,
          -0.15187492056075386,
          -0.41586159641421444,
          null,
          -0.16021299510398967,
          -0.4228218481727231,
          null,
          -0.16400530859815707,
          -0.44000827551344535,
          null,
          -0.16721679689175714,
          -0.4583877343659798,
          null,
          -0.17397670919341027,
          -0.47127342727229127,
          null,
          -0.18089304898051295,
          -0.4840734145419821,
          null
         ],
         "z": [
          -1.0001861686745144,
          -2.0139561412641034,
          null,
          -1.038286045909463,
          -2.0470257147615247,
          null,
          -1.016246953925529,
          -2.027935869401627,
          null,
          -1.0149576672007241,
          -2.026815849545862,
          null,
          -1.043167784499053,
          -2.051240624998372,
          null,
          -1.0465415225051737,
          -2.0541508045145482,
          null,
          -1.0430961224044732,
          -2.051178785544317,
          null,
          -1.0146777746499496,
          -2.026572653636614,
          null,
          -1.048176116281252,
          -2.0555600175279367,
          null,
          -1.0586392940930722,
          -2.0645687347138626,
          null,
          -1.0613859869287932,
          -2.0669303344394465,
          null,
          -1.0636380470959061,
          -2.0688656619226053,
          null,
          -1.0658053097854086,
          -2.0707272887957533,
          null,
          -1.0678884392714034,
          -2.072515890473347,
          null,
          -1.0698880672620878,
          -2.0742321074603733,
          null,
          -1.0718047684413718,
          -2.075876524793057,
          null,
          -1.0736390868517585,
          -2.077449695089846,
          null,
          -1.0753915251334223,
          -2.0789521296841875,
          null,
          -1.0770625502981055,
          -2.0803843039185956,
          null,
          -1.078652595920431,
          -2.0817466593345806,
          null,
          -1.0801620665762375,
          -2.0830396077604636,
          null,
          -1.081591329816397,
          -2.084263524699264,
          null,
          -1.0829407328400305,
          -2.0854187638499626,
          null,
          -1.0842105939030953,
          -2.086505649967272,
          null,
          -1.0854012062886225,
          -2.08752448246309,
          null,
          -1.0865128404763669,
          -2.0884755374468433,
          null,
          -1.0875457416957495,
          -2.08935906579988,
          null,
          -1.0885001372661414,
          -2.0901752996076004,
          null,
          -1.0893762307187296,
          -2.090924447269618,
          null,
          -1.0901742083585566,
          -2.091606699237277,
          null,
          -1.0908942373850148,
          -2.092222226518315,
          null,
          -1.0915364650931498,
          -2.0927711800952267,
          null,
          -1.0921010232864523,
          -2.093253694786819,
          null,
          -1.0925880256553828,
          -2.0936698870857033,
          null,
          -1.0929975696584666,
          -2.0940198568342883,
          null,
          -1.0933297365209345,
          -2.0943036872816263,
          null,
          -1.0935845920872653,
          -2.0945214458602477,
          null,
          -1.093762186236772,
          -2.0946731837256953,
          null,
          -1.0938625537984745,
          -2.0947589365679007,
          null,
          -1.0938857143375582,
          -2.0947787244492844,
          null,
          -1.093831672384328,
          -2.094732552011963,
          null,
          -1.0937004173883687,
          -2.094620408441256,
          null,
          -1.0934919236758256,
          -2.0944422674229513,
          null,
          -1.093206150464141,
          -2.0941980871407297,
          null,
          -1.09284304139847,
          -2.0938878098558815,
          null,
          -1.0924025248838214,
          -2.0935113621577983,
          null,
          -1.09188451257759,
          -2.093068653633117,
          null,
          -1.0912889013254377,
          -2.092559578467963,
          null,
          -1.0906155700248534,
          -2.091984012705481,
          null,
          -1.0898643801218177,
          -2.091341814597814,
          null,
          -1.0890351771920723,
          -2.090632825875443,
          null,
          -1.0881277865600274,
          -2.089856867908026,
          null,
          -1.0871420141418306,
          -2.0890137423192767,
          null,
          -1.0860776474548681,
          -2.088103231733181,
          null,
          -1.084934453405259,
          -2.0871250977520552,
          null,
          -1.0837121751991132,
          -2.086079078169785,
          null,
          -1.0824105339142742,
          -2.084964888157775,
          null,
          -1.081029226439052,
          -2.0837822183273857,
          null,
          -1.079567924142185,
          -2.0825307334009455,
          null,
          -1.0780262687974909,
          -2.0812100685126014,
          null,
          -1.0764038813326913,
          -2.079819836476398,
          null,
          -1.0747003447758015,
          -2.0783596129290367,
          null,
          -1.0729152124280672,
          -2.0768289430591587,
          null,
          -1.0710480033002892,
          -2.075227337401625,
          null,
          -1.0690981965458737,
          -2.073554266739317,
          null,
          -1.0670652420278304,
          -2.0718091708205932,
          null,
          -1.0649485382391735,
          -2.069991439030079,
          null,
          -1.0627474383933844,
          -2.068100415189065,
          null,
          -1.0604612587278193,
          -2.066135404237743,
          null,
          -1.0599426751441394,
          -2.065689544863962,
          null,
          -1.0619164817149498,
          -2.0673862994119907,
          null,
          -1.048904058118473,
          -2.056187426435095,
          null,
          -1.0157491692107827,
          -2.027503481935281,
          null,
          -1.0526500281384301,
          -2.059414486457614,
          null,
          -1.03579873979922,
          -2.044876341591449,
          null,
          -1.0146658981744763,
          -2.0265623338898444,
          null,
          -1.0262280207263685,
          -2.036594081444103,
          null,
          -1.0383843722612507,
          -2.047110656669914,
          null,
          -1.0001861686745144,
          -1.9441493027698336,
          null,
          -1.038286045909463,
          -2.0069220009531317,
          null,
          -1.016246953925529,
          -1.9711851385899974,
          null,
          -1.0149576672007241,
          -1.9690471062335066,
          null,
          -1.043167784499053,
          -2.014641308821157,
          null,
          -1.0465415225051737,
          -2.019936727375468,
          null,
          -1.0430961224044732,
          -2.0145284823189007,
          null,
          -1.0146777746499496,
          -1.9685822347238124,
          null,
          -1.048176116281252,
          -2.022491030221982,
          null,
          -1.0586392940930722,
          -2.0386706735536553,
          null,
          -1.0613859869287932,
          -2.042870384078558,
          null,
          -1.0636380470959061,
          -2.046299436159795,
          null,
          -1.0658053097854086,
          -2.0495873113771843,
          null,
          -1.0678884392714034,
          -2.0527365308339,
          null,
          -1.0698880672620878,
          -2.0557494672148513,
          null,
          -1.0718047684413718,
          -2.058628314251588,
          null,
          -1.0736390868517585,
          -2.0613751323797196,
          null,
          -1.0753915251334223,
          -2.0639918378261557,
          null,
          -1.0770625502981055,
          -2.066480216142575,
          null,
          -1.078652595920431,
          -2.0688419298897744,
          null,
          -1.0801620665762375,
          -2.071078529241913,
          null,
          -1.081591329816397,
          -2.0731914437681143,
          null,
          -1.0829407328400305,
          -2.075182010465146,
          null,
          -1.0842105939030953,
          -2.0770514640446938,
          null,
          -1.0854012062886225,
          -2.078800945566627,
          null,
          -1.0865128404763669,
          -2.080431508129696,
          null,
          -1.0875457416957495,
          -2.0819441155570697,
          null,
          -1.0885001372661414,
          -2.083339655211754,
          null,
          -1.0893762307187296,
          -2.0846189312397407,
          null,
          -1.0901742083585566,
          -2.0857826758369713,
          null,
          -1.0908942373850148,
          -2.0868315479870607,
          null,
          -1.0915364650931498,
          -2.0877661336342714,
          null,
          -1.0921010232864523,
          -2.0885869532848766,
          null,
          -1.0925880256553828,
          -2.0892944592171947,
          null,
          -1.0929975696584666,
          -2.0898890391084874,
          null,
          -1.0933297365209345,
          -2.0903710167883873,
          null,
          -1.0935845920872653,
          -2.090740654104126,
          null,
          -1.093762186236772,
          -2.0909981505769246,
          null,
          -1.0938625537984745,
          -2.09114364511303,
          null,
          -1.0938857143375582,
          -2.0911772159597524,
          null,
          -1.093831672384328,
          -2.0910988811870967,
          null,
          -1.0937004173883687,
          -2.0909085986557843,
          null,
          -1.0934919236758256,
          -2.090606265874819,
          null,
          -1.093206150464141,
          -2.0901917198269313,
          null,
          -1.09284304139847,
          -2.089664735983442,
          null,
          -1.0924025248838214,
          -2.0890250283547953,
          null,
          -1.09188451257759,
          -2.088272246748315,
          null,
          -1.0912889013254377,
          -2.0874059789023636,
          null,
          -1.0906155700248534,
          -2.0864257451204598,
          null,
          -1.0898643801218177,
          -2.0853309980446024,
          null,
          -1.0890351771920723,
          -2.084121123877485,
          null,
          -1.0881277865600274,
          -2.082795434763081,
          null,
          -1.0871420141418306,
          -2.081353168613969,
          null,
          -1.0860776474548681,
          -2.0797934890313203,
          null,
          -1.084934453405259,
          -2.0781154803384654,
          null,
          -1.0837121751991132,
          -2.0763181411144283,
          null,
          -1.0824105339142742,
          -2.0744003843566996,
          null,
          -1.081029226439052,
          -2.072361032095182,
          null,
          -1.079567924142185,
          -2.070198810831508,
          null,
          -1.0780262687974909,
          -2.0679123426374755,
          null,
          -1.0764038813326913,
          -2.065500154997323,
          null,
          -1.0747003447758015,
          -2.0629606520597754,
          null,
          -1.0729152124280672,
          -2.0602921229448334,
          null,
          -1.0710480033002892,
          -2.0574927307931548,
          null,
          -1.0690981965458737,
          -2.0545604998254094,
          null,
          -1.0670652420278304,
          -2.051493326224672,
          null,
          -1.0649485382391735,
          -2.048288939400267,
          null,
          -1.0627474383933844,
          -2.0449449049588315,
          null,
          -1.0604612587278193,
          -2.0414586307056353,
          null,
          -1.0599426751441394,
          -2.0406659673906287,
          null,
          -1.0619164817149498,
          -2.043679289048083,
          null,
          -1.048904058118473,
          -2.023626190362295,
          null,
          -1.0157491692107827,
          -1.970360307121447,
          null,
          -1.0526500281384301,
          -2.029444950355601,
          null,
          -1.03579873979922,
          -2.002962504883009,
          null,
          -1.0146658981744763,
          -1.96856250344298,
          null,
          -1.0262280207263685,
          -1.9875554036123466,
          null,
          -1.0383843722612507,
          -2.007078155204084,
          null
         ]
        },
        {
         "marker": {
          "color": "rgba(0, 0, 0, 0.0)",
          "size": 0.01
         },
         "showlegend": false,
         "type": "scatter3d",
         "x": [
          0
         ],
         "y": [
          0
         ],
         "z": [
          0
         ]
        }
       ],
       "layout": {
        "legend": {
         "y": 0.96
        },
        "margin": {
         "b": 0,
         "l": 0,
         "r": 0,
         "t": 0
        },
        "scene": {
         "aspectmode": "data"
        },
        "template": {
         "data": {
          "bar": [
           {
            "error_x": {
             "color": "#2a3f5f"
            },
            "error_y": {
             "color": "#2a3f5f"
            },
            "marker": {
             "line": {
              "color": "#E5ECF6",
              "width": 0.5
             },
             "pattern": {
              "fillmode": "overlay",
              "size": 10,
              "solidity": 0.2
             }
            },
            "type": "bar"
           }
          ],
          "barpolar": [
           {
            "marker": {
             "line": {
              "color": "#E5ECF6",
              "width": 0.5
             },
             "pattern": {
              "fillmode": "overlay",
              "size": 10,
              "solidity": 0.2
             }
            },
            "type": "barpolar"
           }
          ],
          "carpet": [
           {
            "aaxis": {
             "endlinecolor": "#2a3f5f",
             "gridcolor": "white",
             "linecolor": "white",
             "minorgridcolor": "white",
             "startlinecolor": "#2a3f5f"
            },
            "baxis": {
             "endlinecolor": "#2a3f5f",
             "gridcolor": "white",
             "linecolor": "white",
             "minorgridcolor": "white",
             "startlinecolor": "#2a3f5f"
            },
            "type": "carpet"
           }
          ],
          "choropleth": [
           {
            "colorbar": {
             "outlinewidth": 0,
             "ticks": ""
            },
            "type": "choropleth"
           }
          ],
          "contour": [
           {
            "colorbar": {
             "outlinewidth": 0,
             "ticks": ""
            },
            "colorscale": [
             [
              0,
              "#0d0887"
             ],
             [
              0.1111111111111111,
              "#46039f"
             ],
             [
              0.2222222222222222,
              "#7201a8"
             ],
             [
              0.3333333333333333,
              "#9c179e"
             ],
             [
              0.4444444444444444,
              "#bd3786"
             ],
             [
              0.5555555555555556,
              "#d8576b"
             ],
             [
              0.6666666666666666,
              "#ed7953"
             ],
             [
              0.7777777777777778,
              "#fb9f3a"
             ],
             [
              0.8888888888888888,
              "#fdca26"
             ],
             [
              1,
              "#f0f921"
             ]
            ],
            "type": "contour"
           }
          ],
          "contourcarpet": [
           {
            "colorbar": {
             "outlinewidth": 0,
             "ticks": ""
            },
            "type": "contourcarpet"
           }
          ],
          "heatmap": [
           {
            "colorbar": {
             "outlinewidth": 0,
             "ticks": ""
            },
            "colorscale": [
             [
              0,
              "#0d0887"
             ],
             [
              0.1111111111111111,
              "#46039f"
             ],
             [
              0.2222222222222222,
              "#7201a8"
             ],
             [
              0.3333333333333333,
              "#9c179e"
             ],
             [
              0.4444444444444444,
              "#bd3786"
             ],
             [
              0.5555555555555556,
              "#d8576b"
             ],
             [
              0.6666666666666666,
              "#ed7953"
             ],
             [
              0.7777777777777778,
              "#fb9f3a"
             ],
             [
              0.8888888888888888,
              "#fdca26"
             ],
             [
              1,
              "#f0f921"
             ]
            ],
            "type": "heatmap"
           }
          ],
          "heatmapgl": [
           {
            "colorbar": {
             "outlinewidth": 0,
             "ticks": ""
            },
            "colorscale": [
             [
              0,
              "#0d0887"
             ],
             [
              0.1111111111111111,
              "#46039f"
             ],
             [
              0.2222222222222222,
              "#7201a8"
             ],
             [
              0.3333333333333333,
              "#9c179e"
             ],
             [
              0.4444444444444444,
              "#bd3786"
             ],
             [
              0.5555555555555556,
              "#d8576b"
             ],
             [
              0.6666666666666666,
              "#ed7953"
             ],
             [
              0.7777777777777778,
              "#fb9f3a"
             ],
             [
              0.8888888888888888,
              "#fdca26"
             ],
             [
              1,
              "#f0f921"
             ]
            ],
            "type": "heatmapgl"
           }
          ],
          "histogram": [
           {
            "marker": {
             "pattern": {
              "fillmode": "overlay",
              "size": 10,
              "solidity": 0.2
             }
            },
            "type": "histogram"
           }
          ],
          "histogram2d": [
           {
            "colorbar": {
             "outlinewidth": 0,
             "ticks": ""
            },
            "colorscale": [
             [
              0,
              "#0d0887"
             ],
             [
              0.1111111111111111,
              "#46039f"
             ],
             [
              0.2222222222222222,
              "#7201a8"
             ],
             [
              0.3333333333333333,
              "#9c179e"
             ],
             [
              0.4444444444444444,
              "#bd3786"
             ],
             [
              0.5555555555555556,
              "#d8576b"
             ],
             [
              0.6666666666666666,
              "#ed7953"
             ],
             [
              0.7777777777777778,
              "#fb9f3a"
             ],
             [
              0.8888888888888888,
              "#fdca26"
             ],
             [
              1,
              "#f0f921"
             ]
            ],
            "type": "histogram2d"
           }
          ],
          "histogram2dcontour": [
           {
            "colorbar": {
             "outlinewidth": 0,
             "ticks": ""
            },
            "colorscale": [
             [
              0,
              "#0d0887"
             ],
             [
              0.1111111111111111,
              "#46039f"
             ],
             [
              0.2222222222222222,
              "#7201a8"
             ],
             [
              0.3333333333333333,
              "#9c179e"
             ],
             [
              0.4444444444444444,
              "#bd3786"
             ],
             [
              0.5555555555555556,
              "#d8576b"
             ],
             [
              0.6666666666666666,
              "#ed7953"
             ],
             [
              0.7777777777777778,
              "#fb9f3a"
             ],
             [
              0.8888888888888888,
              "#fdca26"
             ],
             [
              1,
              "#f0f921"
             ]
            ],
            "type": "histogram2dcontour"
           }
          ],
          "mesh3d": [
           {
            "colorbar": {
             "outlinewidth": 0,
             "ticks": ""
            },
            "type": "mesh3d"
           }
          ],
          "parcoords": [
           {
            "line": {
             "colorbar": {
              "outlinewidth": 0,
              "ticks": ""
             }
            },
            "type": "parcoords"
           }
          ],
          "pie": [
           {
            "automargin": true,
            "type": "pie"
           }
          ],
          "scatter": [
           {
            "fillpattern": {
             "fillmode": "overlay",
             "size": 10,
             "solidity": 0.2
            },
            "type": "scatter"
           }
          ],
          "scatter3d": [
           {
            "line": {
             "colorbar": {
              "outlinewidth": 0,
              "ticks": ""
             }
            },
            "marker": {
             "colorbar": {
              "outlinewidth": 0,
              "ticks": ""
             }
            },
            "type": "scatter3d"
           }
          ],
          "scattercarpet": [
           {
            "marker": {
             "colorbar": {
              "outlinewidth": 0,
              "ticks": ""
             }
            },
            "type": "scattercarpet"
           }
          ],
          "scattergeo": [
           {
            "marker": {
             "colorbar": {
              "outlinewidth": 0,
              "ticks": ""
             }
            },
            "type": "scattergeo"
           }
          ],
          "scattergl": [
           {
            "marker": {
             "colorbar": {
              "outlinewidth": 0,
              "ticks": ""
             }
            },
            "type": "scattergl"
           }
          ],
          "scattermapbox": [
           {
            "marker": {
             "colorbar": {
              "outlinewidth": 0,
              "ticks": ""
             }
            },
            "type": "scattermapbox"
           }
          ],
          "scatterpolar": [
           {
            "marker": {
             "colorbar": {
              "outlinewidth": 0,
              "ticks": ""
             }
            },
            "type": "scatterpolar"
           }
          ],
          "scatterpolargl": [
           {
            "marker": {
             "colorbar": {
              "outlinewidth": 0,
              "ticks": ""
             }
            },
            "type": "scatterpolargl"
           }
          ],
          "scatterternary": [
           {
            "marker": {
             "colorbar": {
              "outlinewidth": 0,
              "ticks": ""
             }
            },
            "type": "scatterternary"
           }
          ],
          "surface": [
           {
            "colorbar": {
             "outlinewidth": 0,
             "ticks": ""
            },
            "colorscale": [
             [
              0,
              "#0d0887"
             ],
             [
              0.1111111111111111,
              "#46039f"
             ],
             [
              0.2222222222222222,
              "#7201a8"
             ],
             [
              0.3333333333333333,
              "#9c179e"
             ],
             [
              0.4444444444444444,
              "#bd3786"
             ],
             [
              0.5555555555555556,
              "#d8576b"
             ],
             [
              0.6666666666666666,
              "#ed7953"
             ],
             [
              0.7777777777777778,
              "#fb9f3a"
             ],
             [
              0.8888888888888888,
              "#fdca26"
             ],
             [
              1,
              "#f0f921"
             ]
            ],
            "type": "surface"
           }
          ],
          "table": [
           {
            "cells": {
             "fill": {
              "color": "#EBF0F8"
             },
             "line": {
              "color": "white"
             }
            },
            "header": {
             "fill": {
              "color": "#C8D4E3"
             },
             "line": {
              "color": "white"
             }
            },
            "type": "table"
           }
          ]
         },
         "layout": {
          "annotationdefaults": {
           "arrowcolor": "#2a3f5f",
           "arrowhead": 0,
           "arrowwidth": 1
          },
          "autotypenumbers": "strict",
          "coloraxis": {
           "colorbar": {
            "outlinewidth": 0,
            "ticks": ""
           }
          },
          "colorscale": {
           "diverging": [
            [
             0,
             "#8e0152"
            ],
            [
             0.1,
             "#c51b7d"
            ],
            [
             0.2,
             "#de77ae"
            ],
            [
             0.3,
             "#f1b6da"
            ],
            [
             0.4,
             "#fde0ef"
            ],
            [
             0.5,
             "#f7f7f7"
            ],
            [
             0.6,
             "#e6f5d0"
            ],
            [
             0.7,
             "#b8e186"
            ],
            [
             0.8,
             "#7fbc41"
            ],
            [
             0.9,
             "#4d9221"
            ],
            [
             1,
             "#276419"
            ]
           ],
           "sequential": [
            [
             0,
             "#0d0887"
            ],
            [
             0.1111111111111111,
             "#46039f"
            ],
            [
             0.2222222222222222,
             "#7201a8"
            ],
            [
             0.3333333333333333,
             "#9c179e"
            ],
            [
             0.4444444444444444,
             "#bd3786"
            ],
            [
             0.5555555555555556,
             "#d8576b"
            ],
            [
             0.6666666666666666,
             "#ed7953"
            ],
            [
             0.7777777777777778,
             "#fb9f3a"
            ],
            [
             0.8888888888888888,
             "#fdca26"
            ],
            [
             1,
             "#f0f921"
            ]
           ],
           "sequentialminus": [
            [
             0,
             "#0d0887"
            ],
            [
             0.1111111111111111,
             "#46039f"
            ],
            [
             0.2222222222222222,
             "#7201a8"
            ],
            [
             0.3333333333333333,
             "#9c179e"
            ],
            [
             0.4444444444444444,
             "#bd3786"
            ],
            [
             0.5555555555555556,
             "#d8576b"
            ],
            [
             0.6666666666666666,
             "#ed7953"
            ],
            [
             0.7777777777777778,
             "#fb9f3a"
            ],
            [
             0.8888888888888888,
             "#fdca26"
            ],
            [
             1,
             "#f0f921"
            ]
           ]
          },
          "colorway": [
           "#636efa",
           "#EF553B",
           "#00cc96",
           "#ab63fa",
           "#FFA15A",
           "#19d3f3",
           "#FF6692",
           "#B6E880",
           "#FF97FF",
           "#FECB52"
          ],
          "font": {
           "color": "#2a3f5f"
          },
          "geo": {
           "bgcolor": "white",
           "lakecolor": "white",
           "landcolor": "#E5ECF6",
           "showlakes": true,
           "showland": true,
           "subunitcolor": "white"
          },
          "hoverlabel": {
           "align": "left"
          },
          "hovermode": "closest",
          "mapbox": {
           "style": "light"
          },
          "paper_bgcolor": "white",
          "plot_bgcolor": "#E5ECF6",
          "polar": {
           "angularaxis": {
            "gridcolor": "white",
            "linecolor": "white",
            "ticks": ""
           },
           "bgcolor": "#E5ECF6",
           "radialaxis": {
            "gridcolor": "white",
            "linecolor": "white",
            "ticks": ""
           }
          },
          "scene": {
           "xaxis": {
            "backgroundcolor": "#E5ECF6",
            "gridcolor": "white",
            "gridwidth": 2,
            "linecolor": "white",
            "showbackground": true,
            "ticks": "",
            "zerolinecolor": "white"
           },
           "yaxis": {
            "backgroundcolor": "#E5ECF6",
            "gridcolor": "white",
            "gridwidth": 2,
            "linecolor": "white",
            "showbackground": true,
            "ticks": "",
            "zerolinecolor": "white"
           },
           "zaxis": {
            "backgroundcolor": "#E5ECF6",
            "gridcolor": "white",
            "gridwidth": 2,
            "linecolor": "white",
            "showbackground": true,
            "ticks": "",
            "zerolinecolor": "white"
           }
          },
          "shapedefaults": {
           "line": {
            "color": "#2a3f5f"
           }
          },
          "ternary": {
           "aaxis": {
            "gridcolor": "white",
            "linecolor": "white",
            "ticks": ""
           },
           "baxis": {
            "gridcolor": "white",
            "linecolor": "white",
            "ticks": ""
           },
           "bgcolor": "#E5ECF6",
           "caxis": {
            "gridcolor": "white",
            "linecolor": "white",
            "ticks": ""
           }
          },
          "title": {
           "x": 0.05
          },
          "xaxis": {
           "automargin": true,
           "gridcolor": "white",
           "linecolor": "white",
           "ticks": "",
           "title": {
            "standoff": 15
           },
           "zerolinecolor": "white",
           "zerolinewidth": 2
          },
          "yaxis": {
           "automargin": true,
           "gridcolor": "white",
           "linecolor": "white",
           "ticks": "",
           "title": {
            "standoff": 15
           },
           "zerolinecolor": "white",
           "zerolinewidth": 2
          }
         }
        }
       }
      },
      "text/html": [
       "<div>                            <div id=\"b0948bf2-7169-461e-ac23-a6585eae2818\" class=\"plotly-graph-div\" style=\"height:525px; width:100%;\"></div>            <script type=\"text/javascript\">                require([\"plotly\"], function(Plotly) {                    window.PLOTLYENV=window.PLOTLYENV || {};                                    if (document.getElementById(\"b0948bf2-7169-461e-ac23-a6585eae2818\")) {                    Plotly.newPlot(                        \"b0948bf2-7169-461e-ac23-a6585eae2818\",                        [{\"legendgroup\":\"Ray 0\",\"marker\":{\"size\":[0,6,0,0,6,0,0,6,0,0,6,0,0,6,0,0,6,0,0,6,0,0,6,0,0,6,0,0,6,0,0,6,0,0,6,0,0,6,0,0,6,0,0,6,0,0,6,0,0,6,0,0,6,0,0,6,0,0,6,0,0,6,0,0,6,0,0,6,0,0,6,0,0,6,0,0,6,0,0,6,0,0,6,0,0,6,0,0,6,0,0,6,0,0,6,0,0,6,0,0,6,0,0,6,0,0,6,0,0,6,0,0,6,0,0,6,0,0,6,0,0,6,0,0,6,0,0,6,0,0,6,0,0,6,0,0,6,0,0,6,0,0,6,0,0,6,0,0,6,0,0,6,0,0,6,0,0,6,0,0,6,0,0,6,0,0,6,0,0,6,0,0,6,0,0,6,0,0,6,0,0,6,0,0,6,0,0,6,0,0,6,0,0,6,0,0,6,0,0,6,0,0,6,0,0,6,0,0,6,0,0,6,0,0,6,0,0,6,0,0,6,0,0,6,0,0,6,0,0,6,0,0,6,0,0,6,0,0,6,0,0,6,0,0,6,0,0,6,0,0,6,0,0,6,0,0,6,0,0,6,0,0,6,0,0,6,0,0,6,0,0,6,0,0,6,0,0,6,0,0,6,0,0,6,0,0,6,0,0,6,0,0,6,0,0,6,0,0,6,0,0,6,0,0,6,0,0,6,0,0,6,0,0,6,0,0,6,0,0,6,0,0,6,0,0,6,0,0,6,0,0,6,0,0,6,0,0,6,0,0,6,0,0,6,0,0,6,0,0,6,0,0,6,0,0,6,0,0,6,0,0,6,0,0,6,0,0,6,0,0,6,0,0,6,0,0,6,0,0,6,0,0,6,0,0,6,0,0,6,0,0,6,0,0,6,0,0,6,0,0,6,0,0,6,0,0,6,0,0,6,0,0,6,0,0,6,0,0,6,0,0,6,0,0,6,0,0,6,0,0,6,0,0,6,0,0,6,0,0,6,0,0,6,0,0,6,0,0,6,0,0,6,0,0,6,0,0,6,0,0,6,0,0,6,0,0,6,0],\"symbol\":\"diamond\"},\"mode\":\"lines+markers\",\"name\":\"Ray 0\",\"x\":[-0.13232943525894886,-0.22053825965508228,null,0.034146002176442106,0.05634822323226765,null,0.11826444948042321,0.19627225184763358,null,0.12816341222245708,0.2127718776555778,null,0.06573079745463832,0.10833506008478308,null,-0.0658742869404692,-0.10847854957061395,null,0.08701983196670149,0.14342547062172822,null,-0.1517686014742587,-0.2519786224137678,null,-0.08916351741333609,-0.1467692757227004,null,-0.06077953135960515,-0.09978343254321034,null,-0.05901349933759131,-0.09681728086685894,null,-0.059098920145312324,-0.09690270167457996,null,-0.05918117746400754,-0.09698495899327517,null,-0.05926029064870409,-0.09706407217797172,null,-0.05933627806297348,-0.0971400595922411,null,-0.059409156145275206,-0.09721293767454284,null,-0.059478940406942106,-0.09728272193620974,null,-0.05954564501939319,-0.09734942654866081,null,-0.05960928302998414,-0.09741306455925178,null,-0.05966986644212074,-0.09747364797138837,null,-0.059727406381399575,-0.0975311879106672,null,-0.05978191278685919,-0.09758569431612682,null,-0.05983339504409785,-0.09763717657336549,null,-0.059881861655608375,-0.09768564318487599,null,-0.059927320390127214,-0.09773110191939484,null,-0.059969778363651985,-0.09777355989291961,null,-0.06000924194430849,-0.09781302347357612,null,-0.06004571703125804,-0.09784949856052566,null,-0.06007920882880335,-0.09788299035807096,null,-0.0601097220959708,-0.09791350362523843,null,-0.060137261073664454,-0.09794104260293209,null,-0.06016182945315025,-0.09796561098241788,null,-0.0601834305440244,-0.09798721207329203,null,-0.060202067173238644,-0.09800584870250627,null,-0.06021774175645081,-0.09802152328571843,null,-0.06023045629746142,-0.09803423782672904,null,-0.06024021242042076,-0.0980439939496884,null,-0.06024701134711797,-0.0980507928763856,null,-0.06025085393174346,-0.09805463546101109,null,-0.06025174065253659,-0.09805552218180422,null,-0.06024967162045075,-0.09805345314971838,null,-0.06024464657737533,-0.09804842810664297,null,-0.06023666489455414,-0.09804044642382177,null,-0.060225725573280514,-0.09802950710254814,null,-0.060211827227360674,-0.09801560875662829,null,-0.06019496809611672,-0.09799874962538435,null,-0.06017514598706675,-0.09797892751633439,null,-0.060152358350465625,-0.09795613987973326,null,-0.06012660215983508,-0.0979303836891027,null,-0.06009787393164058,-0.0979016554609082,null,-0.06006616978649566,-0.09786995131576329,null,-0.06003148528246918,-0.0978352668117368,null,-0.059993815448345915,-0.09779759697761353,null,-0.059953154823282985,-0.09775693635255062,null,-0.05990949737344299,-0.09771327890271062,null,-0.05986283637542504,-0.09766661790469267,null,-0.059813164477860226,-0.09761694600712785,null,-0.05976047362440556,-0.09756425515367319,null,-0.05970475500488605,-0.09750853653415367,null,-0.05964599890204835,-0.09744978043131598,null,-0.05958419502725332,-0.09738797655652096,null,-0.0595193318730747,-0.09732311340234233,null,-0.059451397027697035,-0.09725517855696467,null,-0.05938037700414971,-0.09718415853341733,null,-0.05930625703205085,-0.09711003856131847,null,-0.059229021462951746,-0.09703280299221938,null,-0.059148652935132606,-0.09695243446440023,null,-0.05906513261012306,-0.0968689141393907,null,-0.058978440492364045,-0.09678222202163167,null,-0.049600245848681924,-0.08140342662273486,null,-0.005622248751746909,-0.00922260864608218,null,0.07526707909187925,0.12387193999371184,null,-0.1427806166449837,-0.23699003931280493,null,0.02235530097000388,0.03675674054734496,null,-0.08660954370462308,-0.14301518235964983,null,-0.12632139564700148,-0.20972974142578465,null,-0.09248236208305535,-0.15308842449531732,null,0.021227244101464402,0.0350286238516367,null,-0.13232943525894886,-0.3683688572074827,null,0.034146002176442106,0.09138426974762157,null,0.11826444948042321,0.32366225615910355,null,0.12816341222245708,0.35122462877038657,null,0.06573079745463832,0.1750713411383778,null,-0.0658742869404692,-0.17487756002168248,null,0.08701983196670149,0.23179008073858953,null,-0.1517686014742587,-0.4160347792442061,null,-0.08916351741333609,-0.23632916565185372,null,-0.06077953135960515,-0.1594930532511999,null,-0.05901349933759131,-0.15445837948133767,null,-0.059098920145312324,-0.15435575543373245,null,-0.05918117746400754,-0.15425839957796084,null,-0.05926029064870409,-0.15416610943029177,null,-0.05933627806297348,-0.1540786946009488,null,-0.059409156145275206,-0.15399597724990174,null,-0.059478940406942106,-0.15391779035477315,null,-0.05954564501939319,-0.15384397766113517,null,-0.05960928302998414,-0.153774392954042,null,-0.05966986644212074,-0.15370889952952224,null,-0.059727406381399575,-0.15364736961402486,null,-0.05978191278685919,-0.15358968432586137,null,-0.05983339504409785,-0.15353573266370785,null,-0.059881861655608375,-0.15348541155533815,null,-0.059927320390127214,-0.1534386254201459,null,-0.059969778363651985,-0.15339528583241424,null,-0.06000924194430849,-0.15335531138752037,null,-0.06004571703125804,-0.15331862720912665,null,-0.06007920882880335,-0.1532851649895394,null,-0.0601097220959708,-0.15325486256806267,null,-0.060137261073664454,-0.15322766385260822,null,-0.06016182945315025,-0.15320351871393573,null,-0.0601834305440244,-0.153182382699621,null,-0.060202067173238644,-0.1531642170282762,null,-0.06021774175645081,-0.15314898842811783,null,-0.06023045629746142,-0.15313666905992412,null,-0.06024021242042076,-0.15312723642124484,null,-0.06024701134711797,-0.15312067331651516,null,-0.06025085393174346,-0.1531169677839038,null,-0.06025174065253659,-0.15311611307602802,null,-0.06024967162045075,-0.15311810763617684,null,-0.06024464657737533,-0.15312295509647472,null,-0.06023666489455414,-0.15313066428769956,null,-0.060225725573280514,-0.15314124925878447,null,-0.060211827227360674,-0.15315472932597093,null,-0.06019496809611672,-0.1531711291045994,null,-0.06017514598706675,-0.153190478621753,null,-0.060152358350465625,-0.15321281331330297,null,-0.06012660215983508,-0.15323817422349298,null,-0.06009787393164058,-0.15326660808314574,null,-0.06006616978649566,-0.1532981673599347,null,-0.06003148528246918,-0.15333291054975373,null,-0.059993815448345915,-0.1533709022872542,null,-0.059953154823282985,-0.15341221346472483,null,-0.05990949737344299,-0.15345692149220175,null,-0.05986283637542504,-0.15350511061354782,null,-0.059813164477860226,-0.15355687206131063,null,-0.05976047362440556,-0.15361230437484147,null,-0.05970475500488605,-0.15367151371430807,null,-0.05964599890204835,-0.15373461431355906,null,-0.05958419502725332,-0.15380172843477385,null,-0.0595193318730747,-0.1538729874106693,null,-0.059451397027697035,-0.15394853168926576,null,-0.05938037700414971,-0.15402851143512095,null,-0.05930625703205085,-0.15411308722166375,null,-0.059229021462951746,-0.15420243006528409,null,-0.059148652935132606,-0.15429672292552538,null,-0.05906513261012306,-0.1543961610475264,null,-0.058978440492364045,-0.15450095222901666,null,-0.049600245848681924,-0.12999716792365834,null,-0.005622248751746909,-0.014708005714306045,null,0.07526707909187925,0.19935612837521915,null,-0.1427806166449837,-0.39095971181915173,null,0.02235530097000388,0.05899839564486817,null,-0.08660954370462308,-0.23236391732813588,null,-0.12632139564700148,-0.34628206872100364,null,-0.09248236208305535,-0.25051904903354355,null,0.021227244101464402,0.05680452947984184,null],\"y\":[0.18004004675478874,0.3000520519249751,null,0.17903578094950656,0.2954474172225728,null,0.17102857921126102,0.2838398565213145,null,0.1654307742807223,0.2746416926277631,null,0.16293830380791216,0.26854886319194027,null,0.15772715682759159,0.259737357248607,null,0.15274758301327207,0.2517574842984436,null,0.14449825147001988,0.2399077937921787,null,0.1430331516468691,0.23544239483318402,null,0.13932538935436017,0.22873433340483115,null,0.13488800070129642,0.2212966456159235,null,0.1303928593179657,0.21380120509674888,null,0.12587742261365473,0.20628546428954025,null,0.12134249897279493,0.19875024151283655,null,0.1167888575813989,0.19119629601854285,null,0.11221728930355865,0.1836244286048587,null,0.10762855473805832,0.17603539490351444,null,0.10302341502742032,0.16842995605703254,null,0.09840262495970878,0.1608088668534771,null,0.09376693354047881,0.1531728762984032,null,0.08911707680732728,0.14552271546235404,null,0.08445380912532865,0.1378591486445115,null,0.07977785743828603,0.13018289782162495,null,0.07508995244310952,0.12249469369060453,null,0.07039082127563351,0.1147952633872846,null,0.06568118395079675,0.10708532444307707,null,0.0609617692813357,0.0993656106377721,null,0.056233287860658274,0.0916368275977239,null,0.051496463582712745,0.08389970418393447,null,0.046752006513412846,0.07615494797879066,null,0.04200062483759732,0.06840326468360435,null,0.03724303690410794,0.06064537761427105,null,0.03247994585833017,0.05288198619088594,null,0.027712061474272607,0.04511380142922103,null,0.022940090496450814,0.037341530073791894,null,0.0181647407567197,0.029565881198216865,null,0.013386713431483212,0.021787553495373032,null,0.008606716048086112,0.014007256355250304,null,0.0038254510236514117,0.006225691108428687,null,-0.000956376830846005,-0.0015564368520403242,null,-0.005738063563329009,-0.00933842345766428,null,-0.010518906058385766,-0.017119566019887525,null,-0.01529820052962368,-0.024899160868732784,null,-0.02007524119833669,-0.03267650129417142,null,-0.024849325271251846,-0.040450885744693924,null,-0.02961974438569096,-0.04822160399497695,null,-0.03438579827164072,-0.05598795950029749,null,-0.03914677189113578,-0.06374923225563646,null,-0.04390196091113058,-0.07150472041147517,null,-0.04865065966141658,-0.07925372078113195,null,-0.05339214916752555,-0.08699550942308483,null,-0.0581257205271471,-0.0947293799185503,null,-0.06285066286462297,-0.10245462387539694,null,-0.06756625528637589,-0.11017051791652063,null,-0.07227177448428786,-0.11787633625027652,null,-0.07696650222581755,-0.12557136312765013,null,-0.08164971334547974,-0.13325487338315622,null,-0.08632067932572618,-0.14092613849924657,null,-0.09097866794274391,-0.14858442625210821,null,-0.09562295055854647,-0.15622901297080843,null,-0.10025277097007256,-0.1638591325181784,null,-0.10486739108721344,-0.1714740517711632,null,-0.10946605965685466,-0.17907301947664836,null,-0.11404801942064373,-0.18665527837628135,null,-0.1186125140641017,-0.19422007712263695,null,-0.12315875737095434,-0.2017666195653335,null,-0.1276859778553796,-0.2092941391856027,null,-0.1321933951733718,-0.21680186060649254,null,-0.1366801970257898,-0.22428896159475442,null,-0.14131391032258217,-0.2319229740273907,null,-0.14617847627142594,-0.2397878391120784,null,-0.14960493526997234,-0.2462145972464687,null,-0.15187492056075386,-0.25208494150026295,null,-0.16021299510398967,-0.26342331517934264,null,-0.16400530859815707,-0.27081598763652276,null,-0.16721679689175714,-0.27762783489313553,null,-0.17397670919341027,-0.28798810615780135,null,-0.18089304898051295,-0.2985048148420242,null,0.18004004675478874,0.5011821152630384,null,0.17903578094950656,0.4791499167669343,null,0.17102857921126102,0.46806539123463237,null,0.1654307742807223,0.4533537401695623,null,0.16293830380791216,0.4339796332175898,null,0.15772715682759159,0.41872089424046843,null,0.15274758301327207,0.40686558223668773,null,0.14449825147001988,0.3961049753871506,null,0.1430331516468691,0.37911139409809524,null,0.13932538935436017,0.36560715830572815,null,0.13488800070129642,0.35304773032715686,null,0.1303928593179657,0.340562708315161,null,0.12587742261365473,0.32810516092198916,null,0.12134249897279493,0.31567345975536576,null,0.1167888575813989,0.3032659834339517,null,0.11221728930355865,0.29088127574777567,null,0.10762855473805832,0.27851789576308905,null,0.10302341502742032,0.2661744944553096,null,0.09840262495970878,0.2538497889775324,null,0.09376693354047881,0.24154255784609718,null,0.08911707680732728,0.22925161611238212,null,0.08445380912532865,0.21697589252324856,null,0.07977785743828603,0.20471430349390368,null,0.07508995244310952,0.1924658308167681,null,0.07039082127563351,0.1802294978052737,null,0.06568118395079675,0.16800435587486637,null,0.0609617692813357,0.1557895218798058,null,0.056233287860658274,0.14358410432110608,null,0.051496463582712745,0.1313872813995769,null,0.046752006513412846,0.11919822756050519,null,0.04200062483759732,0.10701614122950467,null,0.03724303690410794,0.09484027253103301,null,0.03247994585833017,0.08266985533325838,null,0.027712061474272607,0.07050416035935073,null,0.022940090496450814,0.058342467709768704,null,0.0181647407567197,0.046184074716006135,null,0.013386713431483212,0.034028273642529513,null,0.008606716048086112,0.021874382261619765,null,0.0038254510236514117,0.009721712190351782,null,-0.000956376830846005,-0.002430414480796336,null,-0.005738063563329009,-0.014582675899843554,null,-0.010518906058385766,-0.02673575282699272,null,-0.01529820052962368,-0.03889032723854375,null,-0.02007524119833669,-0.05104708140948741,null,-0.024849325271251846,-0.06320671305125594,null,-0.02961974438569096,-0.07536991603852325,null,-0.03438579827164072,-0.08753741779298435,null,-0.03914677189113578,-0.09970992356825219,null,-0.04390196091113058,-0.11188818415132044,null,-0.04865065966141658,-0.12407296796879036,null,-0.05339214916752555,-0.1362650331772961,null,-0.0581257205271471,-0.14846519062942037,null,-0.06285066286462297,-0.16067427618766353,null,-0.06756625528637589,-0.17289313313967797,null,-0.07227177448428786,-0.1851226351308662,null,-0.07696650222581755,-0.19736370932404068,null,-0.08164971334547974,-0.20961730909046622,null,-0.08632067932572618,-0.22188442731838257,null,-0.09097866794274391,-0.23416609979102504,null,-0.09562295055854647,-0.24646342913602917,null,-0.10025277097007256,-0.25877750716477976,null,-0.10486739108721344,-0.2711095410641232,null,-0.10946605965685466,-0.28346077630659083,null,-0.11404801942064373,-0.2958325216132915,null,-0.1186125140641017,-0.3082261744433275,null,-0.12315875737095434,-0.32064314421100387,null,-0.1276859778553796,-0.3330849811276789,null,-0.1321933951733718,-0.34555332103172415,null,-0.1366801970257898,-0.35804982998945495,null,-0.14131391032258217,-0.3703692958739978,null,-0.14617847627142594,-0.3824081713995046,null,-0.14960493526997234,-0.3962510707349186,null,-0.15187492056075386,-0.41586159641421444,null,-0.16021299510398967,-0.4228218481727231,null,-0.16400530859815707,-0.44000827551344535,null,-0.16721679689175714,-0.4583877343659798,null,-0.17397670919341027,-0.47127342727229127,null,-0.18089304898051295,-0.4840734145419821,null],\"z\":[-1.0001861686745144,-2.0139561412641034,null,-1.038286045909463,-2.0470257147615247,null,-1.016246953925529,-2.027935869401627,null,-1.0149576672007241,-2.026815849545862,null,-1.043167784499053,-2.051240624998372,null,-1.0465415225051737,-2.0541508045145482,null,-1.0430961224044732,-2.051178785544317,null,-1.0146777746499496,-2.026572653636614,null,-1.048176116281252,-2.0555600175279367,null,-1.0586392940930722,-2.0645687347138626,null,-1.0613859869287932,-2.0669303344394465,null,-1.0636380470959061,-2.0688656619226053,null,-1.0658053097854086,-2.0707272887957533,null,-1.0678884392714034,-2.072515890473347,null,-1.0698880672620878,-2.0742321074603733,null,-1.0718047684413718,-2.075876524793057,null,-1.0736390868517585,-2.077449695089846,null,-1.0753915251334223,-2.0789521296841875,null,-1.0770625502981055,-2.0803843039185956,null,-1.078652595920431,-2.0817466593345806,null,-1.0801620665762375,-2.0830396077604636,null,-1.081591329816397,-2.084263524699264,null,-1.0829407328400305,-2.0854187638499626,null,-1.0842105939030953,-2.086505649967272,null,-1.0854012062886225,-2.08752448246309,null,-1.0865128404763669,-2.0884755374468433,null,-1.0875457416957495,-2.08935906579988,null,-1.0885001372661414,-2.0901752996076004,null,-1.0893762307187296,-2.090924447269618,null,-1.0901742083585566,-2.091606699237277,null,-1.0908942373850148,-2.092222226518315,null,-1.0915364650931498,-2.0927711800952267,null,-1.0921010232864523,-2.093253694786819,null,-1.0925880256553828,-2.0936698870857033,null,-1.0929975696584666,-2.0940198568342883,null,-1.0933297365209345,-2.0943036872816263,null,-1.0935845920872653,-2.0945214458602477,null,-1.093762186236772,-2.0946731837256953,null,-1.0938625537984745,-2.0947589365679007,null,-1.0938857143375582,-2.0947787244492844,null,-1.093831672384328,-2.094732552011963,null,-1.0937004173883687,-2.094620408441256,null,-1.0934919236758256,-2.0944422674229513,null,-1.093206150464141,-2.0941980871407297,null,-1.09284304139847,-2.0938878098558815,null,-1.0924025248838214,-2.0935113621577983,null,-1.09188451257759,-2.093068653633117,null,-1.0912889013254377,-2.092559578467963,null,-1.0906155700248534,-2.091984012705481,null,-1.0898643801218177,-2.091341814597814,null,-1.0890351771920723,-2.090632825875443,null,-1.0881277865600274,-2.089856867908026,null,-1.0871420141418306,-2.0890137423192767,null,-1.0860776474548681,-2.088103231733181,null,-1.084934453405259,-2.0871250977520552,null,-1.0837121751991132,-2.086079078169785,null,-1.0824105339142742,-2.084964888157775,null,-1.081029226439052,-2.0837822183273857,null,-1.079567924142185,-2.0825307334009455,null,-1.0780262687974909,-2.0812100685126014,null,-1.0764038813326913,-2.079819836476398,null,-1.0747003447758015,-2.0783596129290367,null,-1.0729152124280672,-2.0768289430591587,null,-1.0710480033002892,-2.075227337401625,null,-1.0690981965458737,-2.073554266739317,null,-1.0670652420278304,-2.0718091708205932,null,-1.0649485382391735,-2.069991439030079,null,-1.0627474383933844,-2.068100415189065,null,-1.0604612587278193,-2.066135404237743,null,-1.0599426751441394,-2.065689544863962,null,-1.0619164817149498,-2.0673862994119907,null,-1.048904058118473,-2.056187426435095,null,-1.0157491692107827,-2.027503481935281,null,-1.0526500281384301,-2.059414486457614,null,-1.03579873979922,-2.044876341591449,null,-1.0146658981744763,-2.0265623338898444,null,-1.0262280207263685,-2.036594081444103,null,-1.0383843722612507,-2.047110656669914,null,-1.0001861686745144,-1.9441493027698336,null,-1.038286045909463,-2.0069220009531317,null,-1.016246953925529,-1.9711851385899974,null,-1.0149576672007241,-1.9690471062335066,null,-1.043167784499053,-2.014641308821157,null,-1.0465415225051737,-2.019936727375468,null,-1.0430961224044732,-2.0145284823189007,null,-1.0146777746499496,-1.9685822347238124,null,-1.048176116281252,-2.022491030221982,null,-1.0586392940930722,-2.0386706735536553,null,-1.0613859869287932,-2.042870384078558,null,-1.0636380470959061,-2.046299436159795,null,-1.0658053097854086,-2.0495873113771843,null,-1.0678884392714034,-2.0527365308339,null,-1.0698880672620878,-2.0557494672148513,null,-1.0718047684413718,-2.058628314251588,null,-1.0736390868517585,-2.0613751323797196,null,-1.0753915251334223,-2.0639918378261557,null,-1.0770625502981055,-2.066480216142575,null,-1.078652595920431,-2.0688419298897744,null,-1.0801620665762375,-2.071078529241913,null,-1.081591329816397,-2.0731914437681143,null,-1.0829407328400305,-2.075182010465146,null,-1.0842105939030953,-2.0770514640446938,null,-1.0854012062886225,-2.078800945566627,null,-1.0865128404763669,-2.080431508129696,null,-1.0875457416957495,-2.0819441155570697,null,-1.0885001372661414,-2.083339655211754,null,-1.0893762307187296,-2.0846189312397407,null,-1.0901742083585566,-2.0857826758369713,null,-1.0908942373850148,-2.0868315479870607,null,-1.0915364650931498,-2.0877661336342714,null,-1.0921010232864523,-2.0885869532848766,null,-1.0925880256553828,-2.0892944592171947,null,-1.0929975696584666,-2.0898890391084874,null,-1.0933297365209345,-2.0903710167883873,null,-1.0935845920872653,-2.090740654104126,null,-1.093762186236772,-2.0909981505769246,null,-1.0938625537984745,-2.09114364511303,null,-1.0938857143375582,-2.0911772159597524,null,-1.093831672384328,-2.0910988811870967,null,-1.0937004173883687,-2.0909085986557843,null,-1.0934919236758256,-2.090606265874819,null,-1.093206150464141,-2.0901917198269313,null,-1.09284304139847,-2.089664735983442,null,-1.0924025248838214,-2.0890250283547953,null,-1.09188451257759,-2.088272246748315,null,-1.0912889013254377,-2.0874059789023636,null,-1.0906155700248534,-2.0864257451204598,null,-1.0898643801218177,-2.0853309980446024,null,-1.0890351771920723,-2.084121123877485,null,-1.0881277865600274,-2.082795434763081,null,-1.0871420141418306,-2.081353168613969,null,-1.0860776474548681,-2.0797934890313203,null,-1.084934453405259,-2.0781154803384654,null,-1.0837121751991132,-2.0763181411144283,null,-1.0824105339142742,-2.0744003843566996,null,-1.081029226439052,-2.072361032095182,null,-1.079567924142185,-2.070198810831508,null,-1.0780262687974909,-2.0679123426374755,null,-1.0764038813326913,-2.065500154997323,null,-1.0747003447758015,-2.0629606520597754,null,-1.0729152124280672,-2.0602921229448334,null,-1.0710480033002892,-2.0574927307931548,null,-1.0690981965458737,-2.0545604998254094,null,-1.0670652420278304,-2.051493326224672,null,-1.0649485382391735,-2.048288939400267,null,-1.0627474383933844,-2.0449449049588315,null,-1.0604612587278193,-2.0414586307056353,null,-1.0599426751441394,-2.0406659673906287,null,-1.0619164817149498,-2.043679289048083,null,-1.048904058118473,-2.023626190362295,null,-1.0157491692107827,-1.970360307121447,null,-1.0526500281384301,-2.029444950355601,null,-1.03579873979922,-2.002962504883009,null,-1.0146658981744763,-1.96856250344298,null,-1.0262280207263685,-1.9875554036123466,null,-1.0383843722612507,-2.007078155204084,null],\"type\":\"scatter3d\",\"showlegend\":false},{\"marker\":{\"color\":\"rgba(0, 0, 0, 0.0)\",\"size\":0.01},\"showlegend\":false,\"x\":[0],\"y\":[0],\"z\":[0],\"type\":\"scatter3d\"}],                        {\"template\":{\"data\":{\"histogram2dcontour\":[{\"type\":\"histogram2dcontour\",\"colorbar\":{\"outlinewidth\":0,\"ticks\":\"\"},\"colorscale\":[[0.0,\"#0d0887\"],[0.1111111111111111,\"#46039f\"],[0.2222222222222222,\"#7201a8\"],[0.3333333333333333,\"#9c179e\"],[0.4444444444444444,\"#bd3786\"],[0.5555555555555556,\"#d8576b\"],[0.6666666666666666,\"#ed7953\"],[0.7777777777777778,\"#fb9f3a\"],[0.8888888888888888,\"#fdca26\"],[1.0,\"#f0f921\"]]}],\"choropleth\":[{\"type\":\"choropleth\",\"colorbar\":{\"outlinewidth\":0,\"ticks\":\"\"}}],\"histogram2d\":[{\"type\":\"histogram2d\",\"colorbar\":{\"outlinewidth\":0,\"ticks\":\"\"},\"colorscale\":[[0.0,\"#0d0887\"],[0.1111111111111111,\"#46039f\"],[0.2222222222222222,\"#7201a8\"],[0.3333333333333333,\"#9c179e\"],[0.4444444444444444,\"#bd3786\"],[0.5555555555555556,\"#d8576b\"],[0.6666666666666666,\"#ed7953\"],[0.7777777777777778,\"#fb9f3a\"],[0.8888888888888888,\"#fdca26\"],[1.0,\"#f0f921\"]]}],\"heatmap\":[{\"type\":\"heatmap\",\"colorbar\":{\"outlinewidth\":0,\"ticks\":\"\"},\"colorscale\":[[0.0,\"#0d0887\"],[0.1111111111111111,\"#46039f\"],[0.2222222222222222,\"#7201a8\"],[0.3333333333333333,\"#9c179e\"],[0.4444444444444444,\"#bd3786\"],[0.5555555555555556,\"#d8576b\"],[0.6666666666666666,\"#ed7953\"],[0.7777777777777778,\"#fb9f3a\"],[0.8888888888888888,\"#fdca26\"],[1.0,\"#f0f921\"]]}],\"heatmapgl\":[{\"type\":\"heatmapgl\",\"colorbar\":{\"outlinewidth\":0,\"ticks\":\"\"},\"colorscale\":[[0.0,\"#0d0887\"],[0.1111111111111111,\"#46039f\"],[0.2222222222222222,\"#7201a8\"],[0.3333333333333333,\"#9c179e\"],[0.4444444444444444,\"#bd3786\"],[0.5555555555555556,\"#d8576b\"],[0.6666666666666666,\"#ed7953\"],[0.7777777777777778,\"#fb9f3a\"],[0.8888888888888888,\"#fdca26\"],[1.0,\"#f0f921\"]]}],\"contourcarpet\":[{\"type\":\"contourcarpet\",\"colorbar\":{\"outlinewidth\":0,\"ticks\":\"\"}}],\"contour\":[{\"type\":\"contour\",\"colorbar\":{\"outlinewidth\":0,\"ticks\":\"\"},\"colorscale\":[[0.0,\"#0d0887\"],[0.1111111111111111,\"#46039f\"],[0.2222222222222222,\"#7201a8\"],[0.3333333333333333,\"#9c179e\"],[0.4444444444444444,\"#bd3786\"],[0.5555555555555556,\"#d8576b\"],[0.6666666666666666,\"#ed7953\"],[0.7777777777777778,\"#fb9f3a\"],[0.8888888888888888,\"#fdca26\"],[1.0,\"#f0f921\"]]}],\"surface\":[{\"type\":\"surface\",\"colorbar\":{\"outlinewidth\":0,\"ticks\":\"\"},\"colorscale\":[[0.0,\"#0d0887\"],[0.1111111111111111,\"#46039f\"],[0.2222222222222222,\"#7201a8\"],[0.3333333333333333,\"#9c179e\"],[0.4444444444444444,\"#bd3786\"],[0.5555555555555556,\"#d8576b\"],[0.6666666666666666,\"#ed7953\"],[0.7777777777777778,\"#fb9f3a\"],[0.8888888888888888,\"#fdca26\"],[1.0,\"#f0f921\"]]}],\"mesh3d\":[{\"type\":\"mesh3d\",\"colorbar\":{\"outlinewidth\":0,\"ticks\":\"\"}}],\"scatter\":[{\"fillpattern\":{\"fillmode\":\"overlay\",\"size\":10,\"solidity\":0.2},\"type\":\"scatter\"}],\"parcoords\":[{\"type\":\"parcoords\",\"line\":{\"colorbar\":{\"outlinewidth\":0,\"ticks\":\"\"}}}],\"scatterpolargl\":[{\"type\":\"scatterpolargl\",\"marker\":{\"colorbar\":{\"outlinewidth\":0,\"ticks\":\"\"}}}],\"bar\":[{\"error_x\":{\"color\":\"#2a3f5f\"},\"error_y\":{\"color\":\"#2a3f5f\"},\"marker\":{\"line\":{\"color\":\"#E5ECF6\",\"width\":0.5},\"pattern\":{\"fillmode\":\"overlay\",\"size\":10,\"solidity\":0.2}},\"type\":\"bar\"}],\"scattergeo\":[{\"type\":\"scattergeo\",\"marker\":{\"colorbar\":{\"outlinewidth\":0,\"ticks\":\"\"}}}],\"scatterpolar\":[{\"type\":\"scatterpolar\",\"marker\":{\"colorbar\":{\"outlinewidth\":0,\"ticks\":\"\"}}}],\"histogram\":[{\"marker\":{\"pattern\":{\"fillmode\":\"overlay\",\"size\":10,\"solidity\":0.2}},\"type\":\"histogram\"}],\"scattergl\":[{\"type\":\"scattergl\",\"marker\":{\"colorbar\":{\"outlinewidth\":0,\"ticks\":\"\"}}}],\"scatter3d\":[{\"type\":\"scatter3d\",\"line\":{\"colorbar\":{\"outlinewidth\":0,\"ticks\":\"\"}},\"marker\":{\"colorbar\":{\"outlinewidth\":0,\"ticks\":\"\"}}}],\"scattermapbox\":[{\"type\":\"scattermapbox\",\"marker\":{\"colorbar\":{\"outlinewidth\":0,\"ticks\":\"\"}}}],\"scatterternary\":[{\"type\":\"scatterternary\",\"marker\":{\"colorbar\":{\"outlinewidth\":0,\"ticks\":\"\"}}}],\"scattercarpet\":[{\"type\":\"scattercarpet\",\"marker\":{\"colorbar\":{\"outlinewidth\":0,\"ticks\":\"\"}}}],\"carpet\":[{\"aaxis\":{\"endlinecolor\":\"#2a3f5f\",\"gridcolor\":\"white\",\"linecolor\":\"white\",\"minorgridcolor\":\"white\",\"startlinecolor\":\"#2a3f5f\"},\"baxis\":{\"endlinecolor\":\"#2a3f5f\",\"gridcolor\":\"white\",\"linecolor\":\"white\",\"minorgridcolor\":\"white\",\"startlinecolor\":\"#2a3f5f\"},\"type\":\"carpet\"}],\"table\":[{\"cells\":{\"fill\":{\"color\":\"#EBF0F8\"},\"line\":{\"color\":\"white\"}},\"header\":{\"fill\":{\"color\":\"#C8D4E3\"},\"line\":{\"color\":\"white\"}},\"type\":\"table\"}],\"barpolar\":[{\"marker\":{\"line\":{\"color\":\"#E5ECF6\",\"width\":0.5},\"pattern\":{\"fillmode\":\"overlay\",\"size\":10,\"solidity\":0.2}},\"type\":\"barpolar\"}],\"pie\":[{\"automargin\":true,\"type\":\"pie\"}]},\"layout\":{\"autotypenumbers\":\"strict\",\"colorway\":[\"#636efa\",\"#EF553B\",\"#00cc96\",\"#ab63fa\",\"#FFA15A\",\"#19d3f3\",\"#FF6692\",\"#B6E880\",\"#FF97FF\",\"#FECB52\"],\"font\":{\"color\":\"#2a3f5f\"},\"hovermode\":\"closest\",\"hoverlabel\":{\"align\":\"left\"},\"paper_bgcolor\":\"white\",\"plot_bgcolor\":\"#E5ECF6\",\"polar\":{\"bgcolor\":\"#E5ECF6\",\"angularaxis\":{\"gridcolor\":\"white\",\"linecolor\":\"white\",\"ticks\":\"\"},\"radialaxis\":{\"gridcolor\":\"white\",\"linecolor\":\"white\",\"ticks\":\"\"}},\"ternary\":{\"bgcolor\":\"#E5ECF6\",\"aaxis\":{\"gridcolor\":\"white\",\"linecolor\":\"white\",\"ticks\":\"\"},\"baxis\":{\"gridcolor\":\"white\",\"linecolor\":\"white\",\"ticks\":\"\"},\"caxis\":{\"gridcolor\":\"white\",\"linecolor\":\"white\",\"ticks\":\"\"}},\"coloraxis\":{\"colorbar\":{\"outlinewidth\":0,\"ticks\":\"\"}},\"colorscale\":{\"sequential\":[[0.0,\"#0d0887\"],[0.1111111111111111,\"#46039f\"],[0.2222222222222222,\"#7201a8\"],[0.3333333333333333,\"#9c179e\"],[0.4444444444444444,\"#bd3786\"],[0.5555555555555556,\"#d8576b\"],[0.6666666666666666,\"#ed7953\"],[0.7777777777777778,\"#fb9f3a\"],[0.8888888888888888,\"#fdca26\"],[1.0,\"#f0f921\"]],\"sequentialminus\":[[0.0,\"#0d0887\"],[0.1111111111111111,\"#46039f\"],[0.2222222222222222,\"#7201a8\"],[0.3333333333333333,\"#9c179e\"],[0.4444444444444444,\"#bd3786\"],[0.5555555555555556,\"#d8576b\"],[0.6666666666666666,\"#ed7953\"],[0.7777777777777778,\"#fb9f3a\"],[0.8888888888888888,\"#fdca26\"],[1.0,\"#f0f921\"]],\"diverging\":[[0,\"#8e0152\"],[0.1,\"#c51b7d\"],[0.2,\"#de77ae\"],[0.3,\"#f1b6da\"],[0.4,\"#fde0ef\"],[0.5,\"#f7f7f7\"],[0.6,\"#e6f5d0\"],[0.7,\"#b8e186\"],[0.8,\"#7fbc41\"],[0.9,\"#4d9221\"],[1,\"#276419\"]]},\"xaxis\":{\"gridcolor\":\"white\",\"linecolor\":\"white\",\"ticks\":\"\",\"title\":{\"standoff\":15},\"zerolinecolor\":\"white\",\"automargin\":true,\"zerolinewidth\":2},\"yaxis\":{\"gridcolor\":\"white\",\"linecolor\":\"white\",\"ticks\":\"\",\"title\":{\"standoff\":15},\"zerolinecolor\":\"white\",\"automargin\":true,\"zerolinewidth\":2},\"scene\":{\"xaxis\":{\"backgroundcolor\":\"#E5ECF6\",\"gridcolor\":\"white\",\"linecolor\":\"white\",\"showbackground\":true,\"ticks\":\"\",\"zerolinecolor\":\"white\",\"gridwidth\":2},\"yaxis\":{\"backgroundcolor\":\"#E5ECF6\",\"gridcolor\":\"white\",\"linecolor\":\"white\",\"showbackground\":true,\"ticks\":\"\",\"zerolinecolor\":\"white\",\"gridwidth\":2},\"zaxis\":{\"backgroundcolor\":\"#E5ECF6\",\"gridcolor\":\"white\",\"linecolor\":\"white\",\"showbackground\":true,\"ticks\":\"\",\"zerolinecolor\":\"white\",\"gridwidth\":2}},\"shapedefaults\":{\"line\":{\"color\":\"#2a3f5f\"}},\"annotationdefaults\":{\"arrowcolor\":\"#2a3f5f\",\"arrowhead\":0,\"arrowwidth\":1},\"geo\":{\"bgcolor\":\"white\",\"landcolor\":\"#E5ECF6\",\"subunitcolor\":\"white\",\"showland\":true,\"showlakes\":true,\"lakecolor\":\"white\"},\"title\":{\"x\":0.05},\"mapbox\":{\"style\":\"light\"}}},\"margin\":{\"l\":0,\"r\":0,\"t\":0,\"b\":0},\"legend\":{\"y\":0.96},\"scene\":{\"aspectmode\":\"data\"}},                        {\"responsive\": true}                    ).then(function(){\n",
       "                            \n",
       "var gd = document.getElementById('b0948bf2-7169-461e-ac23-a6585eae2818');\n",
       "var x = new MutationObserver(function (mutations, observer) {{\n",
       "        var display = window.getComputedStyle(gd).display;\n",
       "        if (!display || display === 'none') {{\n",
       "            console.log([gd, 'removed!']);\n",
       "            Plotly.purge(gd);\n",
       "            observer.disconnect();\n",
       "        }}\n",
       "}});\n",
       "\n",
       "// Listen for the removal of the full notebook cells\n",
       "var notebookContainer = gd.closest('#notebook-container');\n",
       "if (notebookContainer) {{\n",
       "    x.observe(notebookContainer, {childList: true});\n",
       "}}\n",
       "\n",
       "// Listen for the clearing of the current output cell\n",
       "var outputEl = gd.closest('.output');\n",
       "if (outputEl) {{\n",
       "    x.observe(outputEl, {childList: true});\n",
       "}}\n",
       "\n",
       "                        })                };                });            </script>        </div>"
      ]
     },
     "metadata": {},
     "output_type": "display_data"
    }
   ],
   "source": [
    "rays.fig"
   ]
  },
  {
   "cell_type": "code",
   "execution_count": null,
   "metadata": {},
   "outputs": [],
   "source": [
    "import visu3d \n",
    "from utils.xyz import rays_single_cam\n",
    "rays = rays_single_cam([400,400,1111]).T.numpy()\n"
   ]
  },
  {
   "cell_type": "code",
   "execution_count": null,
   "metadata": {},
   "outputs": [],
   "source": [
    "normals = np.zeros_like(rays)\n",
    "normals[:,2] =-1"
   ]
  },
  {
   "cell_type": "code",
   "execution_count": null,
   "metadata": {},
   "outputs": [],
   "source": [
    "t = refract(rays, normals, 1/1.5)\n",
    "\n"
   ]
  },
  {
   "cell_type": "code",
   "execution_count": null,
   "metadata": {},
   "outputs": [],
   "source": [
    "import visu3d as v3d \n",
    "\n",
    "origins = np.concatenate((np.zeros_like(rays), rays),axis=0)\n",
    "dirs = np.concatenate((rays, t),axis=0)\n",
    "rays_viz = v3d.Ray(pos=origins, dir=dirs)"
   ]
  },
  {
   "cell_type": "code",
   "execution_count": null,
   "metadata": {},
   "outputs": [],
   "source": [
    "rays_viz.fig"
   ]
  }
 ],
 "metadata": {
  "kernelspec": {
   "display_name": "Python 3.8.10 64-bit",
   "language": "python",
   "name": "python3"
  },
  "language_info": {
   "codemirror_mode": {
    "name": "ipython",
    "version": 3
   },
   "file_extension": ".py",
   "mimetype": "text/x-python",
   "name": "python",
   "nbconvert_exporter": "python",
   "pygments_lexer": "ipython3",
   "version": "3.8.10"
  },
  "orig_nbformat": 4,
  "vscode": {
   "interpreter": {
    "hash": "31f2aee4e71d21fbe5cf8b01ff0e069b9275f58929596ceb00d14d90e3e16cd6"
   }
  }
 },
 "nbformat": 4,
 "nbformat_minor": 2
}
